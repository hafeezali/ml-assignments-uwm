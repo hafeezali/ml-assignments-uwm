{
 "cells": [
  {
   "cell_type": "code",
   "execution_count": 1,
   "id": "42e44563",
   "metadata": {},
   "outputs": [],
   "source": [
    "import numpy as np\n",
    "import matplotlib.pyplot as plt"
   ]
  },
  {
   "cell_type": "code",
   "execution_count": 2,
   "id": "46974455",
   "metadata": {},
   "outputs": [
    {
     "data": {
      "text/plain": [
       "array([ 0.57355948,  3.55370009,  8.99846862, 10.41818117,  6.50601922,\n",
       "        2.80071195,  6.05481558,  5.42216819,  4.25082765,  2.65868756,\n",
       "        9.94363861,  9.15420508, 12.08960406,  2.83341183,  7.1397579 ,\n",
       "       12.38928411, 10.93472502,  9.99980163, 11.21496411,  4.88446753,\n",
       "        3.90257799, 12.33248275,  9.08518457, 10.99729643, 12.23016526,\n",
       "        8.13237613,  4.27016692, 10.40884416, 12.07860524,  1.61404033,\n",
       "       11.99025736,  6.12922832,  0.54111364,  5.82642572,  2.20597226,\n",
       "        4.47657826,  8.78191598,  9.82789083,  6.01928556,  6.85274045,\n",
       "        1.53219196,  9.47261954,  9.56519072,  1.49258534,  4.25940495,\n",
       "        1.13080716,  4.00153043,  0.1249245 ,  1.21906662,  0.43005789,\n",
       "        5.85428116,  0.93355278,  9.86409726,  3.64936983, 12.52908045,\n",
       "        6.39053991, 11.5716151 ,  4.44167399,  1.72384936,  3.16915335,\n",
       "       10.03101864,  5.89127403,  8.59679175,  0.15926922,  4.12091828,\n",
       "       12.35698544,  5.45763764,  2.36469447,  4.90183796, 11.36694959,\n",
       "       12.56128566,  3.68550905,  6.81353443, 11.69299778,  0.18803391,\n",
       "       10.6202195 , 11.77367397,  1.24710223,  8.71921713, 11.12064598,\n",
       "        4.09325729,  5.75184816,  4.38119977,  7.77687892,  5.96854726,\n",
       "        7.59294365,  6.46110798,  2.70052142,  2.02654367,  4.85230076,\n",
       "       10.1320102 ,  4.15795811,  1.27109433,  6.85890851, 10.65593528,\n",
       "        2.71596818,  2.1945914 ,  8.9828223 ,  9.27401152,  0.02988815,\n",
       "       11.39220855,  1.38512321, 10.73110253,  4.01426604,  1.88170972,\n",
       "        5.10657555,  7.58978658,  3.86665065,  5.17933769,  5.6195432 ,\n",
       "        7.479151  ,  8.35659255,  6.81593549,  9.68046683, 11.79239127,\n",
       "        1.89101935,  0.60900125,  6.23512028, 11.88594043,  9.95061018])"
      ]
     },
     "execution_count": 2,
     "metadata": {},
     "output_type": "execute_result"
    }
   ],
   "source": [
    "uniform_dist = np.random.uniform(low=0.0, high=4*np.pi, size=120)\n",
    "uniform_dist"
   ]
  },
  {
   "cell_type": "code",
   "execution_count": 3,
   "id": "813515d7",
   "metadata": {},
   "outputs": [
    {
     "data": {
      "text/plain": [
       "array([5.77031427, 4.73761521, 4.92638317, 5.22190139, 5.59343394,\n",
       "       4.06961437, 4.87219746, 5.5780036 , 4.7779359 , 4.71305165,\n",
       "       5.43248022, 5.41887067, 6.13342035, 5.55957282, 5.80922927,\n",
       "       6.34174357, 6.21760545, 4.84010809, 4.77863577, 5.09650841,\n",
       "       4.8769883 , 5.95668819, 5.28220741, 5.29301394, 5.47517442,\n",
       "       5.92964351, 5.44675387, 5.42911608, 5.00488922, 4.81495334,\n",
       "       6.57304555, 5.41910026, 5.1685611 , 5.68783276, 5.87562031,\n",
       "       5.11824311, 4.5165608 , 5.59772196, 5.68246539, 5.7950022 ,\n",
       "       4.53084718, 6.86267001, 5.18837203, 4.28328164, 5.57649375,\n",
       "       5.54744891, 6.28879586, 5.41894741, 5.78220375, 5.71271648,\n",
       "       6.64364581, 5.34659446, 5.30985515, 6.38713209, 5.53850499,\n",
       "       6.70024444, 5.02792317, 5.46728019, 4.83482545, 5.47246725,\n",
       "       5.54013514, 5.54886551, 5.37808388, 4.9609966 , 4.97813298,\n",
       "       5.67850832, 5.94457168, 5.94908752, 5.66726496, 5.42892049,\n",
       "       5.44251109, 5.34991259, 5.82384123, 4.85435933, 5.79338099,\n",
       "       5.36918786, 5.53777682, 5.19116599, 4.99136339, 5.32788672,\n",
       "       4.89556176, 6.35223663, 4.55007   , 5.22892441, 6.08214618,\n",
       "       5.4972841 , 5.23086465, 5.15018577, 6.05701214, 5.10626713,\n",
       "       5.84041029, 5.48766702, 6.16308831, 5.67612555, 5.42507771,\n",
       "       4.95245758, 5.75596184, 5.68806053, 5.94366765, 5.02757803,\n",
       "       5.40312005, 5.88998306, 4.99871307, 4.72212194, 5.17345158,\n",
       "       5.18236966, 4.1474184 , 4.85460963, 5.20247449, 5.31859078,\n",
       "       4.79400454, 5.14566684, 5.43571138, 6.52214673, 5.50014009,\n",
       "       6.48185446, 4.91562293, 5.13875257, 4.91434135, 5.75496843])"
      ]
     },
     "execution_count": 3,
     "metadata": {},
     "output_type": "execute_result"
    }
   ],
   "source": [
    "mu = 2*np.pi - 3*np.pi/10\n",
    "sigma = np.pi/6\n",
    "normal_dist_pb6 = np.random.normal(mu, sigma, 120)\n",
    "normal_dist_pb6 = normal_dist_pb6[normal_dist_pb6 >= 0]\n",
    "normal_dist_pb6 = normal_dist_pb6[normal_dist_pb6 <= 4 * np.pi]\n",
    "normal_dist_pb6"
   ]
  },
  {
   "cell_type": "code",
   "execution_count": 4,
   "id": "734871ae",
   "metadata": {},
   "outputs": [
    {
     "data": {
      "text/plain": [
       "array([ 0.05473169, -0.21453048, -0.86971662,  0.35702839,  0.39446413,\n",
       "       -0.82443277,  0.7556777 ,  0.99668391,  0.46259188, -0.89624211,\n",
       "       -0.10923945, -0.78263732,  0.8935024 , -0.80548852, -0.22627722,\n",
       "        0.72111132,  0.77177548, -0.05326964,  0.91754732,  0.89771541,\n",
       "        0.13227799,  0.75928025, -0.82370353,  0.81002804,  0.82177771,\n",
       "       -0.93939876,  0.47964995,  0.34829132,  0.89838737, -0.83367093,\n",
       "        0.93363582,  0.7048953 ,  0.08709441,  0.88433989, -0.99997649,\n",
       "        0.64930259, -0.95544995, -0.22330684,  0.77846605,  0.05872957,\n",
       "       -0.78572879, -0.54842283, -0.46877705, -0.76061948,  0.47017916,\n",
       "       -0.48160803,  0.22955383,  0.48240131, -0.55698248,  0.19696435,\n",
       "        0.87099436, -0.30051661, -0.18787604, -0.12024965,  0.61753801,\n",
       "        0.49771642,  0.99863383,  0.62236675, -0.88917127, -0.56526778,\n",
       "       -0.02207606,  0.85222828, -0.993453  ,  0.45203848,  0.34384367,\n",
       "        0.74310847,  0.99317146, -0.98632299,  0.90523259,  0.9671713 ,\n",
       "        0.59189145, -0.08430196,  0.09781276,  0.9976132 ,  0.42619696,\n",
       "        0.53720768,  0.98880376, -0.58004481, -0.9720662 ,  0.87602132,\n",
       "        0.31774103,  0.91666555,  0.57392317, -0.7613385 ,  0.80929832,\n",
       "       -0.62991193,  0.43532195, -0.87690735, -0.98514651,  0.88308156,\n",
       "        0.07883183,  0.37838127, -0.59941959,  0.05257108,  0.56698315,\n",
       "       -0.8693784 , -0.99998977, -0.87733212, -0.70262862,  0.56334632,\n",
       "        0.97328104, -0.68660185,  0.62724132,  0.2419304 , -0.95004848,\n",
       "        0.97271609, -0.6274568 ,  0.09658865,  0.98700812,  0.96137655,\n",
       "       -0.5376497 , -0.9921092 ,  0.09542294, -0.36406588,  0.98583769,\n",
       "       -0.95291282,  0.01931607,  0.62597687,  0.96586155, -0.10230699])"
      ]
     },
     "execution_count": 4,
     "metadata": {},
     "output_type": "execute_result"
    }
   ],
   "source": [
    "uniform_dist_y = np.cos(uniform_dist + 3*np.pi/10)\n",
    "uniform_dist_y"
   ]
  },
  {
   "cell_type": "code",
   "execution_count": 5,
   "id": "77d8c24d",
   "metadata": {},
   "outputs": [
    {
     "data": {
      "text/plain": [
       "<matplotlib.collections.PathCollection at 0x7fbd029c4d30>"
      ]
     },
     "execution_count": 5,
     "metadata": {},
     "output_type": "execute_result"
    },
    {
     "data": {
      "image/png": "[encoded data removed]",
      "text/plain": [
       "<Figure size 432x288 with 1 Axes>"
      ]
     },
     "metadata": {
      "needs_background": "light"
     },
     "output_type": "display_data"
    }
   ],
   "source": [
    "plt.scatter(uniform_dist, uniform_dist_y, c = 'b')"
   ]
  },
  {
   "cell_type": "code",
   "execution_count": 6,
   "id": "74e05dfb",
   "metadata": {},
   "outputs": [
    {
     "data": {
      "text/plain": [
       "array([0.90912961, 0.82358563, 0.91538853, 0.99295085, 0.96823429,\n",
       "       0.29523664, 0.89224208, 0.97197715, 0.84577962, 0.80940632,\n",
       "       0.99579184, 0.99694681, 0.70191565, 0.97614444, 0.89223679,\n",
       "       0.53943021, 0.63953895, 0.87729503, 0.84615281, 0.97033128,\n",
       "       0.89439517, 0.81620725, 0.99828936, 0.99886288, 0.99097294,\n",
       "       0.83153218, 0.99438235, 0.99609451, 0.94414097, 0.8649457 ,\n",
       "       0.33203324, 0.99692886, 0.98521936, 0.94035457, 0.86031308,\n",
       "       0.97535668, 0.6791835 , 0.9671532 , 0.94216698, 0.89857076,\n",
       "       0.68959959, 0.04881442, 0.98841937, 0.49111601, 0.97233097,\n",
       "       0.97870501, 0.58323699, 0.99694082, 0.90411334, 0.93159899,\n",
       "       0.26466645, 0.99998267, 0.9995241 , 0.50066927, 0.98050177,\n",
       "       0.20969146, 0.95148049, 0.99200037, 0.87474739, 0.99133224,\n",
       "       0.98018013, 0.97841324, 0.99930158, 0.92877183, 0.93498678,\n",
       "       0.94348579, 0.82314758, 0.82057498, 0.94715227, 0.99611176,\n",
       "       0.99482249, 0.99995763, 0.88554348, 0.88404561, 0.89928101,\n",
       "       0.99959446, 0.98064461, 0.98883949, 0.93959741, 0.99991781,\n",
       "       0.90254791, 0.5305652 , 0.70339231, 0.99375877, 0.73749772,\n",
       "       0.98776691, 0.99397334, 0.98190557, 0.75423726, 0.97264449,\n",
       "       0.87772502, 0.98922087, 0.68047856, 0.94427279, 0.99644295,\n",
       "       0.925573  , 0.91501375, 0.94027706, 0.82366058, 0.95137423,\n",
       "       0.99805297, 0.85290296, 0.94208767, 0.81469948, 0.9860453 ,\n",
       "       0.98749073, 0.36860436, 0.88416258, 0.99046102, 0.99975544,\n",
       "       0.8542432 , 0.98103979, 0.99549053, 0.37959372, 0.98731753,\n",
       "       0.41655208, 0.91100386, 0.97967632, 0.91047458, 0.91541406])"
      ]
     },
     "execution_count": 6,
     "metadata": {},
     "output_type": "execute_result"
    }
   ],
   "source": [
    "normal_dist_pb6_y = np.cos(normal_dist_pb6 + 3*np.pi/10)\n",
    "normal_dist_pb6_y"
   ]
  },
  {
   "cell_type": "code",
   "execution_count": 7,
   "id": "17d6bc6c",
   "metadata": {},
   "outputs": [
    {
     "data": {
      "text/plain": [
       "<matplotlib.collections.PathCollection at 0x7fbd02a77550>"
      ]
     },
     "execution_count": 7,
     "metadata": {},
     "output_type": "execute_result"
    },
    {
     "data": {
      "image/png": "[encoded data removed]",
      "text/plain": [
       "<Figure size 432x288 with 1 Axes>"
      ]
     },
     "metadata": {
      "needs_background": "light"
     },
     "output_type": "display_data"
    }
   ],
   "source": [
    "plt.scatter(normal_dist_pb6, normal_dist_pb6_y, c = 'b')"
   ]
  },
  {
   "cell_type": "code",
   "execution_count": 8,
   "id": "2ada9c38",
   "metadata": {},
   "outputs": [],
   "source": [
    "def lagrange(x, X, Y):\n",
    "    y = []\n",
    "    for xi in x:\n",
    "        result = 0\n",
    "        for i in range(len(X)):\n",
    "            prod = 1\n",
    "            for j in range(len(X)):\n",
    "                if (i!=j and xi!=X[j]):\n",
    "                    prod = prod * ((xi - X[j])/(X[i]-X[j]))\n",
    "            prod = prod * Y[i]\n",
    "            result = result + prod\n",
    "        y.append(result)\n",
    "    return np.asarray(y)"
   ]
  },
  {
   "cell_type": "code",
   "execution_count": 9,
   "id": "112e454e",
   "metadata": {},
   "outputs": [],
   "source": [
    "# Uniform distribution"
   ]
  },
  {
   "cell_type": "code",
   "execution_count": 10,
   "id": "bf965c5f",
   "metadata": {},
   "outputs": [
    {
     "data": {
      "text/plain": [
       "array([ 0.57355948,  3.55370009,  8.99846862, 10.41818117,  6.50601922,\n",
       "        2.80071195,  6.05481558,  5.42216819,  4.25082765,  2.65868756,\n",
       "        9.94363861,  9.15420508, 12.08960406,  2.83341183,  7.1397579 ,\n",
       "       12.38928411, 10.93472502,  9.99980163, 11.21496411,  4.88446753,\n",
       "        3.90257799, 12.33248275,  9.08518457, 10.99729643, 12.23016526,\n",
       "        8.13237613,  4.27016692, 10.40884416, 12.07860524,  1.61404033,\n",
       "       11.99025736,  6.12922832,  0.54111364,  5.82642572,  2.20597226,\n",
       "        4.47657826,  8.78191598,  9.82789083,  6.01928556,  6.85274045,\n",
       "        1.53219196,  9.47261954,  9.56519072,  1.49258534,  4.25940495,\n",
       "        1.13080716,  4.00153043,  0.1249245 ,  1.21906662,  0.43005789,\n",
       "        5.85428116,  0.93355278,  9.86409726,  3.64936983, 12.52908045,\n",
       "        6.39053991, 11.5716151 ,  4.44167399,  1.72384936,  3.16915335,\n",
       "       10.03101864,  5.89127403,  8.59679175,  0.15926922,  4.12091828,\n",
       "       12.35698544,  5.45763764,  2.36469447,  4.90183796, 11.36694959,\n",
       "       12.56128566,  3.68550905,  6.81353443, 11.69299778,  0.18803391,\n",
       "       10.6202195 , 11.77367397,  1.24710223,  8.71921713, 11.12064598,\n",
       "        4.09325729,  5.75184816,  4.38119977,  7.77687892,  5.96854726,\n",
       "        7.59294365,  6.46110798,  2.70052142,  2.02654367,  4.85230076,\n",
       "       10.1320102 ,  4.15795811,  1.27109433,  6.85890851, 10.65593528,\n",
       "        2.71596818,  2.1945914 ,  8.9828223 ,  9.27401152,  0.02988815])"
      ]
     },
     "execution_count": 10,
     "metadata": {},
     "output_type": "execute_result"
    }
   ],
   "source": [
    "uniform_dist_train = uniform_dist[:100]\n",
    "uniform_dist_train"
   ]
  },
  {
   "cell_type": "code",
   "execution_count": 11,
   "id": "734bacab",
   "metadata": {},
   "outputs": [
    {
     "data": {
      "text/plain": [
       "array([11.39220855,  1.38512321, 10.73110253,  4.01426604,  1.88170972,\n",
       "        5.10657555,  7.58978658,  3.86665065,  5.17933769,  5.6195432 ,\n",
       "        7.479151  ,  8.35659255,  6.81593549,  9.68046683, 11.79239127,\n",
       "        1.89101935,  0.60900125,  6.23512028, 11.88594043,  9.95061018])"
      ]
     },
     "execution_count": 11,
     "metadata": {},
     "output_type": "execute_result"
    }
   ],
   "source": [
    "uniform_dist_test = uniform_dist[100:]\n",
    "uniform_dist_test"
   ]
  },
  {
   "cell_type": "code",
   "execution_count": 12,
   "id": "0e79e738",
   "metadata": {},
   "outputs": [
    {
     "data": {
      "text/plain": [
       "array([ 0.05473169, -0.21453048, -0.86971662,  0.35702839,  0.39446413,\n",
       "       -0.82443277,  0.7556777 ,  0.99668391,  0.46259188, -0.89624211,\n",
       "       -0.10923945, -0.78263732,  0.8935024 , -0.80548852, -0.22627722,\n",
       "        0.72111132,  0.77177548, -0.05326964,  0.91754732,  0.89771541,\n",
       "        0.13227799,  0.75928025, -0.82370353,  0.81002804,  0.82177771,\n",
       "       -0.93939876,  0.47964995,  0.34829132,  0.89838737, -0.83367093,\n",
       "        0.93363582,  0.7048953 ,  0.08709441,  0.88433989, -0.99997649,\n",
       "        0.64930259, -0.95544995, -0.22330684,  0.77846605,  0.05872957,\n",
       "       -0.78572879, -0.54842283, -0.46877705, -0.76061948,  0.47017916,\n",
       "       -0.48160803,  0.22955383,  0.48240131, -0.55698248,  0.19696435,\n",
       "        0.87099436, -0.30051661, -0.18787604, -0.12024965,  0.61753801,\n",
       "        0.49771642,  0.99863383,  0.62236675, -0.88917127, -0.56526778,\n",
       "       -0.02207606,  0.85222828, -0.993453  ,  0.45203848,  0.34384367,\n",
       "        0.74310847,  0.99317146, -0.98632299,  0.90523259,  0.9671713 ,\n",
       "        0.59189145, -0.08430196,  0.09781276,  0.9976132 ,  0.42619696,\n",
       "        0.53720768,  0.98880376, -0.58004481, -0.9720662 ,  0.87602132,\n",
       "        0.31774103,  0.91666555,  0.57392317, -0.7613385 ,  0.80929832,\n",
       "       -0.62991193,  0.43532195, -0.87690735, -0.98514651,  0.88308156,\n",
       "        0.07883183,  0.37838127, -0.59941959,  0.05257108,  0.56698315,\n",
       "       -0.8693784 , -0.99998977, -0.87733212, -0.70262862,  0.56334632])"
      ]
     },
     "execution_count": 12,
     "metadata": {},
     "output_type": "execute_result"
    }
   ],
   "source": [
    "uniform_dist_y_train = uniform_dist_y[:100]\n",
    "uniform_dist_y_train"
   ]
  },
  {
   "cell_type": "code",
   "execution_count": 13,
   "id": "7ef92cae",
   "metadata": {},
   "outputs": [
    {
     "data": {
      "text/plain": [
       "array([ 0.97328104, -0.68660185,  0.62724132,  0.2419304 , -0.95004848,\n",
       "        0.97271609, -0.6274568 ,  0.09658865,  0.98700812,  0.96137655,\n",
       "       -0.5376497 , -0.9921092 ,  0.09542294, -0.36406588,  0.98583769,\n",
       "       -0.95291282,  0.01931607,  0.62597687,  0.96586155, -0.10230699])"
      ]
     },
     "execution_count": 13,
     "metadata": {},
     "output_type": "execute_result"
    }
   ],
   "source": [
    "uniform_dist_y_test = uniform_dist_y[100:]\n",
    "uniform_dist_y_test"
   ]
  },
  {
   "cell_type": "code",
   "execution_count": 14,
   "id": "383d9130",
   "metadata": {},
   "outputs": [
    {
     "data": {
      "text/plain": [
       "array([ 1.47734305e+01, -7.91307869e+00,  6.33986713e-01,  2.41930398e-01,\n",
       "       -9.06900446e-01,  9.72716091e-01, -6.27456796e-01,  9.65886471e-02,\n",
       "        9.87008119e-01,  9.61376551e-01, -5.37649475e-01, -9.92121833e-01,\n",
       "        9.54229392e-02, -3.64065795e-01,  6.85912561e+02, -9.55819681e-01,\n",
       "        2.20067513e+07,  6.25976873e-01, -6.08242947e+03, -1.02306997e-01])"
      ]
     },
     "execution_count": 14,
     "metadata": {},
     "output_type": "execute_result"
    }
   ],
   "source": [
    "uniform_dist_pred = lagrange(uniform_dist_test, uniform_dist_train, uniform_dist_y_train)\n",
    "uniform_dist_pred"
   ]
  },
  {
   "cell_type": "code",
   "execution_count": 15,
   "id": "fe1e234f",
   "metadata": {},
   "outputs": [
    {
     "data": {
      "text/plain": [
       "array([-2.35489852e+08, -4.29060986e-01, -1.73943333e+00,  7.14304582e-01,\n",
       "        7.88928259e-01, -1.64886526e+00,  1.51135541e+00,  1.99336783e+00,\n",
       "        9.25183758e-01, -1.79248692e+00, -2.18476221e-01, -1.56527458e+00,\n",
       "       -1.11289484e+06, -1.61097903e+00, -4.52554387e-01, -3.53684076e+09,\n",
       "       -2.64535883e+00, -1.06537236e-01,  9.99765870e+01,  1.79543083e+00,\n",
       "        2.64555971e-01,  8.74794638e+07, -1.64740731e+00,  8.45339044e+00,\n",
       "        5.64694096e+07, -1.87895710e+00,  9.59299905e-01,  6.97353770e-01,\n",
       "       -4.70205539e+05,  4.64344525e+00,  4.62064477e+06,  1.40979059e+00,\n",
       "        2.74423723e+08,  1.76867977e+00, -2.00011782e+00,  1.29860518e+00,\n",
       "       -1.91089971e+00, -4.46612921e-01,  1.55693209e+00,  1.17459142e-01,\n",
       "       -3.56593594e+00, -1.09685205e+00, -9.37548850e-01, -2.96933298e+00,\n",
       "        9.40358323e-01, -4.00599355e+03,  4.59107653e-01, -5.67254407e+12,\n",
       "       -3.02697109e+02, -9.45519367e+10,  1.74198873e+00,  1.05800665e+07,\n",
       "       -3.75754513e-01, -2.40499311e-01,  5.56339191e+11,  9.95432839e-01,\n",
       "        4.52668594e+04,  1.24473349e+00, -1.27086913e+01, -1.13053101e+00,\n",
       "       -4.41434073e-02,  1.70445655e+00, -1.98688404e+00,  2.33549628e+12,\n",
       "        6.87687343e-01,  1.56184268e+08,  1.98634292e+00, -1.97296759e+00,\n",
       "        1.81046518e+00,  2.46536114e+03, -4.54655326e+12, -1.68603911e-01,\n",
       "        1.95625520e-01, -1.03509786e+05, -2.86391571e+12,  1.13759179e+00,\n",
       "       -2.35878461e+05, -1.48239197e+02, -1.94414301e+00, -2.06855098e+01,\n",
       "        6.35482069e-01,  1.83333111e+00,  1.14784634e+00, -1.52267344e+00,\n",
       "        1.61859664e+00, -1.25974558e+00,  8.70643896e-01, -1.75381430e+00,\n",
       "       -1.98640090e+00,  1.76616312e+00,  1.57873762e-01,  7.56762546e-01,\n",
       "       -1.02888710e+01,  1.05142167e-01,  1.02064577e+00, -1.73875589e+00,\n",
       "       -1.99440443e+00, -1.75466438e+00, -1.40525877e+00, -1.54006876e+14])"
      ]
     },
     "execution_count": 15,
     "metadata": {},
     "output_type": "execute_result"
    }
   ],
   "source": [
    "uniform_dist_train_pred = lagrange(uniform_dist_train, uniform_dist_train, uniform_dist_y_train)\n",
    "uniform_dist_train_pred"
   ]
  },
  {
   "cell_type": "code",
   "execution_count": 16,
   "id": "f6d5db02",
   "metadata": {},
   "outputs": [
    {
     "data": {
      "text/plain": [
       "1700806403111.0098"
      ]
     },
     "execution_count": 16,
     "metadata": {},
     "output_type": "execute_result"
    }
   ],
   "source": [
    "# Train Error\n",
    "np.mean(np.abs(uniform_dist_train_pred - uniform_dist_y_train))"
   ]
  },
  {
   "cell_type": "code",
   "execution_count": 17,
   "id": "a28936db",
   "metadata": {},
   "outputs": [
    {
     "data": {
      "text/plain": [
       "1100677.0316331435"
      ]
     },
     "execution_count": 17,
     "metadata": {},
     "output_type": "execute_result"
    }
   ],
   "source": [
    "# Test Error\n",
    "np.mean(np.abs(uniform_dist_pred - uniform_dist_y_test))"
   ]
  },
  {
   "cell_type": "code",
   "execution_count": 18,
   "id": "722a9b62",
   "metadata": {},
   "outputs": [],
   "source": [
    "# Normal distribution: sigma = pi/6"
   ]
  },
  {
   "cell_type": "code",
   "execution_count": 19,
   "id": "0b6ae1c6",
   "metadata": {
    "scrolled": true
   },
   "outputs": [
    {
     "data": {
      "text/plain": [
       "array([5.77031427, 4.73761521, 4.92638317, 5.22190139, 5.59343394,\n",
       "       4.06961437, 4.87219746, 5.5780036 , 4.7779359 , 4.71305165,\n",
       "       5.43248022, 5.41887067, 6.13342035, 5.55957282, 5.80922927,\n",
       "       6.34174357, 6.21760545, 4.84010809, 4.77863577, 5.09650841,\n",
       "       4.8769883 , 5.95668819, 5.28220741, 5.29301394, 5.47517442,\n",
       "       5.92964351, 5.44675387, 5.42911608, 5.00488922, 4.81495334,\n",
       "       6.57304555, 5.41910026, 5.1685611 , 5.68783276, 5.87562031,\n",
       "       5.11824311, 4.5165608 , 5.59772196, 5.68246539, 5.7950022 ,\n",
       "       4.53084718, 6.86267001, 5.18837203, 4.28328164, 5.57649375,\n",
       "       5.54744891, 6.28879586, 5.41894741, 5.78220375, 5.71271648,\n",
       "       6.64364581, 5.34659446, 5.30985515, 6.38713209, 5.53850499,\n",
       "       6.70024444, 5.02792317, 5.46728019, 4.83482545, 5.47246725,\n",
       "       5.54013514, 5.54886551, 5.37808388, 4.9609966 , 4.97813298,\n",
       "       5.67850832, 5.94457168, 5.94908752, 5.66726496, 5.42892049,\n",
       "       5.44251109, 5.34991259, 5.82384123, 4.85435933, 5.79338099,\n",
       "       5.36918786, 5.53777682, 5.19116599, 4.99136339, 5.32788672,\n",
       "       4.89556176, 6.35223663, 4.55007   , 5.22892441, 6.08214618,\n",
       "       5.4972841 , 5.23086465, 5.15018577, 6.05701214, 5.10626713,\n",
       "       5.84041029, 5.48766702, 6.16308831, 5.67612555, 5.42507771,\n",
       "       4.95245758, 5.75596184, 5.68806053, 5.94366765, 5.02757803])"
      ]
     },
     "execution_count": 19,
     "metadata": {},
     "output_type": "execute_result"
    }
   ],
   "source": [
    "normal_dist_pb6_train = normal_dist_pb6[0:100]\n",
    "normal_dist_pb6_train"
   ]
  },
  {
   "cell_type": "code",
   "execution_count": 20,
   "id": "dad2ee0f",
   "metadata": {},
   "outputs": [
    {
     "data": {
      "text/plain": [
       "array([5.40312005, 5.88998306, 4.99871307, 4.72212194, 5.17345158,\n",
       "       5.18236966, 4.1474184 , 4.85460963, 5.20247449, 5.31859078,\n",
       "       4.79400454, 5.14566684, 5.43571138, 6.52214673, 5.50014009,\n",
       "       6.48185446, 4.91562293, 5.13875257, 4.91434135, 5.75496843])"
      ]
     },
     "execution_count": 20,
     "metadata": {},
     "output_type": "execute_result"
    }
   ],
   "source": [
    "normal_dist_pb6_test = normal_dist_pb6[100:]\n",
    "normal_dist_pb6_test"
   ]
  },
  {
   "cell_type": "code",
   "execution_count": 21,
   "id": "ed77c6d8",
   "metadata": {},
   "outputs": [
    {
     "data": {
      "text/plain": [
       "array([0.90912961, 0.82358563, 0.91538853, 0.99295085, 0.96823429,\n",
       "       0.29523664, 0.89224208, 0.97197715, 0.84577962, 0.80940632,\n",
       "       0.99579184, 0.99694681, 0.70191565, 0.97614444, 0.89223679,\n",
       "       0.53943021, 0.63953895, 0.87729503, 0.84615281, 0.97033128,\n",
       "       0.89439517, 0.81620725, 0.99828936, 0.99886288, 0.99097294,\n",
       "       0.83153218, 0.99438235, 0.99609451, 0.94414097, 0.8649457 ,\n",
       "       0.33203324, 0.99692886, 0.98521936, 0.94035457, 0.86031308,\n",
       "       0.97535668, 0.6791835 , 0.9671532 , 0.94216698, 0.89857076,\n",
       "       0.68959959, 0.04881442, 0.98841937, 0.49111601, 0.97233097,\n",
       "       0.97870501, 0.58323699, 0.99694082, 0.90411334, 0.93159899,\n",
       "       0.26466645, 0.99998267, 0.9995241 , 0.50066927, 0.98050177,\n",
       "       0.20969146, 0.95148049, 0.99200037, 0.87474739, 0.99133224,\n",
       "       0.98018013, 0.97841324, 0.99930158, 0.92877183, 0.93498678,\n",
       "       0.94348579, 0.82314758, 0.82057498, 0.94715227, 0.99611176,\n",
       "       0.99482249, 0.99995763, 0.88554348, 0.88404561, 0.89928101,\n",
       "       0.99959446, 0.98064461, 0.98883949, 0.93959741, 0.99991781,\n",
       "       0.90254791, 0.5305652 , 0.70339231, 0.99375877, 0.73749772,\n",
       "       0.98776691, 0.99397334, 0.98190557, 0.75423726, 0.97264449,\n",
       "       0.87772502, 0.98922087, 0.68047856, 0.94427279, 0.99644295,\n",
       "       0.925573  , 0.91501375, 0.94027706, 0.82366058, 0.95137423])"
      ]
     },
     "execution_count": 21,
     "metadata": {},
     "output_type": "execute_result"
    }
   ],
   "source": [
    "normal_dist_pb6_y_train = normal_dist_pb6_y[0:100]\n",
    "normal_dist_pb6_y_train"
   ]
  },
  {
   "cell_type": "code",
   "execution_count": 22,
   "id": "4373db55",
   "metadata": {},
   "outputs": [
    {
     "data": {
      "text/plain": [
       "array([0.99805297, 0.85290296, 0.94208767, 0.81469948, 0.9860453 ,\n",
       "       0.98749073, 0.36860436, 0.88416258, 0.99046102, 0.99975544,\n",
       "       0.8542432 , 0.98103979, 0.99549053, 0.37959372, 0.98731753,\n",
       "       0.41655208, 0.91100386, 0.97967632, 0.91047458, 0.91541406])"
      ]
     },
     "execution_count": 22,
     "metadata": {},
     "output_type": "execute_result"
    }
   ],
   "source": [
    "normal_dist_pb6_y_test = normal_dist_pb6_y[100:]\n",
    "normal_dist_pb6_y_test"
   ]
  },
  {
   "cell_type": "code",
   "execution_count": 23,
   "id": "b985c03b",
   "metadata": {},
   "outputs": [
    {
     "data": {
      "text/plain": [
       "array([ 9.98052967e-01, -2.22346463e+10, -1.41480714e+07, -1.30787743e+24,\n",
       "        5.14096607e+00,  3.02079169e+00, -2.36188191e+55,  1.46507451e+11,\n",
       "        1.68586873e+00,  9.99693226e-01, -1.10142063e+18, -1.70329541e+02,\n",
       "        9.95490525e-01, -1.65865034e+44,  9.87317525e-01, -1.55501390e+43,\n",
       "       -1.02526828e+11,  7.22879184e+01, -1.55309883e+11,  1.60774195e+00])"
      ]
     },
     "execution_count": 23,
     "metadata": {},
     "output_type": "execute_result"
    }
   ],
   "source": [
    "normal_dist_pb6_pred = lagrange(normal_dist_pb6_test, normal_dist_pb6_train, normal_dist_pb6_y_train)\n",
    "normal_dist_pb6_pred"
   ]
  },
  {
   "cell_type": "code",
   "execution_count": 24,
   "id": "473f54a1",
   "metadata": {},
   "outputs": [
    {
     "data": {
      "text/plain": [
       "array([-5.29890179e+02,  2.06266059e+25,  3.41525060e+11,  1.14643150e+00,\n",
       "        1.93646354e+00, -2.09474156e+59, -7.34331434e+13,  1.94395438e+00,\n",
       "        1.73999209e+20, -3.83185629e+26,  1.99158368e+00,  1.99389363e+00,\n",
       "       -1.13260588e+27,  1.95228889e+00, -1.08211639e+05,  2.72691677e+36,\n",
       "       -9.01857007e+30, -2.96999073e+15, -2.67209155e+19, -1.55086200e+06,\n",
       "        8.52879489e+13, -1.11810563e+14,  2.04937339e+00,  1.99288441e+00,\n",
       "        1.98194588e+00,  8.14152578e+11,  1.98876471e+00,  1.99218902e+00,\n",
       "        5.52714414e+08,  1.72333571e+18, -8.14916832e+47,  1.99385772e+00,\n",
       "       -8.37673805e+02,  1.88065415e+00, -6.86922750e+10, -2.06042736e+05,\n",
       "        1.36280144e+38,  1.93431248e+00,  1.88457719e+00,  4.85442377e+01,\n",
       "        4.66798137e+37, -8.57911626e+59,  1.79251077e+01, -2.00639024e+51,\n",
       "        1.94466195e+00,  1.95741002e+00, -1.70970310e+34,  1.99388164e+00,\n",
       "       -1.45449136e+03,  1.24882675e+00, -9.37341041e+50,  1.99996672e+00,\n",
       "        2.00009707e+00, -1.89640645e+37,  1.96100355e+00,  1.57111496e+53,\n",
       "        3.62749059e+06,  1.98400073e+00,  2.58970307e+16,  1.98266447e+00,\n",
       "        1.96036026e+00,  1.95682648e+00,  1.99860302e+00,  1.20206232e+10,\n",
       "        4.23313867e+06,  1.88697599e+00, -2.62570949e+11,  1.26048739e+12,\n",
       "        1.89419371e+00,  1.99222352e+00,  1.98964498e+00,  1.99991961e+00,\n",
       "        1.48444035e+06,  1.03162041e+15,  6.62248100e+02,  1.99918905e+00,\n",
       "        1.96128921e+00, -8.91321954e+00,  1.52343885e+09,  1.99974101e+00,\n",
       "       -2.72562701e+13, -4.70875788e+36,  1.31612823e+36,  2.09228580e+00,\n",
       "        8.82975391e+22,  1.97553381e+00,  2.09961241e+00, -4.74617006e+03,\n",
       "        4.74746450e+22, -4.23612828e+05,  4.88308673e+07,  1.97844175e+00,\n",
       "       -8.80175247e+27,  1.88866041e+00,  1.99288589e+00, -1.06826343e+11,\n",
       "       -5.78674868e+02,  1.88048730e+00, -3.64792044e+11, -1.89209385e+07])"
      ]
     },
     "execution_count": 24,
     "metadata": {},
     "output_type": "execute_result"
    }
   ],
   "source": [
    "normal_dist_pb6_train_pred = lagrange(normal_dist_pb6_train, normal_dist_pb6_train, normal_dist_pb6_y_train)\n",
    "normal_dist_pb6_train_pred"
   ]
  },
  {
   "cell_type": "code",
   "execution_count": 25,
   "id": "dca92539",
   "metadata": {},
   "outputs": [
    {
     "data": {
      "text/plain": [
       "1.067385941921518e+58"
      ]
     },
     "execution_count": 25,
     "metadata": {},
     "output_type": "execute_result"
    }
   ],
   "source": [
    "# Train Error\n",
    "np.mean(np.abs(normal_dist_pb6_train_pred - normal_dist_pb6_y_train))"
   ]
  },
  {
   "cell_type": "code",
   "execution_count": 26,
   "id": "d27cf8dc",
   "metadata": {},
   "outputs": [
    {
     "data": {
      "text/plain": [
       "1.1809409536427378e+54"
      ]
     },
     "execution_count": 26,
     "metadata": {},
     "output_type": "execute_result"
    }
   ],
   "source": [
    "# Test Error\n",
    "np.mean(np.abs(normal_dist_pb6_pred - normal_dist_pb6_y_test))"
   ]
  },
  {
   "cell_type": "code",
   "execution_count": 27,
   "id": "65e6301a",
   "metadata": {},
   "outputs": [],
   "source": [
    "# Normal distribution: sigma = pi/4"
   ]
  },
  {
   "cell_type": "code",
   "execution_count": 28,
   "id": "79f79766",
   "metadata": {},
   "outputs": [
    {
     "data": {
      "text/plain": [
       "array([6.06685909, 6.11117628, 6.0369238 , 5.5534388 , 4.68353768,\n",
       "       6.97433412, 4.39967262, 6.49723899, 5.51489149, 5.55481461,\n",
       "       6.38090989, 6.34629021, 6.32503621, 5.24184417, 4.56854366,\n",
       "       6.02544323, 5.43208017, 3.8787893 , 5.33971865, 4.51599064,\n",
       "       4.18730509, 7.45930697, 6.90526605, 4.00888894, 6.13477768,\n",
       "       5.55271696, 5.37130651, 5.73579992, 4.69724926, 5.19355261,\n",
       "       5.99533437, 5.44729709, 5.20710006, 5.71302251, 5.98847073,\n",
       "       6.37518413, 5.82555045, 5.95138881, 5.26583915, 4.49141028,\n",
       "       5.37916013, 6.60326463, 5.33380973, 4.19672872, 4.32102553,\n",
       "       5.20424155, 4.35944304, 6.16957748, 5.86402471, 4.80925874,\n",
       "       5.20133027, 4.73451354, 6.60047439, 6.15327053, 5.59282473,\n",
       "       5.48024258, 4.46515651, 5.1151005 , 5.70490187, 5.63173439,\n",
       "       5.43470665, 4.1042551 , 5.49402742, 6.2264268 , 5.44359276,\n",
       "       4.43279879, 3.73875579, 5.91511025, 5.9271391 , 4.98423905,\n",
       "       5.01140493, 5.74864398, 5.03783564, 5.22553592, 4.94584957,\n",
       "       6.63684233, 4.71300252, 4.44355307, 5.84425364, 5.96932616,\n",
       "       5.3748591 , 5.48175879, 6.18196975, 5.44556259, 5.49603384,\n",
       "       5.85854438, 5.67501627, 5.22276031, 4.52020448, 4.88692061,\n",
       "       4.05213865, 4.52665498, 4.40541426, 4.72308376, 4.51484521,\n",
       "       3.86249275, 5.44397246, 5.89525945, 5.7793224 , 6.35353636,\n",
       "       5.42837999, 5.02909592, 6.46742141, 4.63791787, 5.36046644,\n",
       "       5.76200469, 5.49056489, 5.83444482, 7.15158925, 6.41343829,\n",
       "       5.7750187 , 4.38937626, 4.81139677, 5.8034105 , 5.13860887,\n",
       "       4.31006667, 5.27644129, 5.53683348, 4.30926991, 5.26657985])"
      ]
     },
     "execution_count": 28,
     "metadata": {},
     "output_type": "execute_result"
    }
   ],
   "source": [
    "mu = 2*np.pi - 3*np.pi/10\n",
    "sigma = np.pi/4\n",
    "normal_dist_pb4 = np.random.normal(mu, sigma, 120)\n",
    "normal_dist_pb4 = normal_dist_pb4[normal_dist_pb4 >= 0]\n",
    "normal_dist_pb4 = normal_dist_pb4[normal_dist_pb4 <= 4 * np.pi]\n",
    "normal_dist_pb4"
   ]
  },
  {
   "cell_type": "code",
   "execution_count": 29,
   "id": "d1614e2c",
   "metadata": {},
   "outputs": [
    {
     "data": {
      "text/plain": [
       "array([ 0.74773527,  0.71758427,  0.76727424,  0.9774579 ,  0.79172429,\n",
       "       -0.06278895,  0.58895198,  0.40251707,  0.98486829,  0.9771665 ,\n",
       "        0.50604572,  0.53559623,  0.55342237,  0.995117  ,  0.71640266,\n",
       "        0.77458622,  0.99582842,  0.10866313,  0.99999951,  0.67876491,\n",
       "        0.40537947, -0.52081309,  0.00623775,  0.23670955,  0.70094824,\n",
       "        0.97761005,  0.99953189,  0.922961  ,  0.80002571,  0.98919224,\n",
       "        0.79327517,  0.99432471,  0.99108779,  0.93148771,  0.79743547,\n",
       "        0.5109759 ,  0.88474816,  0.81925754,  0.99719867,  0.66051096,\n",
       "        0.99926079,  0.3033813 ,  0.99997621,  0.41397595,  0.52363691,\n",
       "        0.99070296,  0.55597196,  0.67570921,  0.86616616,  0.86207376,\n",
       "        0.99030271,  0.82182243,  0.30603885,  0.68763981,  0.96838644,\n",
       "        0.99028077,  0.64057384,  0.9746585 ,  0.93441103,  0.95794973,\n",
       "        0.99558533,  0.32814948,  0.98826951,  0.63273267,  0.99471198,\n",
       "        0.61539547, -0.03115035,  0.83951696,  0.83292071,  0.93713506,\n",
       "        0.94626811,  0.91794141,  0.95448386,  0.99337508,  0.92305122,\n",
       "        0.27122114,  0.80937747,  0.62383645,  0.87587694,  0.80884055,\n",
       "        0.99941689,  0.99006875,  0.66652237,  0.99450774,  0.9879611 ,\n",
       "        0.86889196,  0.94463734,  0.99305229,  0.68185333,  0.89879348,\n",
       "        0.27849568,  0.68655758,  0.59358245,  0.81525684,  0.67792331,\n",
       "        0.09244937,  0.99467291,  0.85013646,  0.90534077,  0.52946304,\n",
       "        0.99615923,  0.9518407 ,  0.42962949,  0.76304208,  0.9998048 ,\n",
       "        0.91255924,  0.98879238,  0.88056783, -0.23778559,  0.477727  ,\n",
       "        0.9071601 ,  0.58059971,  0.86315531,  0.89484924,  0.97964748,\n",
       "        0.51426934,  0.99793564,  0.98082887,  0.51358586,  0.9972538 ])"
      ]
     },
     "execution_count": 29,
     "metadata": {},
     "output_type": "execute_result"
    }
   ],
   "source": [
    "normal_dist_pb4_y = np.cos(normal_dist_pb4 + 3*np.pi/10)\n",
    "normal_dist_pb4_y"
   ]
  },
  {
   "cell_type": "code",
   "execution_count": 30,
   "id": "ad657d7c",
   "metadata": {},
   "outputs": [
    {
     "data": {
      "text/plain": [
       "<matplotlib.collections.PathCollection at 0x7fbcf0a7b790>"
      ]
     },
     "execution_count": 30,
     "metadata": {},
     "output_type": "execute_result"
    },
    {
     "data": {
      "image/png": "[encoded data removed]",
      "text/plain": [
       "<Figure size 432x288 with 1 Axes>"
      ]
     },
     "metadata": {
      "needs_background": "light"
     },
     "output_type": "display_data"
    }
   ],
   "source": [
    "plt.scatter(normal_dist_pb4, normal_dist_pb4_y, c = 'b')"
   ]
  },
  {
   "cell_type": "code",
   "execution_count": 31,
   "id": "d98776f1",
   "metadata": {},
   "outputs": [
    {
     "data": {
      "text/plain": [
       "array([ 9.96159229e-01, -2.03734752e+02, -3.28423601e+21, -4.04743422e+10,\n",
       "        9.99804799e-01,  9.12550110e-01,  9.88792382e-01,  8.80575733e-01,\n",
       "        1.42053822e+48, -3.96361449e+18,  9.07157219e-01,  5.97069177e+14,\n",
       "       -3.30108501e+07,  8.94793815e-01,  1.03662789e+00,  1.12188287e+20,\n",
       "        9.97936017e-01,  9.80828873e-01, -1.92834778e+19,  9.97253891e-01])"
      ]
     },
     "execution_count": 31,
     "metadata": {},
     "output_type": "execute_result"
    }
   ],
   "source": [
    "normal_dist_pb4_train = normal_dist_pb4[:100]\n",
    "normal_dist_pb4_train\n",
    "\n",
    "normal_dist_pb4_test = normal_dist_pb4[100:]\n",
    "normal_dist_pb4_test\n",
    "\n",
    "normal_dist_pb4_y_train = normal_dist_pb4_y[:100]\n",
    "normal_dist_pb4_y_train\n",
    "\n",
    "normal_dist_pb4_y_test = normal_dist_pb4_y[100:]\n",
    "normal_dist_pb4_y_test\n",
    "\n",
    "normal_dist_pb4_pred = lagrange(normal_dist_pb4_test, normal_dist_pb4_train, normal_dist_pb4_y_train)\n",
    "normal_dist_pb4_pred"
   ]
  },
  {
   "cell_type": "code",
   "execution_count": 32,
   "id": "88a87957",
   "metadata": {},
   "outputs": [
    {
     "data": {
      "text/plain": [
       "array([-5.11112013e+03, -4.57520518e+06,  5.55814050e+02,  1.95491581e+00,\n",
       "        8.08793842e+09, -5.05334018e+43,  2.08714057e+15,  3.24991532e+24,\n",
       "        1.96973657e+00,  1.95433300e+00, -3.42854739e+17, -2.79173129e+15,\n",
       "        3.88363690e+15,  1.99022376e+00, -1.53149424e+12,  2.91001835e+02,\n",
       "        1.99165684e+00,  1.60062498e+38,  1.99999898e+00,  1.54443654e+09,\n",
       "       -3.57317942e+26, -1.18618054e+57, -3.11883951e+39, -1.47193854e+33,\n",
       "        1.00194288e+07,  1.95522010e+00,  1.99906377e+00,  1.84585957e+00,\n",
       "        1.96841285e+09,  1.97835846e+00,  7.85685975e+00,  1.98864941e+00,\n",
       "        1.98217475e+00,  1.86297995e+00,  2.83203138e+00,  1.58259824e+17,\n",
       "        1.76978928e+00,  1.77546394e+00,  1.99441036e+00,  1.09106249e+12,\n",
       "        1.99852158e+00, -9.96718447e+26,  1.99995242e+00, -1.25104418e+26,\n",
       "       -8.67416049e+20,  1.98140585e+00, -1.46452270e+18,  5.60618825e+07,\n",
       "        1.73040964e+00,  5.59571644e+08,  1.98060324e+00,  5.11872106e+08,\n",
       "        6.33044081e+26, -1.94295212e+07,  1.93677265e+00,  1.98056153e+00,\n",
       "       -1.45862108e+13,  3.60047874e+01,  1.86880649e+00,  1.91590264e+00,\n",
       "        1.99117067e+00,  9.25186548e+29,  1.97653902e+00, -2.14744112e+12,\n",
       "        1.98942396e+00,  5.81249457e+13, -2.02255258e+44,  1.64358571e+00,\n",
       "        1.59447176e+00, -1.58068044e+05, -1.17951322e+05,  1.83575121e+00,\n",
       "        1.37592674e+04,  1.98675125e+00,  5.77111135e+06,  1.92277863e+30,\n",
       "        3.56896949e+08, -3.62693878e+13,  1.75186889e+00,  3.16835508e-01,\n",
       "        1.99883378e+00,  1.98013750e+00,  1.02406386e+09,  1.98901548e+00,\n",
       "        1.97592220e+00,  1.73790216e+00,  1.88926824e+00,  1.98610274e+00,\n",
       "       -8.73876955e+08, -1.01785281e+08, -8.25545617e+31,  1.51819582e+10,\n",
       "       -1.78864408e+15,  1.30017895e+09, -2.09309233e+09,  3.15536854e+38,\n",
       "        1.98934582e+00,  1.71810145e+00,  1.81212220e+00,  1.16823176e+15])"
      ]
     },
     "execution_count": 32,
     "metadata": {},
     "output_type": "execute_result"
    }
   ],
   "source": [
    "normal_dist_pb4_train_pred = lagrange(normal_dist_pb4_train, normal_dist_pb4_train, normal_dist_pb4_y_train)\n",
    "normal_dist_pb4_train_pred"
   ]
  },
  {
   "cell_type": "code",
   "execution_count": 33,
   "id": "3f0b4b6b",
   "metadata": {},
   "outputs": [
    {
     "data": {
      "text/plain": [
       "1.1861805350437908e+55"
      ]
     },
     "execution_count": 33,
     "metadata": {},
     "output_type": "execute_result"
    }
   ],
   "source": [
    "# Train Error\n",
    "np.mean(np.abs(normal_dist_pb4_train_pred - normal_dist_pb4_y_train))"
   ]
  },
  {
   "cell_type": "code",
   "execution_count": 34,
   "id": "98316031",
   "metadata": {},
   "outputs": [
    {
     "data": {
      "text/plain": [
       "7.102691120150103e+46"
      ]
     },
     "execution_count": 34,
     "metadata": {},
     "output_type": "execute_result"
    }
   ],
   "source": [
    "# Test Error\n",
    "np.mean(np.abs(normal_dist_pb4_pred - normal_dist_pb4_y_test))"
   ]
  },
  {
   "cell_type": "code",
   "execution_count": 35,
   "id": "629a2ee4",
   "metadata": {},
   "outputs": [],
   "source": [
    "# Normal distribution: sigma = pi/2"
   ]
  },
  {
   "cell_type": "code",
   "execution_count": 36,
   "id": "fca79646",
   "metadata": {},
   "outputs": [
    {
     "data": {
      "text/plain": [
       "array([4.27825504, 4.01330056, 4.51517065, 3.99530483, 6.22375424,\n",
       "       3.90357072, 5.23570636, 6.79115027, 7.62640787, 6.75475087,\n",
       "       3.86105555, 4.19086825, 2.47915011, 8.63926389, 8.70629898,\n",
       "       5.55166434, 5.27153179, 4.49944989, 5.87019363, 6.35502345,\n",
       "       6.26876653, 7.39540283, 3.14679563, 7.11924   , 7.79172942,\n",
       "       6.22896574, 7.44311944, 5.63194001, 9.1141389 , 4.05582179,\n",
       "       5.05525543, 2.81287591, 4.25576333, 4.47876276, 4.74349419,\n",
       "       5.95871742, 5.50913048, 6.04552296, 3.75598677, 3.991685  ,\n",
       "       3.13980836, 3.66110628, 6.42106514, 4.71189232, 2.54116561,\n",
       "       3.63943158, 4.90708854, 5.33361486, 5.95929367, 3.89450795,\n",
       "       3.56575332, 4.43791603, 5.89423472, 6.19912057, 6.46902141,\n",
       "       1.42503313, 6.77020359, 4.99626927, 5.45355369, 3.94414897,\n",
       "       5.74799601, 4.28252363, 4.18034454, 7.68769437, 6.5183564 ,\n",
       "       6.98861756, 6.27622558, 5.66835803, 7.16844654, 5.05242779,\n",
       "       6.38888868, 5.19375793, 4.0351582 , 6.3650134 , 5.27800229,\n",
       "       4.32026407, 3.97194298, 5.77870432, 5.60046551, 3.37646458,\n",
       "       3.05042296, 3.53496477, 7.6932596 , 7.40392722, 4.93363998,\n",
       "       4.01133609, 9.58655451, 2.86152039, 2.64379767, 5.1305017 ,\n",
       "       5.8260534 , 3.93110134, 5.97587614, 4.88042638, 6.08034264,\n",
       "       6.68286059, 4.27503996, 2.89782157, 6.02692735, 5.68149162,\n",
       "       6.16449888, 6.78500535, 4.43140484, 3.36262115, 4.05680031,\n",
       "       8.34950935, 7.14313017, 4.37732179, 5.53906001, 6.39425313,\n",
       "       7.84302927, 3.93175245, 4.0964313 , 7.47889172, 5.79420259,\n",
       "       4.3897572 , 4.73101605, 4.99693854, 5.28345955, 7.45730626])"
      ]
     },
     "execution_count": 36,
     "metadata": {},
     "output_type": "execute_result"
    }
   ],
   "source": [
    "mu = 2*np.pi - 3*np.pi/10\n",
    "sigma = np.pi/2\n",
    "normal_dist_pb2 = np.random.normal(mu, sigma, 120)\n",
    "normal_dist_pb2 = normal_dist_pb2[normal_dist_pb2 >= 0]\n",
    "normal_dist_pb2 = normal_dist_pb2[normal_dist_pb2 <= 4 * np.pi]\n",
    "normal_dist_pb2"
   ]
  },
  {
   "cell_type": "code",
   "execution_count": 37,
   "id": "dde75354",
   "metadata": {},
   "outputs": [
    {
     "data": {
      "text/plain": [
       "array([ 0.48673119,  0.24099348,  0.67816252,  0.22349007,  0.63479996,\n",
       "        0.13326193,  0.99449244,  0.12006322, -0.65554495,  0.15611181,\n",
       "        0.09101822,  0.40863416, -0.9610457 , -0.98770647, -0.97501699,\n",
       "        0.97783101,  0.99760831,  0.66652582,  0.86306674,  0.5282009 ,\n",
       "        0.59938879, -0.46523404, -0.58356802, -0.20624526, -0.77088259,\n",
       "        0.63076455, -0.50692664,  0.95789071, -0.80694286,  0.28203121,\n",
       "        0.95953445, -0.81748764,  0.46696206,  0.65096242,  0.82690589,\n",
       "        0.81503316,  0.98585035,  0.76173114, -0.01392396,  0.21996034,\n",
       "       -0.58922784, -0.10859035,  0.47101292,  0.80872497, -0.94206878,\n",
       "       -0.13010969,  0.90745116,  0.99997485,  0.81469914,  0.12427463,\n",
       "       -0.20274258,  0.61942091,  0.8506756 ,  0.6536393 ,  0.42818413,\n",
       "       -0.71506326,  0.14083052,  0.94126529,  0.99363962,  0.17335751,\n",
       "        0.91819828,  0.49045558,  0.39900673, -0.70056612,  0.38309762,\n",
       "       -0.07703732,  0.59340151,  0.94680106, -0.25412481,  0.95873438,\n",
       "        0.49914792,  0.98922233,  0.26214765,  0.51969203,  0.99803467,\n",
       "        0.52298804,  0.20066021,  0.90560309,  0.96645216, -0.38337394,\n",
       "       -0.65899983, -0.23279087, -0.70452653, -0.47276274,  0.91828579,\n",
       "        0.23908645, -0.44980052, -0.78851507, -0.90274716,  0.97798799,\n",
       "        0.88451364,  0.16049304,  0.80497166,  0.89592765,  0.73871454,\n",
       "        0.22665629,  0.48392014, -0.76567471,  0.77364671,  0.94249289,\n",
       "        0.67944426,  0.12616139,  0.61429614, -0.3961225 ,  0.28296987,\n",
       "       -0.99119625, -0.22956073,  0.57074315,  0.98039256,  0.49449238,\n",
       "       -0.80253096,  0.16113568,  0.32074896, -0.53743107,  0.89892137,\n",
       "        0.58090983,  0.81982473,  0.94149107,  0.99836178, -0.5191041 ])"
      ]
     },
     "execution_count": 37,
     "metadata": {},
     "output_type": "execute_result"
    }
   ],
   "source": [
    "normal_dist_pb2_y = np.cos(normal_dist_pb2 + 3*np.pi/10)\n",
    "normal_dist_pb2_y"
   ]
  },
  {
   "cell_type": "code",
   "execution_count": 38,
   "id": "6293c4da",
   "metadata": {},
   "outputs": [
    {
     "data": {
      "text/plain": [
       "<matplotlib.collections.PathCollection at 0x7fbd105f6460>"
      ]
     },
     "execution_count": 38,
     "metadata": {},
     "output_type": "execute_result"
    },
    {
     "data": {
      "image/png": "[encoded data removed]",
      "text/plain": [
       "<Figure size 432x288 with 1 Axes>"
      ]
     },
     "metadata": {
      "needs_background": "light"
     },
     "output_type": "display_data"
    }
   ],
   "source": [
    "plt.scatter(normal_dist_pb2, normal_dist_pb2_y, c = 'b')"
   ]
  },
  {
   "cell_type": "code",
   "execution_count": 39,
   "id": "40782682",
   "metadata": {},
   "outputs": [
    {
     "data": {
      "text/plain": [
       "array([ 6.79444264e-01, -1.09375000e+00,  6.14296143e-01, -9.42080000e+04,\n",
       "        2.82969868e-01, -2.38318313e+32,  4.19430400e+08,  5.70743149e-01,\n",
       "        9.80392556e-01,  4.94492376e-01, -4.27964463e+22,  1.61135681e-01,\n",
       "        3.20748956e-01, -3.12261302e+14,  8.98921367e-01,  5.80909828e-01,\n",
       "        8.19824732e-01,  9.41491068e-01,  9.98361783e-01, -4.31558314e+13])"
      ]
     },
     "execution_count": 39,
     "metadata": {},
     "output_type": "execute_result"
    }
   ],
   "source": [
    "normal_dist_pb2_train = normal_dist_pb2[:100]\n",
    "normal_dist_pb2_train\n",
    "\n",
    "normal_dist_pb2_test = normal_dist_pb2[100:]\n",
    "normal_dist_pb2_test\n",
    "\n",
    "normal_dist_pb2_y_train = normal_dist_pb2_y[:100]\n",
    "normal_dist_pb2_y_train\n",
    "\n",
    "normal_dist_pb2_y_test = normal_dist_pb2_y[100:]\n",
    "normal_dist_pb2_y_test\n",
    "\n",
    "normal_dist_pb2_pred = lagrange(normal_dist_pb2_test, normal_dist_pb2_train, normal_dist_pb2_y_train)\n",
    "normal_dist_pb2_pred"
   ]
  },
  {
   "cell_type": "code",
   "execution_count": 40,
   "id": "e5d2538b",
   "metadata": {},
   "outputs": [
    {
     "data": {
      "text/plain": [
       "array([ 9.73462375e-01,  4.81986959e-01,  1.35632503e+00,  4.46980140e-01,\n",
       "        1.26959991e+00,  2.66523853e-01,  1.98898488e+00, -3.04000000e+02,\n",
       "       -6.77341384e+18, -4.00000000e+01,  1.82036447e-01,  8.17268312e-01,\n",
       "       -4.83570328e+24,  9.30459597e+36,  2.52553319e+37,  1.95566201e+00,\n",
       "        1.99521663e+00,  1.33305163e+00,  1.72613348e+00,  1.05640181e+00,\n",
       "        1.19877757e+00, -1.81419419e+13,  9.77105060e+10,  8.05306368e+09,\n",
       "       -2.77439031e+22,  1.26152910e+00, -1.42496707e+15,  1.91578142e+00,\n",
       "       -1.45651742e+44,  5.64062415e-01,  1.91906889e+00, -1.17093590e+18,\n",
       "        9.33924129e-01,  1.30192484e+00,  1.65381177e+00,  1.63006632e+00,\n",
       "        1.97170069e+00,  1.52346227e+00, -2.84118652e-02,  4.39920680e-01,\n",
       "       -6.65719931e+10, -7.61718750e-02,  9.42026518e-01,  1.61744993e+00,\n",
       "       -3.77789319e+22, -5.42968750e-01,  1.81490231e+00,  1.99994969e+00,\n",
       "        1.62939827e+00,  2.48549262e-01, -1.05000000e+01,  1.23884182e+00,\n",
       "        1.70135120e+00,  1.30727859e+00,  8.56399059e-01,  3.90263041e+43,\n",
       "        9.00000000e+00,  1.88253058e+00,  1.98727925e+00,  3.46715023e-01,\n",
       "        1.83639656e+00,  9.80911158e-01,  7.98013457e-01,  5.69254993e+18,\n",
       "        7.67791748e-01,  8.38860800e+06,  1.18680301e+00,  1.89360213e+00,\n",
       "        2.14748365e+09,  1.91746875e+00,  9.98295892e-01,  1.97844465e+00,\n",
       "        5.24295298e-01,  1.03938405e+00,  1.99606934e+00,  1.04597607e+00,\n",
       "        4.01320428e-01,  1.81120617e+00,  1.93290433e+00, -5.60988160e+07,\n",
       "        1.92414535e+13,  2.72000000e+02,  4.32345564e+18, -1.09951163e+13,\n",
       "        1.83657158e+00,  4.78172906e-01, -1.38842656e+49,  6.44577697e+16,\n",
       "        1.14369813e+22,  1.95597598e+00,  1.76902728e+00,  3.20986090e-01,\n",
       "        1.60994331e+00,  1.79185531e+00,  1.47742908e+00,  1.62500000e+01,\n",
       "        9.67840278e-01, -2.01254608e+16,  1.54729342e+00,  1.88498577e+00])"
      ]
     },
     "execution_count": 40,
     "metadata": {},
     "output_type": "execute_result"
    }
   ],
   "source": [
    "normal_dist_pb2_train_pred = lagrange(normal_dist_pb2_train, normal_dist_pb2_train, normal_dist_pb2_y_train)\n",
    "normal_dist_pb2_train_pred"
   ]
  },
  {
   "cell_type": "code",
   "execution_count": 41,
   "id": "e1d68a54",
   "metadata": {},
   "outputs": [
    {
     "data": {
      "text/plain": [
       "1.3884450232724312e+47"
      ]
     },
     "execution_count": 41,
     "metadata": {},
     "output_type": "execute_result"
    }
   ],
   "source": [
    "# Train Error\n",
    "np.mean(np.abs(normal_dist_pb2_train_pred - normal_dist_pb2_y_train))"
   ]
  },
  {
   "cell_type": "code",
   "execution_count": 42,
   "id": "bd9da1a3",
   "metadata": {},
   "outputs": [
    {
     "data": {
      "text/plain": [
       "1.191591564428518e+31"
      ]
     },
     "execution_count": 42,
     "metadata": {},
     "output_type": "execute_result"
    }
   ],
   "source": [
    "# Test Error\n",
    "np.mean(np.abs(normal_dist_pb2_pred - normal_dist_pb2_y_test))"
   ]
  },
  {
   "cell_type": "code",
   "execution_count": null,
   "id": "084184d6",
   "metadata": {},
   "outputs": [],
   "source": []
  },
  {
   "cell_type": "code",
   "execution_count": null,
   "id": "1d851224",
   "metadata": {},
   "outputs": [],
   "source": []
  }
 ],
 "metadata": {
  "kernelspec": {
   "display_name": "Python 3 (ipykernel)",
   "language": "python",
   "name": "python3"
  },
  "language_info": {
   "codemirror_mode": {
    "name": "ipython",
    "version": 3
   },
   "file_extension": ".py",
   "mimetype": "text/x-python",
   "name": "python",
   "nbconvert_exporter": "python",
   "pygments_lexer": "ipython3",
   "version": "3.9.12"
  }
 },
 "nbformat": 4,
 "nbformat_minor": 5
}
