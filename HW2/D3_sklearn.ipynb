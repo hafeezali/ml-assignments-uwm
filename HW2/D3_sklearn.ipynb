{
 "cells": [
  {
   "cell_type": "code",
   "execution_count": 161,
   "id": "e07d778a",
   "metadata": {},
   "outputs": [],
   "source": [
    "import pandas as pd\n",
    "import numpy as np\n",
    "from sklearn.tree import DecisionTreeClassifier, export_graphviz, plot_tree\n",
    "from sklearn import metrics\n",
    "import matplotlib.pyplot as plt"
   ]
  },
  {
   "cell_type": "code",
   "execution_count": 120,
   "id": "e38af1d2",
   "metadata": {},
   "outputs": [],
   "source": [
    "# CONSTANTS\n",
    "FEATURE_1 = 'X1'\n",
    "FEATURE_2 = 'X2'\n",
    "CLASS_LABEL_COLUMN_NAME = 'Y'\n",
    "COLUMN_NAMES = [FEATURE_1, FEATURE_2, CLASS_LABEL_COLUMN_NAME] # Assumption is all text files have only 2 features "
   ]
  },
  {
   "cell_type": "code",
   "execution_count": 121,
   "id": "9d7c8e01",
   "metadata": {},
   "outputs": [],
   "source": [
    "def read_csv(file_name, column_names):\n",
    "    return pd.read_csv(file_name, sep=' ', header=None, names=column_names)"
   ]
  },
  {
   "cell_type": "code",
   "execution_count": 122,
   "id": "1b084bb7",
   "metadata": {},
   "outputs": [],
   "source": [
    "Dbig_dataset = read_csv(file_name = 'Dbig.txt', column_names = COLUMN_NAMES)"
   ]
  },
  {
   "cell_type": "code",
   "execution_count": 123,
   "id": "17335cf3",
   "metadata": {},
   "outputs": [],
   "source": [
    "Dbig_permutation = Dbig_dataset.iloc[np.random.RandomState(seed = 3).permutation(len(Dbig_dataset))].reset_index(drop=True)"
   ]
  },
  {
   "cell_type": "code",
   "execution_count": 124,
   "id": "24d04c4f",
   "metadata": {},
   "outputs": [],
   "source": [
    "Dbig_train = Dbig_permutation[0:8192]"
   ]
  },
  {
   "cell_type": "code",
   "execution_count": 125,
   "id": "47f041fa",
   "metadata": {},
   "outputs": [],
   "source": [
    "Dbig_test = Dbig_permutation[8192:]"
   ]
  },
  {
   "cell_type": "code",
   "execution_count": 126,
   "id": "7bc9ed0b",
   "metadata": {},
   "outputs": [],
   "source": [
    "D32 = Dbig_train[0:32]\n",
    "D32_X = D32.loc[:, D32.columns != 'Y']\n",
    "D32_Y = D32.loc[:, D32.columns == 'Y']\n",
    "\n",
    "D128 = Dbig_train[:128]\n",
    "D128_X = D128.loc[:, D128.columns != 'Y']\n",
    "D128_Y = D128.loc[:, D128.columns == 'Y']\n",
    "\n",
    "D512 = Dbig_train[:512]\n",
    "D512_X = D512.loc[:, D512.columns != 'Y']\n",
    "D512_Y = D512.loc[:, D512.columns == 'Y']\n",
    "\n",
    "D2048 = Dbig_train[:2048]\n",
    "D2048_X = D2048.loc[:, D2048.columns != 'Y']\n",
    "D2048_Y = D2048.loc[:, D2048.columns == 'Y']\n",
    "\n",
    "D8192 = Dbig_train[:]\n",
    "D8192_X = D8192.loc[:, D8192.columns != 'Y']\n",
    "D8192_Y = D8192.loc[:, D8192.columns == 'Y']\n",
    "\n",
    "test_X = Dbig_test.loc[:, Dbig_test.columns != 'Y']\n",
    "test_Y = Dbig_test.loc[:, Dbig_test.columns == 'Y']"
   ]
  },
  {
   "cell_type": "code",
   "execution_count": 127,
   "id": "f8734817",
   "metadata": {},
   "outputs": [],
   "source": [
    "D32_d3 = DecisionTreeClassifier(criterion = \"entropy\").fit(D32_X, D32_Y)"
   ]
  },
  {
   "cell_type": "code",
   "execution_count": 128,
   "id": "fe48d8ff",
   "metadata": {},
   "outputs": [
    {
     "data": {
      "text/plain": [
       "[Text(0.3333333333333333, 0.875, 'X[1] <= -0.65\\nentropy = 0.997\\nsamples = 32\\nvalue = [17, 15]'),\n",
       " Text(0.16666666666666666, 0.625, 'entropy = 0.0\\nsamples = 8\\nvalue = [0, 8]'),\n",
       " Text(0.5, 0.625, 'X[0] <= -1.092\\nentropy = 0.871\\nsamples = 24\\nvalue = [17, 7]'),\n",
       " Text(0.3333333333333333, 0.375, 'entropy = 0.0\\nsamples = 5\\nvalue = [0, 5]'),\n",
       " Text(0.6666666666666666, 0.375, 'X[0] <= 1.071\\nentropy = 0.485\\nsamples = 19\\nvalue = [17, 2]'),\n",
       " Text(0.5, 0.125, 'entropy = 0.0\\nsamples = 17\\nvalue = [17, 0]'),\n",
       " Text(0.8333333333333334, 0.125, 'entropy = 0.0\\nsamples = 2\\nvalue = [0, 2]')]"
      ]
     },
     "execution_count": 128,
     "metadata": {},
     "output_type": "execute_result"
    },
    {
     "data": {
      "image/png": "[encoded data removed]",
      "text/plain": [
       "<Figure size 432x288 with 1 Axes>"
      ]
     },
     "metadata": {
      "needs_background": "light"
     },
     "output_type": "display_data"
    }
   ],
   "source": [
    "plot_tree(D32_d3)"
   ]
  },
  {
   "cell_type": "code",
   "execution_count": 129,
   "id": "46ecdf45",
   "metadata": {},
   "outputs": [],
   "source": [
    "D32_pred = D32_d3.predict(test_X)"
   ]
  },
  {
   "cell_type": "code",
   "execution_count": 130,
   "id": "7041358b",
   "metadata": {},
   "outputs": [
    {
     "data": {
      "text/plain": [
       "0.8506637168141593"
      ]
     },
     "execution_count": 130,
     "metadata": {},
     "output_type": "execute_result"
    }
   ],
   "source": [
    "D32_accuracy = metrics.accuracy_score(test_Y, D32_pred)\n",
    "D32_accuracy"
   ]
  },
  {
   "cell_type": "code",
   "execution_count": 149,
   "id": "a0957961",
   "metadata": {},
   "outputs": [
    {
     "data": {
      "text/plain": [
       "7"
      ]
     },
     "execution_count": 149,
     "metadata": {},
     "output_type": "execute_result"
    }
   ],
   "source": [
    "n32 = D32_d3.tree_.node_count\n",
    "n32"
   ]
  },
  {
   "cell_type": "code",
   "execution_count": 131,
   "id": "8e57a279",
   "metadata": {},
   "outputs": [],
   "source": [
    "D128_d3 = DecisionTreeClassifier(criterion = \"entropy\").fit(D128_X, D128_Y)"
   ]
  },
  {
   "cell_type": "code",
   "execution_count": 132,
   "id": "21c37cee",
   "metadata": {},
   "outputs": [
    {
     "data": {
      "text/plain": [
       "[Text(0.5555555555555556, 0.9444444444444444, 'X[1] <= -0.705\\nentropy = 1.0\\nsamples = 128\\nvalue = [63, 65]'),\n",
       " Text(0.4444444444444444, 0.8333333333333334, 'entropy = 0.0\\nsamples = 29\\nvalue = [0, 29]'),\n",
       " Text(0.6666666666666666, 0.8333333333333334, 'X[0] <= -1.063\\nentropy = 0.946\\nsamples = 99\\nvalue = [63, 36]'),\n",
       " Text(0.5555555555555556, 0.7222222222222222, 'entropy = 0.0\\nsamples = 16\\nvalue = [0, 16]'),\n",
       " Text(0.7777777777777778, 0.7222222222222222, 'X[1] <= 1.199\\nentropy = 0.797\\nsamples = 83\\nvalue = [63, 20]'),\n",
       " Text(0.6666666666666666, 0.6111111111111112, 'X[0] <= 1.077\\nentropy = 0.576\\nsamples = 73\\nvalue = [63, 10]'),\n",
       " Text(0.5555555555555556, 0.5, 'X[0] <= -0.112\\nentropy = 0.379\\nsamples = 68\\nvalue = [63, 5]'),\n",
       " Text(0.4444444444444444, 0.3888888888888889, 'X[1] <= -0.304\\nentropy = 0.691\\nsamples = 27\\nvalue = [22, 5]'),\n",
       " Text(0.2222222222222222, 0.2777777777777778, 'X[0] <= -0.547\\nentropy = 1.0\\nsamples = 6\\nvalue = [3, 3]'),\n",
       " Text(0.1111111111111111, 0.16666666666666666, 'entropy = 0.0\\nsamples = 3\\nvalue = [0, 3]'),\n",
       " Text(0.3333333333333333, 0.16666666666666666, 'entropy = 0.0\\nsamples = 3\\nvalue = [3, 0]'),\n",
       " Text(0.6666666666666666, 0.2777777777777778, 'X[1] <= 0.993\\nentropy = 0.454\\nsamples = 21\\nvalue = [19, 2]'),\n",
       " Text(0.5555555555555556, 0.16666666666666666, 'entropy = 0.0\\nsamples = 18\\nvalue = [18, 0]'),\n",
       " Text(0.7777777777777778, 0.16666666666666666, 'X[1] <= 1.183\\nentropy = 0.918\\nsamples = 3\\nvalue = [1, 2]'),\n",
       " Text(0.6666666666666666, 0.05555555555555555, 'entropy = 0.0\\nsamples = 2\\nvalue = [0, 2]'),\n",
       " Text(0.8888888888888888, 0.05555555555555555, 'entropy = 0.0\\nsamples = 1\\nvalue = [1, 0]'),\n",
       " Text(0.6666666666666666, 0.3888888888888889, 'entropy = 0.0\\nsamples = 41\\nvalue = [41, 0]'),\n",
       " Text(0.7777777777777778, 0.5, 'entropy = 0.0\\nsamples = 5\\nvalue = [0, 5]'),\n",
       " Text(0.8888888888888888, 0.6111111111111112, 'entropy = 0.0\\nsamples = 10\\nvalue = [0, 10]')]"
      ]
     },
     "execution_count": 132,
     "metadata": {},
     "output_type": "execute_result"
    },
    {
     "data": {
      "image/png": "[encoded data removed]",
      "text/plain": [
       "<Figure size 432x288 with 1 Axes>"
      ]
     },
     "metadata": {
      "needs_background": "light"
     },
     "output_type": "display_data"
    }
   ],
   "source": [
    "plot_tree(D128_d3)"
   ]
  },
  {
   "cell_type": "code",
   "execution_count": 133,
   "id": "c5a1a33c",
   "metadata": {},
   "outputs": [],
   "source": [
    "D128_pred = D128_d3.predict(test_X)"
   ]
  },
  {
   "cell_type": "code",
   "execution_count": 134,
   "id": "5874ae28",
   "metadata": {},
   "outputs": [
    {
     "data": {
      "text/plain": [
       "0.9231194690265486"
      ]
     },
     "execution_count": 134,
     "metadata": {},
     "output_type": "execute_result"
    }
   ],
   "source": [
    "D128_accuracy = metrics.accuracy_score(test_Y, D128_pred)\n",
    "D128_accuracy"
   ]
  },
  {
   "cell_type": "code",
   "execution_count": 151,
   "id": "bc82ae25",
   "metadata": {},
   "outputs": [
    {
     "data": {
      "text/plain": [
       "19"
      ]
     },
     "execution_count": 151,
     "metadata": {},
     "output_type": "execute_result"
    }
   ],
   "source": [
    "n128 = D128_d3.tree_.node_count\n",
    "n128"
   ]
  },
  {
   "cell_type": "code",
   "execution_count": 135,
   "id": "a33f19e4",
   "metadata": {},
   "outputs": [],
   "source": [
    "D512_d3 = DecisionTreeClassifier(criterion = \"entropy\").fit(D512_X, D512_Y)"
   ]
  },
  {
   "cell_type": "code",
   "execution_count": 136,
   "id": "d21bd4e9",
   "metadata": {},
   "outputs": [
    {
     "data": {
      "text/plain": [
       "[Text(0.296875, 0.9583333333333334, 'X[1] <= -0.645\\nentropy = 0.983\\nsamples = 512\\nvalue = [217, 295]'),\n",
       " Text(0.0625, 0.875, 'X[1] <= -0.885\\nentropy = 0.314\\nsamples = 141\\nvalue = [8, 133]'),\n",
       " Text(0.03125, 0.7916666666666666, 'entropy = 0.0\\nsamples = 91\\nvalue = [0, 91]'),\n",
       " Text(0.09375, 0.7916666666666666, 'X[0] <= -0.239\\nentropy = 0.634\\nsamples = 50\\nvalue = [8, 42]'),\n",
       " Text(0.0625, 0.7083333333333334, 'entropy = 0.0\\nsamples = 24\\nvalue = [0, 24]'),\n",
       " Text(0.125, 0.7083333333333334, 'X[0] <= 0.205\\nentropy = 0.89\\nsamples = 26\\nvalue = [8, 18]'),\n",
       " Text(0.09375, 0.625, 'entropy = 0.0\\nsamples = 8\\nvalue = [8, 0]'),\n",
       " Text(0.15625, 0.625, 'entropy = 0.0\\nsamples = 18\\nvalue = [0, 18]'),\n",
       " Text(0.53125, 0.875, 'X[1] <= 1.221\\nentropy = 0.988\\nsamples = 371\\nvalue = [209, 162]'),\n",
       " Text(0.5, 0.7916666666666666, 'X[0] <= 1.142\\nentropy = 0.923\\nsamples = 316\\nvalue = [209, 107]'),\n",
       " Text(0.46875, 0.7083333333333334, 'X[0] <= -1.014\\nentropy = 0.8\\nsamples = 276\\nvalue = [209, 67]'),\n",
       " Text(0.21875, 0.625, 'X[0] <= -1.13\\nentropy = 0.371\\nsamples = 42\\nvalue = [3, 39]'),\n",
       " Text(0.1875, 0.5416666666666666, 'entropy = 0.0\\nsamples = 31\\nvalue = [0, 31]'),\n",
       " Text(0.25, 0.5416666666666666, 'X[0] <= -1.085\\nentropy = 0.845\\nsamples = 11\\nvalue = [3, 8]'),\n",
       " Text(0.21875, 0.4583333333333333, 'entropy = 0.0\\nsamples = 2\\nvalue = [2, 0]'),\n",
       " Text(0.28125, 0.4583333333333333, 'X[1] <= 0.375\\nentropy = 0.503\\nsamples = 9\\nvalue = [1, 8]'),\n",
       " Text(0.25, 0.375, 'entropy = 0.0\\nsamples = 6\\nvalue = [0, 6]'),\n",
       " Text(0.3125, 0.375, 'X[1] <= 0.81\\nentropy = 0.918\\nsamples = 3\\nvalue = [1, 2]'),\n",
       " Text(0.28125, 0.2916666666666667, 'entropy = 0.0\\nsamples = 1\\nvalue = [1, 0]'),\n",
       " Text(0.34375, 0.2916666666666667, 'entropy = 0.0\\nsamples = 2\\nvalue = [0, 2]'),\n",
       " Text(0.71875, 0.625, 'X[0] <= 0.812\\nentropy = 0.528\\nsamples = 234\\nvalue = [206, 28]'),\n",
       " Text(0.59375, 0.5416666666666666, 'X[1] <= 1.118\\nentropy = 0.378\\nsamples = 205\\nvalue = [190, 15]'),\n",
       " Text(0.46875, 0.4583333333333333, 'X[1] <= -0.21\\nentropy = 0.228\\nsamples = 190\\nvalue = [183, 7]'),\n",
       " Text(0.4375, 0.375, 'X[0] <= -0.806\\nentropy = 0.669\\nsamples = 40\\nvalue = [33, 7]'),\n",
       " Text(0.40625, 0.2916666666666667, 'entropy = 0.0\\nsamples = 5\\nvalue = [0, 5]'),\n",
       " Text(0.46875, 0.2916666666666667, 'X[0] <= 0.565\\nentropy = 0.316\\nsamples = 35\\nvalue = [33, 2]'),\n",
       " Text(0.4375, 0.20833333333333334, 'entropy = 0.0\\nsamples = 28\\nvalue = [28, 0]'),\n",
       " Text(0.5, 0.20833333333333334, 'X[1] <= -0.484\\nentropy = 0.863\\nsamples = 7\\nvalue = [5, 2]'),\n",
       " Text(0.46875, 0.125, 'entropy = 0.0\\nsamples = 2\\nvalue = [0, 2]'),\n",
       " Text(0.53125, 0.125, 'entropy = 0.0\\nsamples = 5\\nvalue = [5, 0]'),\n",
       " Text(0.5, 0.375, 'entropy = 0.0\\nsamples = 150\\nvalue = [150, 0]'),\n",
       " Text(0.71875, 0.4583333333333333, 'X[0] <= 0.29\\nentropy = 0.997\\nsamples = 15\\nvalue = [7, 8]'),\n",
       " Text(0.6875, 0.375, 'X[0] <= -0.407\\nentropy = 0.845\\nsamples = 11\\nvalue = [3, 8]'),\n",
       " Text(0.65625, 0.2916666666666667, 'X[0] <= -0.748\\nentropy = 0.971\\nsamples = 5\\nvalue = [3, 2]'),\n",
       " Text(0.625, 0.20833333333333334, 'X[1] <= 1.128\\nentropy = 0.918\\nsamples = 3\\nvalue = [1, 2]'),\n",
       " Text(0.59375, 0.125, 'entropy = 0.0\\nsamples = 1\\nvalue = [0, 1]'),\n",
       " Text(0.65625, 0.125, 'X[0] <= -0.863\\nentropy = 1.0\\nsamples = 2\\nvalue = [1, 1]'),\n",
       " Text(0.625, 0.041666666666666664, 'entropy = 0.0\\nsamples = 1\\nvalue = [1, 0]'),\n",
       " Text(0.6875, 0.041666666666666664, 'entropy = 0.0\\nsamples = 1\\nvalue = [0, 1]'),\n",
       " Text(0.6875, 0.20833333333333334, 'entropy = 0.0\\nsamples = 2\\nvalue = [2, 0]'),\n",
       " Text(0.71875, 0.2916666666666667, 'entropy = 0.0\\nsamples = 6\\nvalue = [0, 6]'),\n",
       " Text(0.75, 0.375, 'entropy = 0.0\\nsamples = 4\\nvalue = [4, 0]'),\n",
       " Text(0.84375, 0.5416666666666666, 'X[1] <= -0.044\\nentropy = 0.992\\nsamples = 29\\nvalue = [16, 13]'),\n",
       " Text(0.8125, 0.4583333333333333, 'entropy = 0.0\\nsamples = 8\\nvalue = [0, 8]'),\n",
       " Text(0.875, 0.4583333333333333, 'X[0] <= 1.017\\nentropy = 0.792\\nsamples = 21\\nvalue = [16, 5]'),\n",
       " Text(0.8125, 0.375, 'X[1] <= 1.134\\nentropy = 0.391\\nsamples = 13\\nvalue = [12, 1]'),\n",
       " Text(0.78125, 0.2916666666666667, 'entropy = 0.0\\nsamples = 12\\nvalue = [12, 0]'),\n",
       " Text(0.84375, 0.2916666666666667, 'entropy = 0.0\\nsamples = 1\\nvalue = [0, 1]'),\n",
       " Text(0.9375, 0.375, 'X[0] <= 1.108\\nentropy = 1.0\\nsamples = 8\\nvalue = [4, 4]'),\n",
       " Text(0.90625, 0.2916666666666667, 'X[0] <= 1.054\\nentropy = 0.918\\nsamples = 6\\nvalue = [2, 4]'),\n",
       " Text(0.875, 0.20833333333333334, 'X[1] <= 0.905\\nentropy = 1.0\\nsamples = 4\\nvalue = [2, 2]'),\n",
       " Text(0.84375, 0.125, 'entropy = 0.0\\nsamples = 2\\nvalue = [2, 0]'),\n",
       " Text(0.90625, 0.125, 'entropy = 0.0\\nsamples = 2\\nvalue = [0, 2]'),\n",
       " Text(0.9375, 0.20833333333333334, 'entropy = 0.0\\nsamples = 2\\nvalue = [0, 2]'),\n",
       " Text(0.96875, 0.2916666666666667, 'entropy = 0.0\\nsamples = 2\\nvalue = [2, 0]'),\n",
       " Text(0.53125, 0.7083333333333334, 'entropy = 0.0\\nsamples = 40\\nvalue = [0, 40]'),\n",
       " Text(0.5625, 0.7916666666666666, 'entropy = 0.0\\nsamples = 55\\nvalue = [0, 55]')]"
      ]
     },
     "execution_count": 136,
     "metadata": {},
     "output_type": "execute_result"
    },
    {
     "data": {
      "image/png": "[encoded data removed]",
      "text/plain": [
       "<Figure size 432x288 with 1 Axes>"
      ]
     },
     "metadata": {
      "needs_background": "light"
     },
     "output_type": "display_data"
    }
   ],
   "source": [
    "plot_tree(D512_d3)"
   ]
  },
  {
   "cell_type": "code",
   "execution_count": 137,
   "id": "190a9b0d",
   "metadata": {},
   "outputs": [],
   "source": [
    "D512_pred = D512_d3.predict(test_X)"
   ]
  },
  {
   "cell_type": "code",
   "execution_count": 138,
   "id": "c6e60a6e",
   "metadata": {},
   "outputs": [
    {
     "data": {
      "text/plain": [
       "0.952433628318584"
      ]
     },
     "execution_count": 138,
     "metadata": {},
     "output_type": "execute_result"
    }
   ],
   "source": [
    "D512_accuracy = metrics.accuracy_score(test_Y, D512_pred)\n",
    "D512_accuracy"
   ]
  },
  {
   "cell_type": "code",
   "execution_count": 153,
   "id": "b935f2dc",
   "metadata": {},
   "outputs": [
    {
     "data": {
      "text/plain": [
       "57"
      ]
     },
     "execution_count": 153,
     "metadata": {},
     "output_type": "execute_result"
    }
   ],
   "source": [
    "n512 = D512_d3.tree_.node_count\n",
    "n512"
   ]
  },
  {
   "cell_type": "code",
   "execution_count": 139,
   "id": "61051c20",
   "metadata": {},
   "outputs": [],
   "source": [
    "D2048_d3 = DecisionTreeClassifier(criterion = \"entropy\").fit(D2048_X, D2048_Y)"
   ]
  },
  {
   "cell_type": "code",
   "execution_count": 140,
   "id": "50779dcc",
   "metadata": {},
   "outputs": [
    {
     "data": {
      "text/plain": [
       "[Text(0.32710597826086957, 0.9666666666666667, 'X[1] <= -0.71\\nentropy = 0.973\\nsamples = 2048\\nvalue = [826, 1222]'),\n",
       " Text(0.043478260869565216, 0.9, 'X[1] <= -0.955\\nentropy = 0.28\\nsamples = 537\\nvalue = [26, 511]'),\n",
       " Text(0.021739130434782608, 0.8333333333333334, 'entropy = 0.0\\nsamples = 357\\nvalue = [0, 357]'),\n",
       " Text(0.06521739130434782, 0.8333333333333334, 'X[0] <= 0.294\\nentropy = 0.596\\nsamples = 180\\nvalue = [26, 154]'),\n",
       " Text(0.043478260869565216, 0.7666666666666667, 'X[0] <= -0.178\\nentropy = 0.811\\nsamples = 104\\nvalue = [26, 78]'),\n",
       " Text(0.021739130434782608, 0.7, 'entropy = 0.0\\nsamples = 75\\nvalue = [0, 75]'),\n",
       " Text(0.06521739130434782, 0.7, 'X[1] <= -0.872\\nentropy = 0.48\\nsamples = 29\\nvalue = [26, 3]'),\n",
       " Text(0.043478260869565216, 0.6333333333333333, 'X[0] <= 0.099\\nentropy = 0.881\\nsamples = 10\\nvalue = [7, 3]'),\n",
       " Text(0.021739130434782608, 0.5666666666666667, 'entropy = 0.0\\nsamples = 7\\nvalue = [7, 0]'),\n",
       " Text(0.06521739130434782, 0.5666666666666667, 'entropy = 0.0\\nsamples = 3\\nvalue = [0, 3]'),\n",
       " Text(0.08695652173913043, 0.6333333333333333, 'entropy = 0.0\\nsamples = 19\\nvalue = [19, 0]'),\n",
       " Text(0.08695652173913043, 0.7666666666666667, 'entropy = 0.0\\nsamples = 76\\nvalue = [0, 76]'),\n",
       " Text(0.610733695652174, 0.9, 'X[0] <= 1.045\\nentropy = 0.997\\nsamples = 1511\\nvalue = [800, 711]'),\n",
       " Text(0.37907608695652173, 0.8333333333333334, 'X[1] <= 1.233\\nentropy = 0.959\\nsamples = 1285\\nvalue = [795, 490]'),\n",
       " Text(0.35733695652173914, 0.7666666666666667, 'X[0] <= -1.106\\nentropy = 0.866\\nsamples = 1116\\nvalue = [795, 321]'),\n",
       " Text(0.15217391304347827, 0.7, 'X[0] <= -1.139\\nentropy = 0.097\\nsamples = 160\\nvalue = [2, 158]'),\n",
       " Text(0.13043478260869565, 0.6333333333333333, 'entropy = 0.0\\nsamples = 149\\nvalue = [0, 149]'),\n",
       " Text(0.17391304347826086, 0.6333333333333333, 'X[0] <= -1.126\\nentropy = 0.684\\nsamples = 11\\nvalue = [2, 9]'),\n",
       " Text(0.15217391304347827, 0.5666666666666667, 'X[1] <= -0.001\\nentropy = 1.0\\nsamples = 4\\nvalue = [2, 2]'),\n",
       " Text(0.13043478260869565, 0.5, 'entropy = 0.0\\nsamples = 1\\nvalue = [0, 1]'),\n",
       " Text(0.17391304347826086, 0.5, 'X[1] <= 0.74\\nentropy = 0.918\\nsamples = 3\\nvalue = [2, 1]'),\n",
       " Text(0.15217391304347827, 0.43333333333333335, 'entropy = 0.0\\nsamples = 2\\nvalue = [2, 0]'),\n",
       " Text(0.1956521739130435, 0.43333333333333335, 'entropy = 0.0\\nsamples = 1\\nvalue = [0, 1]'),\n",
       " Text(0.1956521739130435, 0.5666666666666667, 'entropy = 0.0\\nsamples = 7\\nvalue = [0, 7]'),\n",
       " Text(0.5625, 0.7, 'X[1] <= -0.177\\nentropy = 0.659\\nsamples = 956\\nvalue = [793, 163]'),\n",
       " Text(0.34782608695652173, 0.6333333333333333, 'X[0] <= -0.528\\nentropy = 0.988\\nsamples = 262\\nvalue = [148, 114]'),\n",
       " Text(0.2391304347826087, 0.5666666666666667, 'X[0] <= -0.806\\nentropy = 0.499\\nsamples = 73\\nvalue = [8, 65]'),\n",
       " Text(0.21739130434782608, 0.5, 'entropy = 0.0\\nsamples = 43\\nvalue = [0, 43]'),\n",
       " Text(0.2608695652173913, 0.5, 'X[1] <= -0.465\\nentropy = 0.837\\nsamples = 30\\nvalue = [8, 22]'),\n",
       " Text(0.2391304347826087, 0.43333333333333335, 'entropy = 0.0\\nsamples = 20\\nvalue = [0, 20]'),\n",
       " Text(0.2826086956521739, 0.43333333333333335, 'X[0] <= -0.758\\nentropy = 0.722\\nsamples = 10\\nvalue = [8, 2]'),\n",
       " Text(0.2608695652173913, 0.36666666666666664, 'X[1] <= -0.306\\nentropy = 0.918\\nsamples = 3\\nvalue = [1, 2]'),\n",
       " Text(0.2391304347826087, 0.3, 'entropy = 0.0\\nsamples = 2\\nvalue = [0, 2]'),\n",
       " Text(0.2826086956521739, 0.3, 'entropy = 0.0\\nsamples = 1\\nvalue = [1, 0]'),\n",
       " Text(0.30434782608695654, 0.36666666666666664, 'entropy = 0.0\\nsamples = 7\\nvalue = [7, 0]'),\n",
       " Text(0.45652173913043476, 0.5666666666666667, 'X[0] <= 0.682\\nentropy = 0.826\\nsamples = 189\\nvalue = [140, 49]'),\n",
       " Text(0.41304347826086957, 0.5, 'X[1] <= -0.529\\nentropy = 0.366\\nsamples = 143\\nvalue = [133, 10]'),\n",
       " Text(0.391304347826087, 0.43333333333333335, 'X[0] <= 0.518\\nentropy = 0.677\\nsamples = 56\\nvalue = [46, 10]'),\n",
       " Text(0.3695652173913043, 0.36666666666666664, 'X[0] <= -0.432\\nentropy = 0.463\\nsamples = 51\\nvalue = [46, 5]'),\n",
       " Text(0.32608695652173914, 0.3, 'X[1] <= -0.608\\nentropy = 0.811\\nsamples = 4\\nvalue = [1, 3]'),\n",
       " Text(0.30434782608695654, 0.23333333333333334, 'entropy = 0.0\\nsamples = 3\\nvalue = [0, 3]'),\n",
       " Text(0.34782608695652173, 0.23333333333333334, 'entropy = 0.0\\nsamples = 1\\nvalue = [1, 0]'),\n",
       " Text(0.41304347826086957, 0.3, 'X[0] <= 0.385\\nentropy = 0.254\\nsamples = 47\\nvalue = [45, 2]'),\n",
       " Text(0.391304347826087, 0.23333333333333334, 'entropy = 0.0\\nsamples = 42\\nvalue = [42, 0]'),\n",
       " Text(0.43478260869565216, 0.23333333333333334, 'X[1] <= -0.625\\nentropy = 0.971\\nsamples = 5\\nvalue = [3, 2]'),\n",
       " Text(0.41304347826086957, 0.16666666666666666, 'entropy = 0.0\\nsamples = 2\\nvalue = [0, 2]'),\n",
       " Text(0.45652173913043476, 0.16666666666666666, 'entropy = 0.0\\nsamples = 3\\nvalue = [3, 0]'),\n",
       " Text(0.41304347826086957, 0.36666666666666664, 'entropy = 0.0\\nsamples = 5\\nvalue = [0, 5]'),\n",
       " Text(0.43478260869565216, 0.43333333333333335, 'entropy = 0.0\\nsamples = 87\\nvalue = [87, 0]'),\n",
       " Text(0.5, 0.5, 'X[0] <= 0.824\\nentropy = 0.615\\nsamples = 46\\nvalue = [7, 39]'),\n",
       " Text(0.4782608695652174, 0.43333333333333335, 'X[1] <= -0.391\\nentropy = 0.918\\nsamples = 21\\nvalue = [7, 14]'),\n",
       " Text(0.45652173913043476, 0.36666666666666664, 'entropy = 0.0\\nsamples = 12\\nvalue = [0, 12]'),\n",
       " Text(0.5, 0.36666666666666664, 'X[0] <= 0.786\\nentropy = 0.764\\nsamples = 9\\nvalue = [7, 2]'),\n",
       " Text(0.4782608695652174, 0.3, 'entropy = 0.0\\nsamples = 6\\nvalue = [6, 0]'),\n",
       " Text(0.5217391304347826, 0.3, 'X[0] <= 0.817\\nentropy = 0.918\\nsamples = 3\\nvalue = [1, 2]'),\n",
       " Text(0.5, 0.23333333333333334, 'entropy = 0.0\\nsamples = 2\\nvalue = [0, 2]'),\n",
       " Text(0.5434782608695652, 0.23333333333333334, 'entropy = 0.0\\nsamples = 1\\nvalue = [1, 0]'),\n",
       " Text(0.5217391304347826, 0.43333333333333335, 'entropy = 0.0\\nsamples = 25\\nvalue = [0, 25]'),\n",
       " Text(0.7771739130434783, 0.6333333333333333, 'X[1] <= 1.039\\nentropy = 0.368\\nsamples = 694\\nvalue = [645, 49]'),\n",
       " Text(0.6630434782608695, 0.5666666666666667, 'X[0] <= -1.015\\nentropy = 0.133\\nsamples = 594\\nvalue = [583, 11]'),\n",
       " Text(0.5869565217391305, 0.5, 'X[1] <= 0.123\\nentropy = 0.855\\nsamples = 25\\nvalue = [18, 7]'),\n",
       " Text(0.5652173913043478, 0.43333333333333335, 'entropy = 0.0\\nsamples = 6\\nvalue = [0, 6]'),\n",
       " Text(0.6086956521739131, 0.43333333333333335, 'X[1] <= 0.852\\nentropy = 0.297\\nsamples = 19\\nvalue = [18, 1]'),\n",
       " Text(0.5869565217391305, 0.36666666666666664, 'entropy = 0.0\\nsamples = 18\\nvalue = [18, 0]'),\n",
       " Text(0.6304347826086957, 0.36666666666666664, 'entropy = 0.0\\nsamples = 1\\nvalue = [0, 1]'),\n",
       " Text(0.7391304347826086, 0.5, 'X[0] <= 1.02\\nentropy = 0.06\\nsamples = 569\\nvalue = [565, 4]'),\n",
       " Text(0.6956521739130435, 0.43333333333333335, 'X[0] <= -0.916\\nentropy = 0.019\\nsamples = 562\\nvalue = [561, 1]'),\n",
       " Text(0.6739130434782609, 0.36666666666666664, 'X[0] <= -0.925\\nentropy = 0.31\\nsamples = 18\\nvalue = [17, 1]'),\n",
       " Text(0.6521739130434783, 0.3, 'entropy = 0.0\\nsamples = 17\\nvalue = [17, 0]'),\n",
       " Text(0.6956521739130435, 0.3, 'entropy = 0.0\\nsamples = 1\\nvalue = [0, 1]'),\n",
       " Text(0.717391304347826, 0.36666666666666664, 'entropy = 0.0\\nsamples = 544\\nvalue = [544, 0]'),\n",
       " Text(0.782608695652174, 0.43333333333333335, 'X[1] <= 0.101\\nentropy = 0.985\\nsamples = 7\\nvalue = [4, 3]'),\n",
       " Text(0.7608695652173914, 0.36666666666666664, 'entropy = 0.0\\nsamples = 2\\nvalue = [0, 2]'),\n",
       " Text(0.8043478260869565, 0.36666666666666664, 'X[1] <= 0.905\\nentropy = 0.722\\nsamples = 5\\nvalue = [4, 1]'),\n",
       " Text(0.782608695652174, 0.3, 'entropy = 0.0\\nsamples = 4\\nvalue = [4, 0]'),\n",
       " Text(0.8260869565217391, 0.3, 'entropy = 0.0\\nsamples = 1\\nvalue = [0, 1]'),\n",
       " Text(0.8913043478260869, 0.5666666666666667, 'X[0] <= -0.89\\nentropy = 0.958\\nsamples = 100\\nvalue = [62, 38]'),\n",
       " Text(0.8695652173913043, 0.5, 'entropy = 0.0\\nsamples = 9\\nvalue = [0, 9]'),\n",
       " Text(0.9130434782608695, 0.5, 'X[0] <= 0.941\\nentropy = 0.903\\nsamples = 91\\nvalue = [62, 29]'),\n",
       " Text(0.8913043478260869, 0.43333333333333335, 'X[1] <= 1.136\\nentropy = 0.816\\nsamples = 83\\nvalue = [62, 21]'),\n",
       " Text(0.8695652173913043, 0.36666666666666664, 'entropy = 0.0\\nsamples = 36\\nvalue = [36, 0]'),\n",
       " Text(0.9130434782608695, 0.36666666666666664, 'X[0] <= 0.223\\nentropy = 0.992\\nsamples = 47\\nvalue = [26, 21]'),\n",
       " Text(0.8695652173913043, 0.3, 'X[0] <= -0.292\\nentropy = 0.963\\nsamples = 31\\nvalue = [12, 19]'),\n",
       " Text(0.8478260869565217, 0.23333333333333334, 'X[0] <= -0.651\\nentropy = 0.722\\nsamples = 15\\nvalue = [12, 3]'),\n",
       " Text(0.8260869565217391, 0.16666666666666666, 'X[1] <= 1.211\\nentropy = 0.971\\nsamples = 5\\nvalue = [2, 3]'),\n",
       " Text(0.8043478260869565, 0.1, 'X[0] <= -0.778\\nentropy = 0.918\\nsamples = 3\\nvalue = [2, 1]'),\n",
       " Text(0.782608695652174, 0.03333333333333333, 'entropy = 0.0\\nsamples = 1\\nvalue = [0, 1]'),\n",
       " Text(0.8260869565217391, 0.03333333333333333, 'entropy = 0.0\\nsamples = 2\\nvalue = [2, 0]'),\n",
       " Text(0.8478260869565217, 0.1, 'entropy = 0.0\\nsamples = 2\\nvalue = [0, 2]'),\n",
       " Text(0.8695652173913043, 0.16666666666666666, 'entropy = 0.0\\nsamples = 10\\nvalue = [10, 0]'),\n",
       " Text(0.8913043478260869, 0.23333333333333334, 'entropy = 0.0\\nsamples = 16\\nvalue = [0, 16]'),\n",
       " Text(0.9565217391304348, 0.3, 'X[0] <= 0.687\\nentropy = 0.544\\nsamples = 16\\nvalue = [14, 2]'),\n",
       " Text(0.9347826086956522, 0.23333333333333334, 'entropy = 0.0\\nsamples = 14\\nvalue = [14, 0]'),\n",
       " Text(0.9782608695652174, 0.23333333333333334, 'entropy = 0.0\\nsamples = 2\\nvalue = [0, 2]'),\n",
       " Text(0.9347826086956522, 0.43333333333333335, 'entropy = 0.0\\nsamples = 8\\nvalue = [0, 8]'),\n",
       " Text(0.4008152173913043, 0.7666666666666667, 'entropy = 0.0\\nsamples = 169\\nvalue = [0, 169]'),\n",
       " Text(0.842391304347826, 0.8333333333333334, 'X[0] <= 1.137\\nentropy = 0.153\\nsamples = 226\\nvalue = [5, 221]'),\n",
       " Text(0.8206521739130435, 0.7666666666666667, 'X[1] <= 0.26\\nentropy = 0.614\\nsamples = 33\\nvalue = [5, 28]'),\n",
       " Text(0.7989130434782609, 0.7, 'entropy = 0.0\\nsamples = 19\\nvalue = [0, 19]'),\n",
       " Text(0.842391304347826, 0.7, 'X[1] <= 0.819\\nentropy = 0.94\\nsamples = 14\\nvalue = [5, 9]'),\n",
       " Text(0.8206521739130435, 0.6333333333333333, 'entropy = 0.0\\nsamples = 5\\nvalue = [5, 0]'),\n",
       " Text(0.8641304347826086, 0.6333333333333333, 'entropy = 0.0\\nsamples = 9\\nvalue = [0, 9]'),\n",
       " Text(0.8641304347826086, 0.7666666666666667, 'entropy = 0.0\\nsamples = 193\\nvalue = [0, 193]')]"
      ]
     },
     "execution_count": 140,
     "metadata": {},
     "output_type": "execute_result"
    },
    {
     "data": {
      "image/png": "[encoded data removed]",
      "text/plain": [
       "<Figure size 432x288 with 1 Axes>"
      ]
     },
     "metadata": {
      "needs_background": "light"
     },
     "output_type": "display_data"
    }
   ],
   "source": [
    "plot_tree(D2048_d3)"
   ]
  },
  {
   "cell_type": "code",
   "execution_count": 141,
   "id": "7df9ea98",
   "metadata": {},
   "outputs": [],
   "source": [
    "D2048_pred = D2048_d3.predict(test_X)"
   ]
  },
  {
   "cell_type": "code",
   "execution_count": 142,
   "id": "97d65fe8",
   "metadata": {},
   "outputs": [
    {
     "data": {
      "text/plain": [
       "0.9778761061946902"
      ]
     },
     "execution_count": 142,
     "metadata": {},
     "output_type": "execute_result"
    }
   ],
   "source": [
    "D2048_accuracy = metrics.accuracy_score(test_Y, D2048_pred)\n",
    "D2048_accuracy"
   ]
  },
  {
   "cell_type": "code",
   "execution_count": 155,
   "id": "321b0271",
   "metadata": {},
   "outputs": [
    {
     "data": {
      "text/plain": [
       "103"
      ]
     },
     "execution_count": 155,
     "metadata": {},
     "output_type": "execute_result"
    }
   ],
   "source": [
    "n2048 = D2048_d3.tree_.node_count\n",
    "n2048"
   ]
  },
  {
   "cell_type": "code",
   "execution_count": 143,
   "id": "d658a57a",
   "metadata": {},
   "outputs": [],
   "source": [
    "D8192_d3 = DecisionTreeClassifier(criterion = \"entropy\").fit(D8192_X, D8192_Y)"
   ]
  },
  {
   "cell_type": "code",
   "execution_count": 144,
   "id": "70bad2be",
   "metadata": {},
   "outputs": [
    {
     "data": {
      "text/plain": [
       "[Text(0.3597928779069767, 0.9705882352941176, 'X[1] <= -0.712\\nentropy = 0.971\\nsamples = 8192\\nvalue = [3280, 4912]'),\n",
       " Text(0.05813953488372093, 0.9117647058823529, 'X[1] <= -0.926\\nentropy = 0.233\\nsamples = 2181\\nvalue = [83, 2098]'),\n",
       " Text(0.018604651162790697, 0.8529411764705882, 'X[1] <= -0.955\\nentropy = 0.008\\nsamples = 1585\\nvalue = [1, 1584]'),\n",
       " Text(0.009302325581395349, 0.7941176470588235, 'entropy = 0.0\\nsamples = 1519\\nvalue = [0, 1519]'),\n",
       " Text(0.027906976744186046, 0.7941176470588235, 'X[1] <= -0.955\\nentropy = 0.113\\nsamples = 66\\nvalue = [1, 65]'),\n",
       " Text(0.018604651162790697, 0.7352941176470589, 'entropy = 0.0\\nsamples = 1\\nvalue = [1, 0]'),\n",
       " Text(0.037209302325581395, 0.7352941176470589, 'entropy = 0.0\\nsamples = 65\\nvalue = [0, 65]'),\n",
       " Text(0.09767441860465116, 0.8529411764705882, 'X[0] <= 0.322\\nentropy = 0.578\\nsamples = 596\\nvalue = [82, 514]'),\n",
       " Text(0.08837209302325581, 0.7941176470588235, 'X[0] <= -0.213\\nentropy = 0.776\\nsamples = 358\\nvalue = [82, 276]'),\n",
       " Text(0.05581395348837209, 0.7352941176470589, 'X[0] <= -0.335\\nentropy = 0.066\\nsamples = 254\\nvalue = [2, 252]'),\n",
       " Text(0.046511627906976744, 0.6764705882352942, 'entropy = 0.0\\nsamples = 237\\nvalue = [0, 237]'),\n",
       " Text(0.06511627906976744, 0.6764705882352942, 'X[1] <= -0.747\\nentropy = 0.523\\nsamples = 17\\nvalue = [2, 15]'),\n",
       " Text(0.05581395348837209, 0.6176470588235294, 'entropy = 0.0\\nsamples = 15\\nvalue = [0, 15]'),\n",
       " Text(0.07441860465116279, 0.6176470588235294, 'entropy = 0.0\\nsamples = 2\\nvalue = [2, 0]'),\n",
       " Text(0.12093023255813953, 0.7352941176470589, 'X[1] <= -0.828\\nentropy = 0.779\\nsamples = 104\\nvalue = [80, 24]'),\n",
       " Text(0.10232558139534884, 0.6764705882352942, 'X[0] <= 0.147\\nentropy = 0.979\\nsamples = 53\\nvalue = [31, 22]'),\n",
       " Text(0.09302325581395349, 0.6176470588235294, 'X[0] <= -0.096\\nentropy = 0.732\\nsamples = 39\\nvalue = [31, 8]'),\n",
       " Text(0.06511627906976744, 0.5588235294117647, 'X[1] <= -0.861\\nentropy = 0.811\\nsamples = 8\\nvalue = [2, 6]'),\n",
       " Text(0.05581395348837209, 0.5, 'entropy = 0.0\\nsamples = 5\\nvalue = [0, 5]'),\n",
       " Text(0.07441860465116279, 0.5, 'X[1] <= -0.841\\nentropy = 0.918\\nsamples = 3\\nvalue = [2, 1]'),\n",
       " Text(0.06511627906976744, 0.4411764705882353, 'entropy = 0.0\\nsamples = 2\\nvalue = [2, 0]'),\n",
       " Text(0.08372093023255814, 0.4411764705882353, 'entropy = 0.0\\nsamples = 1\\nvalue = [0, 1]'),\n",
       " Text(0.12093023255813953, 0.5588235294117647, 'X[1] <= -0.882\\nentropy = 0.345\\nsamples = 31\\nvalue = [29, 2]'),\n",
       " Text(0.11162790697674418, 0.5, 'X[0] <= 0.107\\nentropy = 0.592\\nsamples = 14\\nvalue = [12, 2]'),\n",
       " Text(0.10232558139534884, 0.4411764705882353, 'X[0] <= -0.056\\nentropy = 0.391\\nsamples = 13\\nvalue = [12, 1]'),\n",
       " Text(0.09302325581395349, 0.38235294117647056, 'X[1] <= -0.903\\nentropy = 1.0\\nsamples = 2\\nvalue = [1, 1]'),\n",
       " Text(0.08372093023255814, 0.3235294117647059, 'entropy = 0.0\\nsamples = 1\\nvalue = [0, 1]'),\n",
       " Text(0.10232558139534884, 0.3235294117647059, 'entropy = 0.0\\nsamples = 1\\nvalue = [1, 0]'),\n",
       " Text(0.11162790697674418, 0.38235294117647056, 'entropy = 0.0\\nsamples = 11\\nvalue = [11, 0]'),\n",
       " Text(0.12093023255813953, 0.4411764705882353, 'entropy = 0.0\\nsamples = 1\\nvalue = [0, 1]'),\n",
       " Text(0.13023255813953488, 0.5, 'entropy = 0.0\\nsamples = 17\\nvalue = [17, 0]'),\n",
       " Text(0.11162790697674418, 0.6176470588235294, 'entropy = 0.0\\nsamples = 14\\nvalue = [0, 14]'),\n",
       " Text(0.13953488372093023, 0.6764705882352942, 'X[0] <= 0.262\\nentropy = 0.239\\nsamples = 51\\nvalue = [49, 2]'),\n",
       " Text(0.13023255813953488, 0.6176470588235294, 'entropy = 0.0\\nsamples = 46\\nvalue = [46, 0]'),\n",
       " Text(0.14883720930232558, 0.6176470588235294, 'X[1] <= -0.774\\nentropy = 0.971\\nsamples = 5\\nvalue = [3, 2]'),\n",
       " Text(0.13953488372093023, 0.5588235294117647, 'entropy = 0.0\\nsamples = 2\\nvalue = [0, 2]'),\n",
       " Text(0.15813953488372093, 0.5588235294117647, 'entropy = 0.0\\nsamples = 3\\nvalue = [3, 0]'),\n",
       " Text(0.10697674418604651, 0.7941176470588235, 'entropy = 0.0\\nsamples = 238\\nvalue = [0, 238]'),\n",
       " Text(0.6614462209302325, 0.9117647058823529, 'X[1] <= 1.232\\nentropy = 0.997\\nsamples = 6011\\nvalue = [3197, 2814]'),\n",
       " Text(0.6521438953488372, 0.8529411764705882, 'X[0] <= 1.061\\nentropy = 0.965\\nsamples = 5239\\nvalue = [3197, 2042]'),\n",
       " Text(0.3228924418604651, 0.7941176470588235, 'X[0] <= -1.074\\nentropy = 0.869\\nsamples = 4470\\nvalue = [3174, 1296]'),\n",
       " Text(0.16744186046511628, 0.7352941176470589, 'X[0] <= -1.139\\nentropy = 0.194\\nsamples = 735\\nvalue = [22, 713]'),\n",
       " Text(0.15813953488372093, 0.6764705882352942, 'entropy = 0.0\\nsamples = 639\\nvalue = [0, 639]'),\n",
       " Text(0.17674418604651163, 0.6764705882352942, 'X[1] <= 0.193\\nentropy = 0.777\\nsamples = 96\\nvalue = [22, 74]'),\n",
       " Text(0.16744186046511628, 0.6176470588235294, 'entropy = 0.0\\nsamples = 42\\nvalue = [0, 42]'),\n",
       " Text(0.18604651162790697, 0.6176470588235294, 'X[1] <= 0.773\\nentropy = 0.975\\nsamples = 54\\nvalue = [22, 32]'),\n",
       " Text(0.17674418604651163, 0.5588235294117647, 'X[1] <= 0.372\\nentropy = 0.691\\nsamples = 27\\nvalue = [22, 5]'),\n",
       " Text(0.16744186046511628, 0.5, 'X[0] <= -1.1\\nentropy = 0.991\\nsamples = 9\\nvalue = [4, 5]'),\n",
       " Text(0.15813953488372093, 0.4411764705882353, 'entropy = 0.0\\nsamples = 5\\nvalue = [0, 5]'),\n",
       " Text(0.17674418604651163, 0.4411764705882353, 'entropy = 0.0\\nsamples = 4\\nvalue = [4, 0]'),\n",
       " Text(0.18604651162790697, 0.5, 'entropy = 0.0\\nsamples = 18\\nvalue = [18, 0]'),\n",
       " Text(0.19534883720930232, 0.5588235294117647, 'entropy = 0.0\\nsamples = 27\\nvalue = [0, 27]'),\n",
       " Text(0.47834302325581396, 0.7352941176470589, 'X[1] <= -0.203\\nentropy = 0.625\\nsamples = 3735\\nvalue = [3152, 583]'),\n",
       " Text(0.28488372093023256, 0.6764705882352942, 'X[0] <= -0.764\\nentropy = 0.964\\nsamples = 994\\nvalue = [608, 386]'),\n",
       " Text(0.22325581395348837, 0.6176470588235294, 'X[1] <= -0.334\\nentropy = 0.297\\nsamples = 152\\nvalue = [8, 144]'),\n",
       " Text(0.21395348837209302, 0.5588235294117647, 'entropy = 0.0\\nsamples = 107\\nvalue = [0, 107]'),\n",
       " Text(0.23255813953488372, 0.5588235294117647, 'X[0] <= -0.861\\nentropy = 0.675\\nsamples = 45\\nvalue = [8, 37]'),\n",
       " Text(0.22325581395348837, 0.5, 'entropy = 0.0\\nsamples = 34\\nvalue = [0, 34]'),\n",
       " Text(0.24186046511627907, 0.5, 'X[1] <= -0.286\\nentropy = 0.845\\nsamples = 11\\nvalue = [8, 3]'),\n",
       " Text(0.23255813953488372, 0.4411764705882353, 'X[0] <= -0.783\\nentropy = 0.811\\nsamples = 4\\nvalue = [1, 3]'),\n",
       " Text(0.22325581395348837, 0.38235294117647056, 'entropy = 0.0\\nsamples = 3\\nvalue = [0, 3]'),\n",
       " Text(0.24186046511627907, 0.38235294117647056, 'entropy = 0.0\\nsamples = 1\\nvalue = [1, 0]'),\n",
       " Text(0.25116279069767444, 0.4411764705882353, 'entropy = 0.0\\nsamples = 7\\nvalue = [7, 0]'),\n",
       " Text(0.34651162790697676, 0.6176470588235294, 'X[0] <= 0.679\\nentropy = 0.865\\nsamples = 842\\nvalue = [600, 242]'),\n",
       " Text(0.3116279069767442, 0.5588235294117647, 'X[0] <= -0.526\\nentropy = 0.578\\nsamples = 676\\nvalue = [583, 93]'),\n",
       " Text(0.27906976744186046, 0.5, 'X[1] <= -0.409\\nentropy = 1.0\\nsamples = 116\\nvalue = [57, 59]'),\n",
       " Text(0.26976744186046514, 0.4411764705882353, 'X[1] <= -0.547\\nentropy = 0.597\\nsamples = 69\\nvalue = [10, 59]'),\n",
       " Text(0.26046511627906976, 0.38235294117647056, 'entropy = 0.0\\nsamples = 46\\nvalue = [0, 46]'),\n",
       " Text(0.27906976744186046, 0.38235294117647056, 'X[0] <= -0.688\\nentropy = 0.988\\nsamples = 23\\nvalue = [10, 13]'),\n",
       " Text(0.26976744186046514, 0.3235294117647059, 'entropy = 0.0\\nsamples = 9\\nvalue = [0, 9]'),\n",
       " Text(0.28837209302325584, 0.3235294117647059, 'X[1] <= -0.48\\nentropy = 0.863\\nsamples = 14\\nvalue = [10, 4]'),\n",
       " Text(0.27906976744186046, 0.2647058823529412, 'X[0] <= -0.578\\nentropy = 0.985\\nsamples = 7\\nvalue = [3, 4]'),\n",
       " Text(0.26976744186046514, 0.20588235294117646, 'entropy = 0.0\\nsamples = 4\\nvalue = [0, 4]'),\n",
       " Text(0.28837209302325584, 0.20588235294117646, 'entropy = 0.0\\nsamples = 3\\nvalue = [3, 0]'),\n",
       " Text(0.29767441860465116, 0.2647058823529412, 'entropy = 0.0\\nsamples = 7\\nvalue = [7, 0]'),\n",
       " Text(0.28837209302325584, 0.4411764705882353, 'entropy = 0.0\\nsamples = 47\\nvalue = [47, 0]'),\n",
       " Text(0.34418604651162793, 0.5, 'X[0] <= 0.504\\nentropy = 0.33\\nsamples = 560\\nvalue = [526, 34]'),\n",
       " Text(0.32558139534883723, 0.4411764705882353, 'X[1] <= -0.661\\nentropy = 0.124\\nsamples = 474\\nvalue = [466, 8]'),\n",
       " Text(0.31627906976744186, 0.38235294117647056, 'X[0] <= -0.429\\nentropy = 0.605\\nsamples = 54\\nvalue = [46, 8]'),\n",
       " Text(0.30697674418604654, 0.3235294117647059, 'entropy = 0.0\\nsamples = 5\\nvalue = [0, 5]'),\n",
       " Text(0.32558139534883723, 0.3235294117647059, 'X[0] <= 0.428\\nentropy = 0.332\\nsamples = 49\\nvalue = [46, 3]'),\n",
       " Text(0.31627906976744186, 0.2647058823529412, 'X[0] <= -0.357\\nentropy = 0.149\\nsamples = 47\\nvalue = [46, 1]'),\n",
       " Text(0.30697674418604654, 0.20588235294117646, 'X[0] <= -0.387\\nentropy = 0.811\\nsamples = 4\\nvalue = [3, 1]'),\n",
       " Text(0.29767441860465116, 0.14705882352941177, 'entropy = 0.0\\nsamples = 3\\nvalue = [3, 0]'),\n",
       " Text(0.31627906976744186, 0.14705882352941177, 'entropy = 0.0\\nsamples = 1\\nvalue = [0, 1]'),\n",
       " Text(0.32558139534883723, 0.20588235294117646, 'entropy = 0.0\\nsamples = 43\\nvalue = [43, 0]'),\n",
       " Text(0.33488372093023255, 0.2647058823529412, 'entropy = 0.0\\nsamples = 2\\nvalue = [0, 2]'),\n",
       " Text(0.33488372093023255, 0.38235294117647056, 'entropy = 0.0\\nsamples = 420\\nvalue = [420, 0]'),\n",
       " Text(0.3627906976744186, 0.4411764705882353, 'X[1] <= -0.468\\nentropy = 0.884\\nsamples = 86\\nvalue = [60, 26]'),\n",
       " Text(0.35348837209302325, 0.38235294117647056, 'X[1] <= -0.6\\nentropy = 0.787\\nsamples = 34\\nvalue = [8, 26]'),\n",
       " Text(0.34418604651162793, 0.3235294117647059, 'entropy = 0.0\\nsamples = 14\\nvalue = [0, 14]'),\n",
       " Text(0.3627906976744186, 0.3235294117647059, 'X[0] <= 0.614\\nentropy = 0.971\\nsamples = 20\\nvalue = [8, 12]'),\n",
       " Text(0.35348837209302325, 0.2647058823529412, 'X[1] <= -0.547\\nentropy = 0.845\\nsamples = 11\\nvalue = [8, 3]'),\n",
       " Text(0.34418604651162793, 0.20588235294117646, 'X[0] <= 0.566\\nentropy = 1.0\\nsamples = 6\\nvalue = [3, 3]'),\n",
       " Text(0.33488372093023255, 0.14705882352941177, 'X[1] <= -0.576\\nentropy = 0.811\\nsamples = 4\\nvalue = [3, 1]'),\n",
       " Text(0.32558139534883723, 0.08823529411764706, 'X[0] <= 0.525\\nentropy = 1.0\\nsamples = 2\\nvalue = [1, 1]'),\n",
       " Text(0.31627906976744186, 0.029411764705882353, 'entropy = 0.0\\nsamples = 1\\nvalue = [1, 0]'),\n",
       " Text(0.33488372093023255, 0.029411764705882353, 'entropy = 0.0\\nsamples = 1\\nvalue = [0, 1]'),\n",
       " Text(0.34418604651162793, 0.08823529411764706, 'entropy = 0.0\\nsamples = 2\\nvalue = [2, 0]'),\n",
       " Text(0.35348837209302325, 0.14705882352941177, 'entropy = 0.0\\nsamples = 2\\nvalue = [0, 2]'),\n",
       " Text(0.3627906976744186, 0.20588235294117646, 'entropy = 0.0\\nsamples = 5\\nvalue = [5, 0]'),\n",
       " Text(0.37209302325581395, 0.2647058823529412, 'entropy = 0.0\\nsamples = 9\\nvalue = [0, 9]'),\n",
       " Text(0.37209302325581395, 0.38235294117647056, 'entropy = 0.0\\nsamples = 52\\nvalue = [52, 0]'),\n",
       " Text(0.3813953488372093, 0.5588235294117647, 'X[1] <= -0.382\\nentropy = 0.477\\nsamples = 166\\nvalue = [17, 149]'),\n",
       " Text(0.37209302325581395, 0.5, 'entropy = 0.0\\nsamples = 104\\nvalue = [0, 104]'),\n",
       " Text(0.39069767441860465, 0.5, 'X[0] <= 0.792\\nentropy = 0.847\\nsamples = 62\\nvalue = [17, 45]'),\n",
       " Text(0.3813953488372093, 0.4411764705882353, 'entropy = 0.0\\nsamples = 16\\nvalue = [16, 0]'),\n",
       " Text(0.4, 0.4411764705882353, 'X[1] <= -0.21\\nentropy = 0.151\\nsamples = 46\\nvalue = [1, 45]'),\n",
       " Text(0.39069767441860465, 0.38235294117647056, 'entropy = 0.0\\nsamples = 44\\nvalue = [0, 44]'),\n",
       " Text(0.40930232558139534, 0.38235294117647056, 'X[1] <= -0.206\\nentropy = 1.0\\nsamples = 2\\nvalue = [1, 1]'),\n",
       " Text(0.4, 0.3235294117647059, 'entropy = 0.0\\nsamples = 1\\nvalue = [1, 0]'),\n",
       " Text(0.4186046511627907, 0.3235294117647059, 'entropy = 0.0\\nsamples = 1\\nvalue = [0, 1]'),\n",
       " Text(0.6718023255813953, 0.6764705882352942, 'X[1] <= 1.054\\nentropy = 0.373\\nsamples = 2741\\nvalue = [2544, 197]'),\n",
       " Text(0.5511627906976744, 0.6176470588235294, 'X[0] <= -0.963\\nentropy = 0.168\\nsamples = 2377\\nvalue = [2318, 59]'),\n",
       " Text(0.4697674418604651, 0.5588235294117647, 'X[1] <= 0.021\\nentropy = 0.804\\nsamples = 114\\nvalue = [86, 28]'),\n",
       " Text(0.42790697674418604, 0.5, 'X[1] <= -0.035\\nentropy = 0.414\\nsamples = 24\\nvalue = [2, 22]'),\n",
       " Text(0.4186046511627907, 0.4411764705882353, 'entropy = 0.0\\nsamples = 16\\nvalue = [0, 16]'),\n",
       " Text(0.4372093023255814, 0.4411764705882353, 'X[0] <= -1.004\\nentropy = 0.811\\nsamples = 8\\nvalue = [2, 6]'),\n",
       " Text(0.42790697674418604, 0.38235294117647056, 'entropy = 0.0\\nsamples = 5\\nvalue = [0, 5]'),\n",
       " Text(0.44651162790697674, 0.38235294117647056, 'X[0] <= -0.99\\nentropy = 0.918\\nsamples = 3\\nvalue = [2, 1]'),\n",
       " Text(0.4372093023255814, 0.3235294117647059, 'entropy = 0.0\\nsamples = 1\\nvalue = [1, 0]'),\n",
       " Text(0.4558139534883721, 0.3235294117647059, 'X[1] <= -0.028\\nentropy = 1.0\\nsamples = 2\\nvalue = [1, 1]'),\n",
       " Text(0.44651162790697674, 0.2647058823529412, 'entropy = 0.0\\nsamples = 1\\nvalue = [1, 0]'),\n",
       " Text(0.46511627906976744, 0.2647058823529412, 'entropy = 0.0\\nsamples = 1\\nvalue = [0, 1]'),\n",
       " Text(0.5116279069767442, 0.5, 'X[1] <= 0.905\\nentropy = 0.353\\nsamples = 90\\nvalue = [84, 6]'),\n",
       " Text(0.4930232558139535, 0.4411764705882353, 'X[1] <= 0.068\\nentropy = 0.096\\nsamples = 81\\nvalue = [80, 1]'),\n",
       " Text(0.48372093023255813, 0.38235294117647056, 'X[0] <= -1.028\\nentropy = 0.918\\nsamples = 3\\nvalue = [2, 1]'),\n",
       " Text(0.4744186046511628, 0.3235294117647059, 'entropy = 0.0\\nsamples = 1\\nvalue = [0, 1]'),\n",
       " Text(0.4930232558139535, 0.3235294117647059, 'entropy = 0.0\\nsamples = 2\\nvalue = [2, 0]'),\n",
       " Text(0.5023255813953489, 0.38235294117647056, 'entropy = 0.0\\nsamples = 78\\nvalue = [78, 0]'),\n",
       " Text(0.5302325581395348, 0.4411764705882353, 'X[0] <= -1.001\\nentropy = 0.991\\nsamples = 9\\nvalue = [4, 5]'),\n",
       " Text(0.5209302325581395, 0.38235294117647056, 'X[1] <= 0.946\\nentropy = 0.65\\nsamples = 6\\nvalue = [1, 5]'),\n",
       " Text(0.5116279069767442, 0.3235294117647059, 'X[1] <= 0.909\\nentropy = 1.0\\nsamples = 2\\nvalue = [1, 1]'),\n",
       " Text(0.5023255813953489, 0.2647058823529412, 'entropy = 0.0\\nsamples = 1\\nvalue = [0, 1]'),\n",
       " Text(0.5209302325581395, 0.2647058823529412, 'entropy = 0.0\\nsamples = 1\\nvalue = [1, 0]'),\n",
       " Text(0.5302325581395348, 0.3235294117647059, 'entropy = 0.0\\nsamples = 4\\nvalue = [0, 4]'),\n",
       " Text(0.5395348837209303, 0.38235294117647056, 'entropy = 0.0\\nsamples = 3\\nvalue = [3, 0]'),\n",
       " Text(0.6325581395348837, 0.5588235294117647, 'X[0] <= 0.972\\nentropy = 0.104\\nsamples = 2263\\nvalue = [2232, 31]'),\n",
       " Text(0.586046511627907, 0.5, 'X[1] <= -0.141\\nentropy = 0.028\\nsamples = 2165\\nvalue = [2159, 6]'),\n",
       " Text(0.5674418604651162, 0.4411764705882353, 'X[0] <= -0.896\\nentropy = 0.305\\nsamples = 92\\nvalue = [87, 5]'),\n",
       " Text(0.5581395348837209, 0.38235294117647056, 'entropy = 0.0\\nsamples = 4\\nvalue = [0, 4]'),\n",
       " Text(0.5767441860465117, 0.38235294117647056, 'X[0] <= 0.901\\nentropy = 0.09\\nsamples = 88\\nvalue = [87, 1]'),\n",
       " Text(0.5674418604651162, 0.3235294117647059, 'entropy = 0.0\\nsamples = 87\\nvalue = [87, 0]'),\n",
       " Text(0.586046511627907, 0.3235294117647059, 'entropy = 0.0\\nsamples = 1\\nvalue = [0, 1]'),\n",
       " Text(0.6046511627906976, 0.4411764705882353, 'X[1] <= 1.039\\nentropy = 0.006\\nsamples = 2073\\nvalue = [2072, 1]'),\n",
       " Text(0.5953488372093023, 0.38235294117647056, 'entropy = 0.0\\nsamples = 2050\\nvalue = [2050, 0]'),\n",
       " Text(0.6139534883720931, 0.38235294117647056, 'X[1] <= 1.039\\nentropy = 0.258\\nsamples = 23\\nvalue = [22, 1]'),\n",
       " Text(0.6046511627906976, 0.3235294117647059, 'entropy = 0.0\\nsamples = 1\\nvalue = [0, 1]'),\n",
       " Text(0.6232558139534884, 0.3235294117647059, 'entropy = 0.0\\nsamples = 22\\nvalue = [22, 0]'),\n",
       " Text(0.6790697674418604, 0.5, 'X[1] <= 0.067\\nentropy = 0.819\\nsamples = 98\\nvalue = [73, 25]'),\n",
       " Text(0.6604651162790698, 0.4411764705882353, 'X[0] <= 1.004\\nentropy = 0.592\\nsamples = 21\\nvalue = [3, 18]'),\n",
       " Text(0.6511627906976745, 0.38235294117647056, 'X[1] <= -0.036\\nentropy = 0.985\\nsamples = 7\\nvalue = [3, 4]'),\n",
       " Text(0.641860465116279, 0.3235294117647059, 'entropy = 0.0\\nsamples = 4\\nvalue = [0, 4]'),\n",
       " Text(0.6604651162790698, 0.3235294117647059, 'entropy = 0.0\\nsamples = 3\\nvalue = [3, 0]'),\n",
       " Text(0.6697674418604651, 0.38235294117647056, 'entropy = 0.0\\nsamples = 14\\nvalue = [0, 14]'),\n",
       " Text(0.6976744186046512, 0.4411764705882353, 'X[1] <= 0.947\\nentropy = 0.439\\nsamples = 77\\nvalue = [70, 7]'),\n",
       " Text(0.6883720930232559, 0.38235294117647056, 'entropy = 0.0\\nsamples = 68\\nvalue = [68, 0]'),\n",
       " Text(0.7069767441860465, 0.38235294117647056, 'X[1] <= 0.991\\nentropy = 0.764\\nsamples = 9\\nvalue = [2, 7]'),\n",
       " Text(0.6976744186046512, 0.3235294117647059, 'X[0] <= 1.019\\nentropy = 1.0\\nsamples = 4\\nvalue = [2, 2]'),\n",
       " Text(0.6883720930232559, 0.2647058823529412, 'entropy = 0.0\\nsamples = 2\\nvalue = [2, 0]'),\n",
       " Text(0.7069767441860465, 0.2647058823529412, 'entropy = 0.0\\nsamples = 2\\nvalue = [0, 2]'),\n",
       " Text(0.7162790697674418, 0.3235294117647059, 'entropy = 0.0\\nsamples = 5\\nvalue = [0, 5]'),\n",
       " Text(0.7924418604651163, 0.6176470588235294, 'X[0] <= 0.9\\nentropy = 0.957\\nsamples = 364\\nvalue = [226, 138]'),\n",
       " Text(0.7831395348837209, 0.5588235294117647, 'X[0] <= -0.881\\nentropy = 0.914\\nsamples = 337\\nvalue = [226, 111]'),\n",
       " Text(0.7441860465116279, 0.5, 'X[1] <= 1.065\\nentropy = 0.211\\nsamples = 30\\nvalue = [1, 29]'),\n",
       " Text(0.7348837209302326, 0.4411764705882353, 'X[0] <= -0.955\\nentropy = 1.0\\nsamples = 2\\nvalue = [1, 1]'),\n",
       " Text(0.7255813953488373, 0.38235294117647056, 'entropy = 0.0\\nsamples = 1\\nvalue = [0, 1]'),\n",
       " Text(0.7441860465116279, 0.38235294117647056, 'entropy = 0.0\\nsamples = 1\\nvalue = [1, 0]'),\n",
       " Text(0.7534883720930232, 0.4411764705882353, 'entropy = 0.0\\nsamples = 28\\nvalue = [0, 28]'),\n",
       " Text(0.8220930232558139, 0.5, 'X[1] <= 1.16\\nentropy = 0.837\\nsamples = 307\\nvalue = [225, 82]'),\n",
       " Text(0.772093023255814, 0.4411764705882353, 'X[0] <= -0.154\\nentropy = 0.474\\nsamples = 177\\nvalue = [159, 18]'),\n",
       " Text(0.7627906976744186, 0.38235294117647056, 'entropy = 0.0\\nsamples = 68\\nvalue = [68, 0]'),\n",
       " Text(0.7813953488372093, 0.38235294117647056, 'X[0] <= 0.141\\nentropy = 0.646\\nsamples = 109\\nvalue = [91, 18]'),\n",
       " Text(0.7627906976744186, 0.3235294117647059, 'X[1] <= 1.113\\nentropy = 0.967\\nsamples = 28\\nvalue = [11, 17]'),\n",
       " Text(0.7534883720930232, 0.2647058823529412, 'X[0] <= -0.083\\nentropy = 0.993\\nsamples = 20\\nvalue = [11, 9]'),\n",
       " Text(0.7441860465116279, 0.20588235294117646, 'entropy = 0.0\\nsamples = 5\\nvalue = [5, 0]'),\n",
       " Text(0.7627906976744186, 0.20588235294117646, 'X[0] <= 0.047\\nentropy = 0.971\\nsamples = 15\\nvalue = [6, 9]'),\n",
       " Text(0.7534883720930232, 0.14705882352941177, 'X[0] <= -0.052\\nentropy = 0.684\\nsamples = 11\\nvalue = [2, 9]'),\n",
       " Text(0.7441860465116279, 0.08823529411764706, 'X[0] <= -0.074\\nentropy = 0.918\\nsamples = 3\\nvalue = [2, 1]'),\n",
       " Text(0.7348837209302326, 0.029411764705882353, 'entropy = 0.0\\nsamples = 1\\nvalue = [0, 1]'),\n",
       " Text(0.7534883720930232, 0.029411764705882353, 'entropy = 0.0\\nsamples = 2\\nvalue = [2, 0]'),\n",
       " Text(0.7627906976744186, 0.08823529411764706, 'entropy = 0.0\\nsamples = 8\\nvalue = [0, 8]'),\n",
       " Text(0.772093023255814, 0.14705882352941177, 'entropy = 0.0\\nsamples = 4\\nvalue = [4, 0]'),\n",
       " Text(0.772093023255814, 0.2647058823529412, 'entropy = 0.0\\nsamples = 8\\nvalue = [0, 8]'),\n",
       " Text(0.8, 0.3235294117647059, 'X[0] <= 0.888\\nentropy = 0.096\\nsamples = 81\\nvalue = [80, 1]'),\n",
       " Text(0.7906976744186046, 0.2647058823529412, 'entropy = 0.0\\nsamples = 79\\nvalue = [79, 0]'),\n",
       " Text(0.8093023255813954, 0.2647058823529412, 'X[1] <= 1.119\\nentropy = 1.0\\nsamples = 2\\nvalue = [1, 1]'),\n",
       " Text(0.8, 0.20588235294117646, 'entropy = 0.0\\nsamples = 1\\nvalue = [1, 0]'),\n",
       " Text(0.8186046511627907, 0.20588235294117646, 'entropy = 0.0\\nsamples = 1\\nvalue = [0, 1]'),\n",
       " Text(0.872093023255814, 0.4411764705882353, 'X[0] <= -0.307\\nentropy = 1.0\\nsamples = 130\\nvalue = [66, 64]'),\n",
       " Text(0.827906976744186, 0.38235294117647056, 'X[0] <= -0.764\\nentropy = 0.82\\nsamples = 47\\nvalue = [35, 12]'),\n",
       " Text(0.8186046511627907, 0.3235294117647059, 'entropy = 0.0\\nsamples = 9\\nvalue = [0, 9]'),\n",
       " Text(0.8372093023255814, 0.3235294117647059, 'X[1] <= 1.219\\nentropy = 0.398\\nsamples = 38\\nvalue = [35, 3]'),\n",
       " Text(0.827906976744186, 0.2647058823529412, 'entropy = 0.0\\nsamples = 31\\nvalue = [31, 0]'),\n",
       " Text(0.8465116279069768, 0.2647058823529412, 'X[0] <= -0.626\\nentropy = 0.985\\nsamples = 7\\nvalue = [4, 3]'),\n",
       " Text(0.8372093023255814, 0.20588235294117646, 'entropy = 0.0\\nsamples = 3\\nvalue = [0, 3]'),\n",
       " Text(0.8558139534883721, 0.20588235294117646, 'entropy = 0.0\\nsamples = 4\\nvalue = [4, 0]'),\n",
       " Text(0.9162790697674419, 0.38235294117647056, 'X[0] <= 0.271\\nentropy = 0.953\\nsamples = 83\\nvalue = [31, 52]'),\n",
       " Text(0.8930232558139535, 0.3235294117647059, 'X[0] <= -0.219\\nentropy = 0.172\\nsamples = 39\\nvalue = [1, 38]'),\n",
       " Text(0.8837209302325582, 0.2647058823529412, 'X[0] <= -0.225\\nentropy = 0.722\\nsamples = 5\\nvalue = [1, 4]'),\n",
       " Text(0.8744186046511628, 0.20588235294117646, 'entropy = 0.0\\nsamples = 4\\nvalue = [0, 4]'),\n",
       " Text(0.8930232558139535, 0.20588235294117646, 'entropy = 0.0\\nsamples = 1\\nvalue = [1, 0]'),\n",
       " Text(0.9023255813953488, 0.2647058823529412, 'entropy = 0.0\\nsamples = 34\\nvalue = [0, 34]'),\n",
       " Text(0.9395348837209302, 0.3235294117647059, 'X[0] <= 0.648\\nentropy = 0.902\\nsamples = 44\\nvalue = [30, 14]'),\n",
       " Text(0.9209302325581395, 0.2647058823529412, 'X[1] <= 1.225\\nentropy = 0.222\\nsamples = 28\\nvalue = [27, 1]'),\n",
       " Text(0.9116279069767442, 0.20588235294117646, 'entropy = 0.0\\nsamples = 27\\nvalue = [27, 0]'),\n",
       " Text(0.9302325581395349, 0.20588235294117646, 'entropy = 0.0\\nsamples = 1\\nvalue = [0, 1]'),\n",
       " Text(0.958139534883721, 0.2647058823529412, 'X[0] <= 0.756\\nentropy = 0.696\\nsamples = 16\\nvalue = [3, 13]'),\n",
       " Text(0.9488372093023256, 0.20588235294117646, 'X[1] <= 1.198\\nentropy = 1.0\\nsamples = 6\\nvalue = [3, 3]'),\n",
       " Text(0.9395348837209302, 0.14705882352941177, 'entropy = 0.0\\nsamples = 3\\nvalue = [3, 0]'),\n",
       " Text(0.958139534883721, 0.14705882352941177, 'entropy = 0.0\\nsamples = 3\\nvalue = [0, 3]'),\n",
       " Text(0.9674418604651163, 0.20588235294117646, 'entropy = 0.0\\nsamples = 10\\nvalue = [0, 10]'),\n",
       " Text(0.8017441860465117, 0.5588235294117647, 'entropy = 0.0\\nsamples = 27\\nvalue = [0, 27]'),\n",
       " Text(0.9813953488372092, 0.7941176470588235, 'X[0] <= 1.136\\nentropy = 0.194\\nsamples = 769\\nvalue = [23, 746]'),\n",
       " Text(0.9720930232558139, 0.7352941176470589, 'X[1] <= 0.157\\nentropy = 0.686\\nsamples = 126\\nvalue = [23, 103]'),\n",
       " Text(0.9627906976744186, 0.6764705882352942, 'entropy = 0.0\\nsamples = 67\\nvalue = [0, 67]'),\n",
       " Text(0.9813953488372092, 0.6764705882352942, 'X[1] <= 0.781\\nentropy = 0.965\\nsamples = 59\\nvalue = [23, 36]'),\n",
       " Text(0.9720930232558139, 0.6176470588235294, 'X[1] <= 0.4\\nentropy = 0.677\\nsamples = 28\\nvalue = [23, 5]'),\n",
       " Text(0.9627906976744186, 0.5588235294117647, 'X[0] <= 1.122\\nentropy = 0.991\\nsamples = 9\\nvalue = [4, 5]'),\n",
       " Text(0.9534883720930233, 0.5, 'X[1] <= 0.306\\nentropy = 0.918\\nsamples = 6\\nvalue = [4, 2]'),\n",
       " Text(0.9441860465116279, 0.4411764705882353, 'X[0] <= 1.086\\nentropy = 0.918\\nsamples = 3\\nvalue = [1, 2]'),\n",
       " Text(0.9348837209302325, 0.38235294117647056, 'entropy = 0.0\\nsamples = 1\\nvalue = [1, 0]'),\n",
       " Text(0.9534883720930233, 0.38235294117647056, 'entropy = 0.0\\nsamples = 2\\nvalue = [0, 2]'),\n",
       " Text(0.9627906976744186, 0.4411764705882353, 'entropy = 0.0\\nsamples = 3\\nvalue = [3, 0]'),\n",
       " Text(0.9720930232558139, 0.5, 'entropy = 0.0\\nsamples = 3\\nvalue = [0, 3]'),\n",
       " Text(0.9813953488372092, 0.5588235294117647, 'entropy = 0.0\\nsamples = 19\\nvalue = [19, 0]'),\n",
       " Text(0.9906976744186047, 0.6176470588235294, 'entropy = 0.0\\nsamples = 31\\nvalue = [0, 31]'),\n",
       " Text(0.9906976744186047, 0.7352941176470589, 'entropy = 0.0\\nsamples = 643\\nvalue = [0, 643]'),\n",
       " Text(0.6707485465116279, 0.8529411764705882, 'entropy = 0.0\\nsamples = 772\\nvalue = [0, 772]')]"
      ]
     },
     "execution_count": 144,
     "metadata": {},
     "output_type": "execute_result"
    },
    {
     "data": {
      "image/png": "[encoded data removed]",
      "text/plain": [
       "<Figure size 432x288 with 1 Axes>"
      ]
     },
     "metadata": {
      "needs_background": "light"
     },
     "output_type": "display_data"
    }
   ],
   "source": [
    "plot_tree(D8192_d3)"
   ]
  },
  {
   "cell_type": "code",
   "execution_count": 145,
   "id": "10b507a5",
   "metadata": {},
   "outputs": [],
   "source": [
    "D8192_pred = D8192_d3.predict(test_X)"
   ]
  },
  {
   "cell_type": "code",
   "execution_count": 146,
   "id": "2c91fe53",
   "metadata": {},
   "outputs": [
    {
     "data": {
      "text/plain": [
       "0.9889380530973452"
      ]
     },
     "execution_count": 146,
     "metadata": {},
     "output_type": "execute_result"
    }
   ],
   "source": [
    "D8192_accuracy = metrics.accuracy_score(test_Y, D8192_pred)\n",
    "D8192_accuracy"
   ]
  },
  {
   "cell_type": "code",
   "execution_count": 157,
   "id": "ae63745e",
   "metadata": {},
   "outputs": [
    {
     "data": {
      "text/plain": [
       "229"
      ]
     },
     "execution_count": 157,
     "metadata": {},
     "output_type": "execute_result"
    }
   ],
   "source": [
    "n8192 = D8192_d3.tree_.node_count\n",
    "n8192"
   ]
  },
  {
   "cell_type": "code",
   "execution_count": 171,
   "id": "943c774e",
   "metadata": {},
   "outputs": [],
   "source": [
    "n = [n32, n128, n512, n2048, n8192]\n",
    "acc = [D32_accuracy, D128_accuracy, D512_accuracy, D2048_accuracy, D8192_accuracy]\n",
    "err = [1-D32_accuracy, 1-D128_accuracy, 1-D512_accuracy, 1-D2048_accuracy, 1-D8192_accuracy]"
   ]
  },
  {
   "cell_type": "code",
   "execution_count": 172,
   "id": "b1b68fe6",
   "metadata": {},
   "outputs": [
    {
     "data": {
      "text/plain": [
       "[<matplotlib.lines.Line2D at 0x7f9b7a5ce790>]"
      ]
     },
     "execution_count": 172,
     "metadata": {},
     "output_type": "execute_result"
    },
    {
     "data": {
      "image/png": "[encoded data removed]",
      "text/plain": [
       "<Figure size 432x288 with 1 Axes>"
      ]
     },
     "metadata": {
      "needs_background": "light"
     },
     "output_type": "display_data"
    }
   ],
   "source": [
    "plt.plot(n, acc) # n vs accuracy"
   ]
  },
  {
   "cell_type": "code",
   "execution_count": 173,
   "id": "c2f4b893",
   "metadata": {},
   "outputs": [
    {
     "data": {
      "text/plain": [
       "[<matplotlib.lines.Line2D at 0x7f9b7a7fc8e0>]"
      ]
     },
     "execution_count": 173,
     "metadata": {},
     "output_type": "execute_result"
    },
    {
     "data": {
      "image/png": "[encoded data removed]",
      "text/plain": [
       "<Figure size 432x288 with 1 Axes>"
      ]
     },
     "metadata": {
      "needs_background": "light"
     },
     "output_type": "display_data"
    }
   ],
   "source": [
    "plt.plot(n, err)"
   ]
  },
  {
   "cell_type": "code",
   "execution_count": 174,
   "id": "16f0c8f0",
   "metadata": {},
   "outputs": [
    {
     "data": {
      "text/plain": [
       "[0.1493362831858407,\n",
       " 0.07688053097345138,\n",
       " 0.047566371681415975,\n",
       " 0.02212389380530977,\n",
       " 0.011061946902654829]"
      ]
     },
     "execution_count": 174,
     "metadata": {},
     "output_type": "execute_result"
    }
   ],
   "source": [
    "err"
   ]
  },
  {
   "cell_type": "code",
   "execution_count": 175,
   "id": "769b3239",
   "metadata": {},
   "outputs": [
    {
     "data": {
      "text/plain": [
       "[7, 19, 57, 103, 229]"
      ]
     },
     "execution_count": 175,
     "metadata": {},
     "output_type": "execute_result"
    }
   ],
   "source": [
    "n"
   ]
  },
  {
   "cell_type": "code",
   "execution_count": null,
   "id": "f3c7896d",
   "metadata": {},
   "outputs": [],
   "source": []
  }
 ],
 "metadata": {
  "kernelspec": {
   "display_name": "Python 3 (ipykernel)",
   "language": "python",
   "name": "python3"
  },
  "language_info": {
   "codemirror_mode": {
    "name": "ipython",
    "version": 3
   },
   "file_extension": ".py",
   "mimetype": "text/x-python",
   "name": "python",
   "nbconvert_exporter": "python",
   "pygments_lexer": "ipython3",
   "version": "3.9.12"
  }
 },
 "nbformat": 4,
 "nbformat_minor": 5
}
