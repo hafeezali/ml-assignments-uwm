{
 "cells": [
  {
   "cell_type": "code",
   "execution_count": 591,
   "id": "171676e7",
   "metadata": {},
   "outputs": [],
   "source": [
    "import numpy as np\n",
    "import pandas as pd\n",
    "from matplotlib import pyplot as plt\n",
    "from numpy.linalg import eig"
   ]
  },
  {
   "cell_type": "code",
   "execution_count": 592,
   "id": "2cda9486",
   "metadata": {},
   "outputs": [],
   "source": [
    "# 16 * 16 == 256 (D) \n",
    "# N = 200 for 3 and 8"
   ]
  },
  {
   "cell_type": "code",
   "execution_count": 593,
   "id": "9f6c94c5",
   "metadata": {},
   "outputs": [],
   "source": [
    "# read 3.txt\n",
    "three = pd.read_csv('three.txt', header=None, delim_whitespace=True)"
   ]
  },
  {
   "cell_type": "code",
   "execution_count": 594,
   "id": "002722e2",
   "metadata": {},
   "outputs": [],
   "source": [
    "# read 8.txt\n",
    "eight = pd.read_csv('eight.txt', header=None, delim_whitespace=True)"
   ]
  },
  {
   "cell_type": "code",
   "execution_count": 595,
   "id": "f7480ff8",
   "metadata": {},
   "outputs": [],
   "source": [
    "three_np = three.to_numpy()"
   ]
  },
  {
   "cell_type": "code",
   "execution_count": 596,
   "id": "7b245c16",
   "metadata": {},
   "outputs": [],
   "source": [
    "eight_np = eight.to_numpy()"
   ]
  },
  {
   "cell_type": "markdown",
   "id": "1f345211",
   "metadata": {},
   "source": [
    "# Q1: Display first 3 and 8"
   ]
  },
  {
   "cell_type": "code",
   "execution_count": 597,
   "id": "4d4b4815",
   "metadata": {},
   "outputs": [],
   "source": [
    "first_3 = np.reshape(three_np[0], (16, 16))\n",
    "first_8 = np.reshape(eight_np[0], (16, 16))"
   ]
  },
  {
   "cell_type": "code",
   "execution_count": 598,
   "id": "3c0632a8",
   "metadata": {},
   "outputs": [
    {
     "data": {
      "image/png": "[encoded data removed]",
      "text/plain": [
       "<Figure size 432x288 with 2 Axes>"
      ]
     },
     "metadata": {
      "needs_background": "light"
     },
     "output_type": "display_data"
    }
   ],
   "source": [
    "plt.imshow(first_3.T, cmap='gray', vmin=0, vmax=255)\n",
    "plt.colorbar()\n",
    "plt.show()"
   ]
  },
  {
   "cell_type": "code",
   "execution_count": 599,
   "id": "99283d45",
   "metadata": {},
   "outputs": [
    {
     "data": {
      "image/png": "[encoded data removed]",
      "text/plain": [
       "<Figure size 432x288 with 2 Axes>"
      ]
     },
     "metadata": {
      "needs_background": "light"
     },
     "output_type": "display_data"
    }
   ],
   "source": [
    "plt.imshow(first_8.T, cmap='gray', vmin=0, vmax=255)\n",
    "plt.colorbar()\n",
    "plt.show()"
   ]
  },
  {
   "cell_type": "markdown",
   "id": "128b4a37",
   "metadata": {},
   "source": [
    "# Q2: Compute mean (y) and display "
   ]
  },
  {
   "cell_type": "code",
   "execution_count": 600,
   "id": "21588ea8",
   "metadata": {},
   "outputs": [],
   "source": [
    "numbers = np.append(three_np, eight_np, axis=0)"
   ]
  },
  {
   "cell_type": "code",
   "execution_count": 601,
   "id": "aceabbce",
   "metadata": {},
   "outputs": [],
   "source": [
    "y = np.mean(numbers, axis=0)"
   ]
  },
  {
   "cell_type": "code",
   "execution_count": 602,
   "id": "c5249275",
   "metadata": {},
   "outputs": [],
   "source": [
    "y_image = np.reshape(y, (16, 16))"
   ]
  },
  {
   "cell_type": "code",
   "execution_count": 603,
   "id": "02e422c4",
   "metadata": {},
   "outputs": [
    {
     "data": {
      "image/png": "[encoded data removed]",
      "text/plain": [
       "<Figure size 432x288 with 2 Axes>"
      ]
     },
     "metadata": {
      "needs_background": "light"
     },
     "output_type": "display_data"
    }
   ],
   "source": [
    "plt.imshow(y_image.T, cmap='gray', vmin=0, vmax=255)\n",
    "plt.colorbar()\n",
    "plt.show()"
   ]
  },
  {
   "cell_type": "markdown",
   "id": "33a1d925",
   "metadata": {},
   "source": [
    "# Q3: Center X using y. Form sample covariance matrix S. Show the submatrix S[:5][:5]"
   ]
  },
  {
   "cell_type": "code",
   "execution_count": 604,
   "id": "23726892",
   "metadata": {},
   "outputs": [],
   "source": [
    "X = numbers - y"
   ]
  },
  {
   "cell_type": "code",
   "execution_count": 605,
   "id": "5821e011",
   "metadata": {},
   "outputs": [],
   "source": [
    "S = np.dot(X.T, X) / (X.shape[0]-1)"
   ]
  },
  {
   "cell_type": "code",
   "execution_count": 606,
   "id": "1f1a7e99",
   "metadata": {},
   "outputs": [
    {
     "data": {
      "text/plain": [
       "(256, 256)"
      ]
     },
     "execution_count": 606,
     "metadata": {},
     "output_type": "execute_result"
    }
   ],
   "source": [
    "S.shape"
   ]
  },
  {
   "cell_type": "code",
   "execution_count": 607,
   "id": "9347550a",
   "metadata": {},
   "outputs": [],
   "source": [
    "S_submatrix_5x5 = S[0:5:1, 0:5:1]"
   ]
  },
  {
   "cell_type": "code",
   "execution_count": 608,
   "id": "39c132ba",
   "metadata": {},
   "outputs": [
    {
     "data": {
      "text/plain": [
       "array([[  59.16729323,  142.14943609,   28.68201754,   -7.17857143,\n",
       "         -14.3358396 ],\n",
       "       [ 142.14943609,  878.93879073,  374.13731203,   24.12778195,\n",
       "         -87.12781955],\n",
       "       [  28.68201754,  374.13731203, 1082.9058584 ,  555.2268797 ,\n",
       "          33.72431078],\n",
       "       [  -7.17857143,   24.12778195,  555.2268797 , 1181.24408521,\n",
       "         777.77192982],\n",
       "       [ -14.3358396 ,  -87.12781955,   33.72431078,  777.77192982,\n",
       "        1429.95989975]])"
      ]
     },
     "execution_count": 608,
     "metadata": {},
     "output_type": "execute_result"
    }
   ],
   "source": [
    "S_submatrix_5x5"
   ]
  },
  {
   "cell_type": "markdown",
   "id": "e48f21dc",
   "metadata": {},
   "source": [
    "# Q4: Compute eigen values l1, l2 and eigen vectors v1, v2 of S. Show l1, l2. Visualize v1, v2 as 2 images. Add a colorbar"
   ]
  },
  {
   "cell_type": "code",
   "execution_count": 609,
   "id": "8048ed53",
   "metadata": {},
   "outputs": [],
   "source": [
    "L, v = eig(S)"
   ]
  },
  {
   "cell_type": "code",
   "execution_count": 610,
   "id": "a94ff5f3",
   "metadata": {},
   "outputs": [],
   "source": [
    "sorted_idx = np.argsort(L)[::-1]\n",
    "L = L[sorted_idx]\n",
    "v = v[:,sorted_idx]"
   ]
  },
  {
   "cell_type": "code",
   "execution_count": 611,
   "id": "49300443",
   "metadata": {},
   "outputs": [],
   "source": [
    "L1 = L[0]\n",
    "L2 = L[1]"
   ]
  },
  {
   "cell_type": "code",
   "execution_count": 612,
   "id": "0516812c",
   "metadata": {},
   "outputs": [],
   "source": [
    "V1 = v.T[0]\n",
    "V2 = v.T[1]"
   ]
  },
  {
   "cell_type": "code",
   "execution_count": 613,
   "id": "f2b22f37",
   "metadata": {},
   "outputs": [
    {
     "data": {
      "text/plain": [
       "237155.2462904853"
      ]
     },
     "execution_count": 613,
     "metadata": {},
     "output_type": "execute_result"
    }
   ],
   "source": [
    "L1"
   ]
  },
  {
   "cell_type": "code",
   "execution_count": 614,
   "id": "12877568",
   "metadata": {},
   "outputs": [
    {
     "data": {
      "text/plain": [
       "145188.3526868256"
      ]
     },
     "execution_count": 614,
     "metadata": {},
     "output_type": "execute_result"
    }
   ],
   "source": [
    "L2"
   ]
  },
  {
   "cell_type": "code",
   "execution_count": 615,
   "id": "795567f2",
   "metadata": {},
   "outputs": [],
   "source": [
    "V1_image = np.reshape(((V1 - V1.min()) * (1/(V1.max() - V1.min()) * 255)).astype('uint8'), (16, 16))"
   ]
  },
  {
   "cell_type": "code",
   "execution_count": 616,
   "id": "d508c6bc",
   "metadata": {},
   "outputs": [],
   "source": [
    "V2_image = np.reshape(((V2 - V2.min()) * (1/(V2.max() - V2.min()) * 255)).astype('uint8'), (16, 16))"
   ]
  },
  {
   "cell_type": "code",
   "execution_count": 617,
   "id": "fc08793d",
   "metadata": {},
   "outputs": [
    {
     "data": {
      "image/png": "[encoded data removed]",
      "text/plain": [
       "<Figure size 432x288 with 2 Axes>"
      ]
     },
     "metadata": {
      "needs_background": "light"
     },
     "output_type": "display_data"
    }
   ],
   "source": [
    "plt.imshow(V1_image.T, cmap='gray', vmin=0, vmax=255)\n",
    "plt.colorbar()\n",
    "plt.show()"
   ]
  },
  {
   "cell_type": "code",
   "execution_count": 618,
   "id": "dfb75a8d",
   "metadata": {},
   "outputs": [
    {
     "data": {
      "image/png": "[encoded data removed]",
      "text/plain": [
       "<Figure size 432x288 with 2 Axes>"
      ]
     },
     "metadata": {
      "needs_background": "light"
     },
     "output_type": "display_data"
    }
   ],
   "source": [
    "plt.imshow(V2_image.T, cmap='gray', vmin=0, vmax=255)\n",
    "plt.colorbar()\n",
    "plt.show()"
   ]
  },
  {
   "cell_type": "markdown",
   "id": "8f383457",
   "metadata": {},
   "source": [
    "# Q5: Project X down to V1 and V2, i.e. compute XV. Show the two co-ordinates for first line in three and eight"
   ]
  },
  {
   "cell_type": "code",
   "execution_count": 619,
   "id": "171a94cf",
   "metadata": {},
   "outputs": [],
   "source": [
    "V = np.vstack([np.reshape(V1,(1, V1.size)), np.reshape(V2,(1, V2.size))]).T"
   ]
  },
  {
   "cell_type": "code",
   "execution_count": 620,
   "id": "4c975842",
   "metadata": {},
   "outputs": [],
   "source": [
    "XV = np.dot(X, V)"
   ]
  },
  {
   "cell_type": "code",
   "execution_count": 621,
   "id": "a2cf3d47",
   "metadata": {},
   "outputs": [
    {
     "data": {
      "text/plain": [
       "(400, 2)"
      ]
     },
     "execution_count": 621,
     "metadata": {},
     "output_type": "execute_result"
    }
   ],
   "source": [
    "XV.shape"
   ]
  },
  {
   "cell_type": "code",
   "execution_count": 622,
   "id": "84170765",
   "metadata": {},
   "outputs": [
    {
     "data": {
      "text/plain": [
       "array([ 136.20872784, -242.62848028])"
      ]
     },
     "execution_count": 622,
     "metadata": {},
     "output_type": "execute_result"
    }
   ],
   "source": [
    "# co-ordinates for 1st three\n",
    "XV[0]"
   ]
  },
  {
   "cell_type": "code",
   "execution_count": 623,
   "id": "174ad6e0",
   "metadata": {},
   "outputs": [
    {
     "data": {
      "text/plain": [
       "array([-312.68702792,  649.57346086])"
      ]
     },
     "execution_count": 623,
     "metadata": {},
     "output_type": "execute_result"
    }
   ],
   "source": [
    "# co-ordinates for 1st eight\n",
    "XV[200]"
   ]
  },
  {
   "cell_type": "code",
   "execution_count": 624,
   "id": "6779df83",
   "metadata": {},
   "outputs": [],
   "source": [
    "# Calculation on scaled V_image"
   ]
  },
  {
   "cell_type": "code",
   "execution_count": 625,
   "id": "c7ac2662",
   "metadata": {},
   "outputs": [],
   "source": [
    "V_image = np.vstack([np.reshape(V1_image,(1, V1_image.size)), np.reshape(V2_image,(1, V2_image.size))]).T"
   ]
  },
  {
   "cell_type": "code",
   "execution_count": 626,
   "id": "c6cb7c3e",
   "metadata": {},
   "outputs": [],
   "source": [
    "XV_image = np.dot(X, V_image)"
   ]
  },
  {
   "cell_type": "code",
   "execution_count": 627,
   "id": "a8d4ecbc",
   "metadata": {},
   "outputs": [
    {
     "data": {
      "text/plain": [
       "array([228352.83 , -49638.115])"
      ]
     },
     "execution_count": 627,
     "metadata": {},
     "output_type": "execute_result"
    }
   ],
   "source": [
    "# co-ordinates for 1st three\n",
    "XV_image[0]"
   ]
  },
  {
   "cell_type": "code",
   "execution_count": 628,
   "id": "c656b47d",
   "metadata": {},
   "outputs": [
    {
     "data": {
      "text/plain": [
       "array([ 251859.83 , 1135966.885])"
      ]
     },
     "execution_count": 628,
     "metadata": {},
     "output_type": "execute_result"
    }
   ],
   "source": [
    "# co-ordinates for 1st eight\n",
    "XV_image[200]"
   ]
  },
  {
   "cell_type": "markdown",
   "id": "9e76d56d",
   "metadata": {},
   "source": [
    "# Q6: Plot the 2D point cloud of the 400 digits after projection. Color 3s as red and 8s as blue"
   ]
  },
  {
   "cell_type": "code",
   "execution_count": 629,
   "id": "adb822de",
   "metadata": {},
   "outputs": [],
   "source": [
    "XV3 = XV[0:200:1]\n",
    "XV8 = XV[200:400:1]"
   ]
  },
  {
   "cell_type": "code",
   "execution_count": 630,
   "id": "60da8715",
   "metadata": {},
   "outputs": [
    {
     "data": {
      "image/png": "[encoded data removed]",
      "text/plain": [
       "<Figure size 432x288 with 1 Axes>"
      ]
     },
     "metadata": {
      "needs_background": "light"
     },
     "output_type": "display_data"
    }
   ],
   "source": [
    "plt.scatter(XV3.T[0], XV3.T[1], c='r', label='3')\n",
    "plt.scatter(XV8.T[0], XV8.T[1], c='b', label='8')\n",
    "plt.xlabel('V1')\n",
    "plt.ylabel('V2')\n",
    "plt.legend(loc='upper left')\n",
    "plt.show()"
   ]
  },
  {
   "cell_type": "code",
   "execution_count": 631,
   "id": "a761de97",
   "metadata": {},
   "outputs": [],
   "source": [
    "# Plotting using the scaled values of "
   ]
  },
  {
   "cell_type": "code",
   "execution_count": 632,
   "id": "977294af",
   "metadata": {},
   "outputs": [],
   "source": [
    "XV3_image = XV_image[0:200:1]\n",
    "XV8_image = XV_image[200:400:1]"
   ]
  },
  {
   "cell_type": "code",
   "execution_count": 633,
   "id": "e57ec9ca",
   "metadata": {},
   "outputs": [
    {
     "data": {
      "image/png": "[encoded data removed]",
      "text/plain": [
       "<Figure size 432x288 with 1 Axes>"
      ]
     },
     "metadata": {
      "needs_background": "light"
     },
     "output_type": "display_data"
    }
   ],
   "source": [
    "plt.scatter(XV3_image.T[0], XV3_image.T[1], c='r', label='3')\n",
    "plt.scatter(XV8_image.T[0], XV8_image.T[1], c='b', label='8')\n",
    "plt.xlabel('V1')\n",
    "plt.ylabel('V2')\n",
    "plt.legend(loc='upper left')\n",
    "plt.show()"
   ]
  },
  {
   "cell_type": "code",
   "execution_count": null,
   "id": "169c662a",
   "metadata": {},
   "outputs": [],
   "source": []
  },
  {
   "cell_type": "code",
   "execution_count": null,
   "id": "076a188e",
   "metadata": {},
   "outputs": [],
   "source": []
  }
 ],
 "metadata": {
  "kernelspec": {
   "display_name": "Python 3 (ipykernel)",
   "language": "python",
   "name": "python3"
  },
  "language_info": {
   "codemirror_mode": {
    "name": "ipython",
    "version": 3
   },
   "file_extension": ".py",
   "mimetype": "text/x-python",
   "name": "python",
   "nbconvert_exporter": "python",
   "pygments_lexer": "ipython3",
   "version": "3.9.12"
  }
 },
 "nbformat": 4,
 "nbformat_minor": 5
}
