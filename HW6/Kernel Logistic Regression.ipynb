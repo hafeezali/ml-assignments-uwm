{
 "cells": [
  {
   "cell_type": "code",
   "execution_count": 88,
   "id": "be03f7ab",
   "metadata": {},
   "outputs": [],
   "source": [
    "import numpy as np\n",
    "import matplotlib.pyplot as plt\n",
    "from sklearn.model_selection import train_test_split\n",
    "from sklearn.datasets import make_circles\n",
    "from sklearn.datasets import load_breast_cancer"
   ]
  },
  {
   "cell_type": "code",
   "execution_count": 89,
   "id": "065f1e60",
   "metadata": {},
   "outputs": [],
   "source": [
    "class KernelLogisticRegression:\n",
    "\n",
    "    def __init__(self, kernel, gamma, degree):\n",
    "        self.kernel = kernel\n",
    "        self.gamma = gamma\n",
    "        self.degree = degree\n",
    "        \n",
    "    def rbf(self, X1, X2):\n",
    "        return np.exp(-self.gamma * np.sum((X2 - X1[:,np.newaxis])**2, axis = -1))\n",
    "    \n",
    "    def poly(self, X1, X2, k=0.5):\n",
    "        # TODO: Need to add a constant term as well...\n",
    "        return (np.matmul(X1, np.transpose(X2))+k)**self.degree\n",
    "    \n",
    "    def linear(self, X):\n",
    "        return X\n",
    "    \n",
    "    def sigmoid(self, X):\n",
    "        return 1 / (1 + np.exp(-X))\n",
    "\n",
    "    def compute_gradients(self, X_train, Y_train, Y_cap):\n",
    "        dw = np.dot(X_train.T, (Y_cap - Y_train)) / Y_train.shape[0]\n",
    "        db = np.sum((Y_cap - Y_train)) / Y_train.shape[0]\n",
    "        return  dw, db\n",
    "\n",
    "    def train(self, X, Y, n_iter, alpha):\n",
    "        \n",
    "        self.x_start = X.copy()\n",
    "        \n",
    "        if self.kernel == \"rbf\":\n",
    "            X = self.rbf(X, X)\n",
    "        elif self.kernel == \"poly\":\n",
    "            X = self.poly(X, X)\n",
    "        elif self.kernel == \"linear\":\n",
    "            X = self.linear(X)\n",
    "        else:\n",
    "            print(\"Unexpected kernel type...\")\n",
    "        \n",
    "        W = np.zeros(X.shape[1])\n",
    "        b = 0\n",
    "        for i in range(n_iter):\n",
    "            y_cap = self.sigmoid(np.dot(X, W) + b)\n",
    "            dw, db = self.compute_gradients(X, Y, y_cap)\n",
    "            W = W - alpha * dw\n",
    "            b = b - alpha * db\n",
    "        self.W = W\n",
    "        self.b = b\n",
    "        return\n",
    "\n",
    "    def predict(self, X):\n",
    "        if self.kernel == \"rbf\":\n",
    "            X = self.rbf(X, self.x_start)\n",
    "        elif self.kernel == \"poly\":\n",
    "            X = self.poly(X, self.x_start)\n",
    "        elif self.kernel == \"linear\":\n",
    "            X = self.linear(X)\n",
    "        else:\n",
    "            print(\"Unexpected kernel type...\")\n",
    "        \n",
    "        y_cap = self.sigmoid(np.dot(X, self.W) + self.b)\n",
    "        y_pred = [1 if i > 0.5 else 0 for i in y_cap]\n",
    "        return np.array(y_pred)\n",
    "    \n",
    "    def evaluate(self, X, Y):\n",
    "        y_pred = self.predict(X)\n",
    "        acc = len(np.where(y_pred == Y)[0]) / len(Y)\n",
    "        return acc"
   ]
  },
  {
   "cell_type": "code",
   "execution_count": 90,
   "id": "b473f982",
   "metadata": {},
   "outputs": [],
   "source": [
    "def decision_boundary(model, X, Y):\n",
    "    X1_min, X1_max = X[:, 0].min() - 1, X[:, 0].max() + 1\n",
    "    X2_min, X2_max = X[:, 1].min() - 1, X[:, 1].max() + 1\n",
    "    \n",
    "    XX, YY = np.meshgrid(np.arange(X1_min, X1_max, 0.02), np.arange(X2_min, X2_max, 0.02))\n",
    "\n",
    "    Z = model.predict(np.c_[XX.ravel(), YY.ravel()])\n",
    "    Z = Z.reshape(XX.shape)\n",
    "    \n",
    "    plt.scatter(X[np.where(Y==0)[0], 0], X[np.where(Y==0)[0], 1], label='0')\n",
    "    plt.scatter(X[np.where(Y==1)[0], 0], X[np.where(Y==1)[0], 1], label='1')\n",
    "    plt.contour(XX, YY, Z, cmap=plt.cm.Paired)\n",
    "    plt.legend()\n",
    "    plt.show()"
   ]
  },
  {
   "cell_type": "code",
   "execution_count": 91,
   "id": "b376a489",
   "metadata": {},
   "outputs": [],
   "source": [
    "# Q. 3.3"
   ]
  },
  {
   "cell_type": "code",
   "execution_count": 232,
   "id": "c2814b96",
   "metadata": {},
   "outputs": [],
   "source": [
    "X, Y = make_circles(1500)"
   ]
  },
  {
   "cell_type": "code",
   "execution_count": 233,
   "id": "022e638d",
   "metadata": {},
   "outputs": [],
   "source": [
    "X_train, X_test, Y_train, Y_test = train_test_split(X, Y, test_size=250, random_state=1)"
   ]
  },
  {
   "cell_type": "code",
   "execution_count": 234,
   "id": "cfb810b5",
   "metadata": {},
   "outputs": [],
   "source": [
    "X_train, X_val, Y_train, Y_val = train_test_split(X_train, Y_train, test_size=250, random_state=1)"
   ]
  },
  {
   "cell_type": "code",
   "execution_count": 95,
   "id": "e7a8f516",
   "metadata": {},
   "outputs": [],
   "source": [
    "klr = KernelLogisticRegression(kernel=\"rbf\", gamma=5, degree=None)\n",
    "klr.train(X_train, Y_train, n_iter=100, alpha=0.1)"
   ]
  },
  {
   "cell_type": "code",
   "execution_count": 96,
   "id": "cb20cf25",
   "metadata": {},
   "outputs": [
    {
     "data": {
      "image/png": "[encoded data removed]",
      "text/plain": [
       "<Figure size 432x288 with 1 Axes>"
      ]
     },
     "metadata": {
      "needs_background": "light"
     },
     "output_type": "display_data"
    }
   ],
   "source": [
    "decision_boundary(klr, X_train, Y_train)"
   ]
  },
  {
   "cell_type": "code",
   "execution_count": 97,
   "id": "6bb53f34",
   "metadata": {},
   "outputs": [
    {
     "data": {
      "text/plain": [
       "1.0"
      ]
     },
     "execution_count": 97,
     "metadata": {},
     "output_type": "execute_result"
    }
   ],
   "source": [
    "# Kernel Logistic Regression\n",
    "# Kernel = \"RBF\", gamma = 5, lr = 0.1, epochs = 100\n",
    "# Accuracy = 100%\n",
    "klr.evaluate(X_test, Y_test)"
   ]
  },
  {
   "cell_type": "code",
   "execution_count": 229,
   "id": "789cc053",
   "metadata": {},
   "outputs": [],
   "source": [
    "klr = KernelLogisticRegression(kernel=\"poly\", gamma=None, degree=2)\n",
    "klr.train(X_train, Y_train, n_iter=1000, alpha=0.01)"
   ]
  },
  {
   "cell_type": "code",
   "execution_count": 230,
   "id": "1ce7cbcc",
   "metadata": {},
   "outputs": [
    {
     "data": {
      "image/png": "[encoded data removed]",
      "text/plain": [
       "<Figure size 432x288 with 1 Axes>"
      ]
     },
     "metadata": {
      "needs_background": "light"
     },
     "output_type": "display_data"
    }
   ],
   "source": [
    "decision_boundary(klr, X_train, Y_train)"
   ]
  },
  {
   "cell_type": "code",
   "execution_count": 231,
   "id": "fc99b8d6",
   "metadata": {},
   "outputs": [
    {
     "data": {
      "text/plain": [
       "1.0"
      ]
     },
     "execution_count": 231,
     "metadata": {},
     "output_type": "execute_result"
    }
   ],
   "source": [
    "# Kernel Logistic Regression\n",
    "# Kernel = \"Polynomial\", degree=3, lr = 0.01, epochs = 2000\n",
    "# Accuracy = 100%\n",
    "klr.evaluate(X_test, Y_test)"
   ]
  },
  {
   "cell_type": "code",
   "execution_count": 146,
   "id": "3831e871",
   "metadata": {},
   "outputs": [],
   "source": [
    "# Q. 3.4"
   ]
  },
  {
   "cell_type": "code",
   "execution_count": 255,
   "id": "915bf227",
   "metadata": {},
   "outputs": [],
   "source": [
    "X, Y = load_breast_cancer(return_X_y=True)"
   ]
  },
  {
   "cell_type": "code",
   "execution_count": 256,
   "id": "8f6d7ada",
   "metadata": {},
   "outputs": [],
   "source": [
    "X_train, X_test, Y_train, Y_test = train_test_split(X, Y, test_size=500, random_state=2)"
   ]
  },
  {
   "cell_type": "code",
   "execution_count": 257,
   "id": "1fbafc5a",
   "metadata": {},
   "outputs": [],
   "source": [
    "X_train, X_val, Y_train, Y_val = train_test_split(X_train, Y_train, test_size=50, random_state=2)"
   ]
  },
  {
   "cell_type": "code",
   "execution_count": 188,
   "id": "f6f24404",
   "metadata": {},
   "outputs": [],
   "source": [
    "klr = KernelLogisticRegression(kernel=\"rbf\", gamma=4, degree=None)\n",
    "klr.train(X_train, Y_train, n_iter=300, alpha=0.001)"
   ]
  },
  {
   "cell_type": "code",
   "execution_count": 189,
   "id": "cbc54d2b",
   "metadata": {},
   "outputs": [
    {
     "data": {
      "text/plain": [
       "0.63"
      ]
     },
     "execution_count": 189,
     "metadata": {},
     "output_type": "execute_result"
    }
   ],
   "source": [
    "# Logistic Regression - RBF kernel - on breast cancer dataset\n",
    "# epochs = 300, alpha = 0.001, gamma = 4\n",
    "# Accuracy = 63%\n",
    "klr.evaluate(X_test, Y_test)"
   ]
  },
  {
   "cell_type": "code",
   "execution_count": 262,
   "id": "ebd9a170",
   "metadata": {},
   "outputs": [
    {
     "name": "stderr",
     "output_type": "stream",
     "text": [
      "/var/folders/v0/g401c4x979d___jdl5ddw2_r0000gn/T/ipykernel_5953/1288338910.py:19: RuntimeWarning: overflow encountered in exp\n",
      "  return 1 / (1 + np.exp(-X))\n"
     ]
    }
   ],
   "source": [
    "klr = KernelLogisticRegression(kernel=\"poly\", gamma=None, degree=2)\n",
    "klr.train(X_train, Y_train, n_iter=100, alpha=0.002)"
   ]
  },
  {
   "cell_type": "code",
   "execution_count": 264,
   "id": "97652746",
   "metadata": {},
   "outputs": [
    {
     "data": {
      "text/plain": [
       "0.602"
      ]
     },
     "execution_count": 264,
     "metadata": {},
     "output_type": "execute_result"
    }
   ],
   "source": [
    "# Logistic Regression - Poly kernel - on breast cancer dataset\n",
    "# epochs = 100, alpha = 0.002, degree = 2\n",
    "# Accuracy = 60.2%\n",
    "klr.evaluate(X_test, Y_test)"
   ]
  },
  {
   "cell_type": "code",
   "execution_count": null,
   "id": "1028678a",
   "metadata": {},
   "outputs": [],
   "source": []
  }
 ],
 "metadata": {
  "kernelspec": {
   "display_name": "Python 3 (ipykernel)",
   "language": "python",
   "name": "python3"
  },
  "language_info": {
   "codemirror_mode": {
    "name": "ipython",
    "version": 3
   },
   "file_extension": ".py",
   "mimetype": "text/x-python",
   "name": "python",
   "nbconvert_exporter": "python",
   "pygments_lexer": "ipython3",
   "version": "3.9.12"
  }
 },
 "nbformat": 4,
 "nbformat_minor": 5
}
