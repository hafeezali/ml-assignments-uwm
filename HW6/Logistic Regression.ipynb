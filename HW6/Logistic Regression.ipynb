{
 "cells": [
  {
   "cell_type": "code",
   "execution_count": 139,
   "id": "49edd8aa",
   "metadata": {},
   "outputs": [],
   "source": [
    "import numpy as np\n",
    "import matplotlib.pyplot as plt\n",
    "from sklearn.model_selection import train_test_split\n",
    "from sklearn.datasets import make_circles\n",
    "from sklearn.datasets import load_breast_cancer"
   ]
  },
  {
   "cell_type": "code",
   "execution_count": 140,
   "id": "480c9ad7",
   "metadata": {},
   "outputs": [],
   "source": [
    "class LogisticRegression:\n",
    "\n",
    "    def sigmoid(self, X):\n",
    "        return 1 / (1 + np.exp(-X))\n",
    "\n",
    "    def compute_gradients(self, X_train, Y_train, Y_cap):\n",
    "        dw = np.dot(X_train.T, (Y_cap - Y_train)) / Y_train.shape[0]\n",
    "        db = np.sum((Y_cap - Y_train)) / Y_train.shape[0]\n",
    "        return  dw, db\n",
    "\n",
    "    def train(self, X, Y, n_iter, alpha):\n",
    "        W = np.zeros(X.shape[1])\n",
    "        b = 0\n",
    "        for i in range(n_iter):\n",
    "            y_cap = self.sigmoid(np.dot(X, W) + b)\n",
    "            dw, db = self.compute_gradients(X, Y, y_cap)\n",
    "            W = W - alpha * dw\n",
    "            b = b - alpha * db\n",
    "        self.W = W\n",
    "        self.b = b\n",
    "        return\n",
    "\n",
    "    def predict(self, X):\n",
    "        y_cap = self.sigmoid(np.dot(X, self.W) + self.b)\n",
    "        y_pred = [1 if i > 0.5 else 0 for i in y_cap]\n",
    "        return np.array(y_pred)\n",
    "    \n",
    "    def evaluate(self, X, Y):\n",
    "        y_pred = self.predict(X)\n",
    "        acc = len(np.where(y_pred == Y)[0]) / len(Y)\n",
    "        return acc"
   ]
  },
  {
   "cell_type": "code",
   "execution_count": 141,
   "id": "b26ff737",
   "metadata": {},
   "outputs": [],
   "source": [
    "def decision_boundary(model, X, Y):\n",
    "    X1_min, X1_max = X[:, 0].min() - 1, X[:, 0].max() + 1\n",
    "    X2_min, X2_max = X[:, 1].min() - 1, X[:, 1].max() + 1\n",
    "    \n",
    "    XX, YY = np.meshgrid(np.arange(X1_min, X1_max, 0.02), np.arange(X2_min, X2_max, 0.02))\n",
    "\n",
    "    Z = model.predict(np.c_[XX.ravel(), YY.ravel()])\n",
    "    Z = Z.reshape(XX.shape)\n",
    "    \n",
    "    plt.scatter(X[np.where(Y==0)[0], 0], X[np.where(Y==0)[0], 1], label='0')\n",
    "    plt.scatter(X[np.where(Y==1)[0], 0], X[np.where(Y==1)[0], 1], label='1')\n",
    "    plt.contour(XX, YY, Z, cmap=plt.cm.Paired)\n",
    "    plt.legend()\n",
    "    plt.show()"
   ]
  },
  {
   "cell_type": "code",
   "execution_count": 142,
   "id": "8cfed2cc",
   "metadata": {},
   "outputs": [],
   "source": [
    "# Q. 3.2 \n",
    "X = np.vstack((np.random.multivariate_normal([2.5, 0.0], np.identity(2), 750), np.random.multivariate_normal([-2.5, 0.0], np.identity(2), 750)))\n",
    "Y = np.concatenate((np.zeros(750), np.ones(750)))"
   ]
  },
  {
   "cell_type": "code",
   "execution_count": 143,
   "id": "fc515bd5",
   "metadata": {},
   "outputs": [],
   "source": [
    "X_train, X_test, Y_train, Y_test = train_test_split(X, Y, test_size=250, random_state=1)"
   ]
  },
  {
   "cell_type": "code",
   "execution_count": 144,
   "id": "d883a0e3",
   "metadata": {},
   "outputs": [],
   "source": [
    "X_train, X_val, Y_train, Y_val = train_test_split(X_train, Y_train, test_size=250, random_state=1)"
   ]
  },
  {
   "cell_type": "code",
   "execution_count": 145,
   "id": "9217bdc8",
   "metadata": {},
   "outputs": [],
   "source": [
    "lr = LogisticRegression()\n",
    "lr.train(X_train, Y_train, n_iter=1000, alpha=0.1)"
   ]
  },
  {
   "cell_type": "code",
   "execution_count": 146,
   "id": "f8aabe10",
   "metadata": {},
   "outputs": [
    {
     "data": {
      "text/plain": [
       "0.992"
      ]
     },
     "execution_count": 146,
     "metadata": {},
     "output_type": "execute_result"
    }
   ],
   "source": [
    "# Logistic Regression\n",
    "# alpha (learning rate = 0.1), epochs = 1000\n",
    "# Test Accuracy = 99.2%\n",
    "lr.evaluate(X_test, Y_test)"
   ]
  },
  {
   "cell_type": "code",
   "execution_count": 147,
   "id": "04a51dcb",
   "metadata": {},
   "outputs": [
    {
     "data": {
      "image/png": "[encoded data removed]",
      "text/plain": [
       "<Figure size 432x288 with 1 Axes>"
      ]
     },
     "metadata": {
      "needs_background": "light"
     },
     "output_type": "display_data"
    }
   ],
   "source": [
    "decision_boundary(lr, X_test, Y_test)"
   ]
  },
  {
   "cell_type": "code",
   "execution_count": 162,
   "id": "143ef463",
   "metadata": {},
   "outputs": [],
   "source": [
    "# Q. 3.3"
   ]
  },
  {
   "cell_type": "code",
   "execution_count": 163,
   "id": "bcece7ee",
   "metadata": {},
   "outputs": [],
   "source": [
    "X, Y = make_circles(1500)"
   ]
  },
  {
   "cell_type": "code",
   "execution_count": 164,
   "id": "d8a92d40",
   "metadata": {},
   "outputs": [],
   "source": [
    "X_train, X_test, Y_train, Y_test = train_test_split(X, Y, test_size=250, random_state=1)"
   ]
  },
  {
   "cell_type": "code",
   "execution_count": 165,
   "id": "11ecf875",
   "metadata": {},
   "outputs": [],
   "source": [
    "X_train, X_val, Y_train, Y_val = train_test_split(X_train, Y_train, test_size=250, random_state=1)"
   ]
  },
  {
   "cell_type": "code",
   "execution_count": 166,
   "id": "e37e7ae2",
   "metadata": {},
   "outputs": [],
   "source": [
    "lr = LogisticRegression()\n",
    "lr.train(X_train, Y_train, n_iter=1000, alpha=0.1)"
   ]
  },
  {
   "cell_type": "code",
   "execution_count": 167,
   "id": "dc6a1fe6",
   "metadata": {},
   "outputs": [
    {
     "data": {
      "text/plain": [
       "0.549"
      ]
     },
     "execution_count": 167,
     "metadata": {},
     "output_type": "execute_result"
    }
   ],
   "source": [
    "lr.evaluate(X_train, Y_train)"
   ]
  },
  {
   "cell_type": "code",
   "execution_count": 168,
   "id": "22a9682b",
   "metadata": {},
   "outputs": [
    {
     "data": {
      "image/png": "[encoded data removed]",
      "text/plain": [
       "<Figure size 432x288 with 1 Axes>"
      ]
     },
     "metadata": {
      "needs_background": "light"
     },
     "output_type": "display_data"
    }
   ],
   "source": [
    "decision_boundary(lr, X_train, Y_train)"
   ]
  },
  {
   "cell_type": "code",
   "execution_count": 169,
   "id": "922bcaad",
   "metadata": {},
   "outputs": [],
   "source": [
    "# Q. 3.4"
   ]
  },
  {
   "cell_type": "code",
   "execution_count": 170,
   "id": "27dfb244",
   "metadata": {},
   "outputs": [],
   "source": [
    "X, Y = load_breast_cancer(return_X_y=True)"
   ]
  },
  {
   "cell_type": "code",
   "execution_count": 171,
   "id": "66856864",
   "metadata": {},
   "outputs": [],
   "source": [
    "X_train, X_test, Y_train, Y_test = train_test_split(X, Y, test_size=95, random_state=1)"
   ]
  },
  {
   "cell_type": "code",
   "execution_count": 172,
   "id": "1e88bec5",
   "metadata": {},
   "outputs": [],
   "source": [
    "X_train, X_val, Y_train, Y_val = train_test_split(X_train, Y_train, test_size=95, random_state=1)"
   ]
  },
  {
   "cell_type": "code",
   "execution_count": 183,
   "id": "558d0112",
   "metadata": {},
   "outputs": [
    {
     "name": "stderr",
     "output_type": "stream",
     "text": [
      "/var/folders/v0/g401c4x979d___jdl5ddw2_r0000gn/T/ipykernel_3978/1224336609.py:4: RuntimeWarning: overflow encountered in exp\n",
      "  return 1 / (1 + np.exp(-X))\n"
     ]
    }
   ],
   "source": [
    "lr = LogisticRegression()\n",
    "lr.train(X_train, Y_train, n_iter=1000, alpha=0.01)"
   ]
  },
  {
   "cell_type": "code",
   "execution_count": 184,
   "id": "43e6b058",
   "metadata": {},
   "outputs": [
    {
     "name": "stderr",
     "output_type": "stream",
     "text": [
      "/var/folders/v0/g401c4x979d___jdl5ddw2_r0000gn/T/ipykernel_3978/1224336609.py:4: RuntimeWarning: overflow encountered in exp\n",
      "  return 1 / (1 + np.exp(-X))\n"
     ]
    },
    {
     "data": {
      "text/plain": [
       "0.9368421052631579"
      ]
     },
     "execution_count": 184,
     "metadata": {},
     "output_type": "execute_result"
    }
   ],
   "source": [
    "# Logistic Regression - Linear\n",
    "# epochs=1000, alpha (lr) = 0.01\n",
    "# Accuracy = 93.68%\n",
    "lr.evaluate(X_test, Y_test)"
   ]
  },
  {
   "cell_type": "code",
   "execution_count": null,
   "id": "5be751e7",
   "metadata": {},
   "outputs": [],
   "source": []
  }
 ],
 "metadata": {
  "kernelspec": {
   "display_name": "Python 3 (ipykernel)",
   "language": "python",
   "name": "python3"
  },
  "language_info": {
   "codemirror_mode": {
    "name": "ipython",
    "version": 3
   },
   "file_extension": ".py",
   "mimetype": "text/x-python",
   "name": "python",
   "nbconvert_exporter": "python",
   "pygments_lexer": "ipython3",
   "version": "3.9.12"
  }
 },
 "nbformat": 4,
 "nbformat_minor": 5
}
