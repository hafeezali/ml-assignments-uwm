{
  "nbformat": 4,
  "nbformat_minor": 0,
  "metadata": {
    "colab": {
      "provenance": []
    },
    "kernelspec": {
      "name": "python3",
      "display_name": "Python 3"
    },
    "language_info": {
      "name": "python"
    }
  },
  "cells": [
    {
      "cell_type": "code",
      "execution_count": 5,
      "metadata": {
        "id": "_9svXa9q1UYr"
      },
      "outputs": [],
      "source": [
        "from keras.models import Sequential, load_model\n",
        "from keras.layers.core import Dense, Dropout, Activation\n",
        "from keras.utils import np_utils\n",
        "import keras\n",
        "import numpy as np\n",
        "import matplotlib.pyplot as plt\n",
        "from sklearn.model_selection import train_test_split\n",
        "from sklearn.datasets import make_circles\n",
        "from sklearn.datasets import load_breast_cancer"
      ]
    },
    {
      "cell_type": "code",
      "source": [
        "# Q. 3.3"
      ],
      "metadata": {
        "id": "Q1CVxma51XUk"
      },
      "execution_count": 6,
      "outputs": []
    },
    {
      "cell_type": "code",
      "source": [
        "X, Y = make_circles(1500)"
      ],
      "metadata": {
        "id": "jhHxdMZW1re8"
      },
      "execution_count": 7,
      "outputs": []
    },
    {
      "cell_type": "code",
      "source": [
        "X_train, X_test, Y_train, Y_test = train_test_split(X, Y, test_size=250, random_state=1)"
      ],
      "metadata": {
        "id": "H-aYI7lG1shz"
      },
      "execution_count": 8,
      "outputs": []
    },
    {
      "cell_type": "code",
      "source": [
        "X_train, X_val, Y_train, Y_val = train_test_split(X_train, Y_train, test_size=250, random_state=1)"
      ],
      "metadata": {
        "id": "NZ-0a66p1xjx"
      },
      "execution_count": 9,
      "outputs": []
    },
    {
      "cell_type": "code",
      "source": [
        "Y_train = np_utils.to_categorical(Y_train, 2)\n",
        "Y_test = np_utils.to_categorical(Y_test, 2)"
      ],
      "metadata": {
        "id": "R7i3SoUu1ysN"
      },
      "execution_count": 10,
      "outputs": []
    },
    {
      "cell_type": "code",
      "source": [
        "# Refactor code\n",
        "def train_neural_network(n_epochs, batch, X_train, X_test, Y_train, Y_test):\n",
        "    model = Sequential()\n",
        "    model.add(Dense(100, input_shape=(2,)))\n",
        "    model.add(Activation('sigmoid'))\n",
        "    model.add(Dense(2))\n",
        "    model.add(Activation('softmax'))\n",
        "    model.compile(loss='categorical_crossentropy', metrics=['accuracy'], optimizer='sgd')\n",
        "    \n",
        "    model.fit(X_train, Y_train, batch_size=batch, epochs=n_epochs, verbose=0)\n",
        "    \n",
        "    loss_and_metrics = model.evaluate(X_test, Y_test, verbose=2)\n",
        "    \n",
        "    X = X_train\n",
        "    Y = Y_train\n",
        "    Y = np.argmax(Y_train, axis=1)\n",
        "    x_min, x_max = X[:, 0].min() - 1, X[:, 0].max() + 1\n",
        "    y_min, y_max = X[:, 1].min() - 1, X[:, 1].max() + 1\n",
        "    xx, yy = np.meshgrid(np.arange(x_min, x_max, 0.02), np.arange(y_min, y_max, 0.02))\n",
        "\n",
        "    Z = model.predict(np.c_[xx.ravel(), yy.ravel()])\n",
        "    Z = np.argmax(Z, axis=1)\n",
        "    Z = Z.reshape(xx.shape)\n",
        "    \n",
        "    plt.scatter(X[np.where(Y==0)[0], 0], X[np.where(Y==0)[0], 1], label='0')\n",
        "    plt.scatter(X[np.where(Y==1)[0], 0], X[np.where(Y==1)[0], 1], label='1')\n",
        "    \n",
        "    plt.contour(xx, yy, Z, cmap=plt.cm.Paired)\n",
        "    plt.legend()\n",
        "    plt.show()\n",
        "    \n",
        "    return loss_and_metrics[1]"
      ],
      "metadata": {
        "id": "RvnpoEFQ1znH"
      },
      "execution_count": 13,
      "outputs": []
    },
    {
      "cell_type": "code",
      "source": [
        "# Neural Network on Circles Dataset\n",
        "# epochs = 10000, batch size = 32, hidden layer size = 100\n",
        "res = train_neural_network(10000, 32, X_train, X_test, Y_train, Y_test)"
      ],
      "metadata": {
        "colab": {
          "base_uri": "https://localhost:8080/",
          "height": 300
        },
        "id": "o_MyB5wR10qm",
        "outputId": "5b5808e6-64c6-47ba-8782-b195c6e5c87a"
      },
      "execution_count": 15,
      "outputs": [
        {
          "output_type": "stream",
          "name": "stdout",
          "text": [
            "8/8 - 0s - loss: 0.5039 - accuracy: 0.9240 - 107ms/epoch - 13ms/step\n",
            "1250/1250 [==============================] - 1s 755us/step\n"
          ]
        },
        {
          "output_type": "display_data",
          "data": {
            "text/plain": [
              "<Figure size 432x288 with 1 Axes>"
            ],
            "image/png": "[encoded data removed]"
          },
          "metadata": {
            "needs_background": "light"
          }
        }
      ]
    },
    {
      "cell_type": "code",
      "source": [],
      "metadata": {
        "id": "UhOT3HsY1188"
      },
      "execution_count": 1,
      "outputs": []
    },
    {
      "cell_type": "code",
      "source": [],
      "metadata": {
        "id": "_ii0wqE6GGOf"
      },
      "execution_count": 1,
      "outputs": []
    }
  ]
}