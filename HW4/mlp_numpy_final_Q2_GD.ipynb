{
 "cells": [
  {
   "cell_type": "code",
   "execution_count": 1,
   "id": "ca39f7d7",
   "metadata": {},
   "outputs": [],
   "source": [
    "# Download dataset\n",
    "from torchvision.datasets import MNIST"
   ]
  },
  {
   "cell_type": "code",
   "execution_count": 2,
   "id": "ea896e52",
   "metadata": {},
   "outputs": [],
   "source": [
    "np_train_dataset = MNIST('./mnist_train_np/', train=True, download=True)"
   ]
  },
  {
   "cell_type": "code",
   "execution_count": 3,
   "id": "7b5f7b45",
   "metadata": {},
   "outputs": [],
   "source": [
    "# Start MLP implementation in numpy"
   ]
  },
  {
   "cell_type": "code",
   "execution_count": 31,
   "id": "327baec9",
   "metadata": {},
   "outputs": [],
   "source": [
    "import numpy as np\n",
    "import matplotlib.pylab as plt\n",
    "from sklearn.preprocessing import OneHotEncoder"
   ]
  },
  {
   "cell_type": "code",
   "execution_count": 5,
   "id": "81533a72",
   "metadata": {},
   "outputs": [],
   "source": [
    "np.random.seed(3)"
   ]
  },
  {
   "cell_type": "code",
   "execution_count": 6,
   "id": "50308269",
   "metadata": {},
   "outputs": [],
   "source": [
    "def fetch(fp):\n",
    "    with open(fp, \"rb\") as f:\n",
    "        data = f.read()\n",
    "    return np.frombuffer(data, dtype=np.uint8).copy()"
   ]
  },
  {
   "cell_type": "code",
   "execution_count": 7,
   "id": "fb3d15e3",
   "metadata": {},
   "outputs": [],
   "source": [
    "X_train = fetch(\"/Users/hafeezali/CS_760/HW4/mnist_train_np/MNIST/raw/train-images-idx3-ubyte\")[0x10:].reshape((-1, 28 * 28))\n",
    "Y_train = fetch(\"/Users/hafeezali/CS_760/HW4/mnist_train_np/MNIST/raw/train-labels-idx1-ubyte\")[8:]\n",
    "X_test = fetch(\"/Users/hafeezali/CS_760/HW4/mnist_train_np/MNIST/raw/t10k-images-idx3-ubyte\")[0x10:].reshape((-1, 28 * 28))\n",
    "Y_test = fetch(\"/Users/hafeezali/CS_760/HW4/mnist_train_np/MNIST/raw/t10k-labels-idx1-ubyte\")[8:]"
   ]
  },
  {
   "cell_type": "code",
   "execution_count": 9,
   "id": "83c129db",
   "metadata": {},
   "outputs": [],
   "source": [
    "def normalize_data_and_convert_to_one_hot(X_train, Y_train, X_test, Y_test):\n",
    "    \n",
    "    # Encode output label as a one hot vector\n",
    "    oneHotEncoder = OneHotEncoder(sparse=False, categories='auto')\n",
    "    Y_train = oneHotEncoder.fit_transform(Y_train.reshape(len(Y_train), -1))\n",
    "    Y_test = oneHotEncoder.transform(Y_test.reshape(len(Y_test), -1))\n",
    "    \n",
    "    # Normalize data by diving by 255. All values are in range 0-255\n",
    "    X_train = X_train / 255.\n",
    "    X_test = X_test / 255.\n",
    "\n",
    "    return X_train, Y_train, X_test, Y_test"
   ]
  },
  {
   "cell_type": "code",
   "execution_count": 10,
   "id": "cb90fc40",
   "metadata": {},
   "outputs": [],
   "source": [
    "X_train, Y_train, X_test, Y_test = normalize_data_and_convert_to_one_hot(X_train, Y_train, X_test, Y_test)"
   ]
  },
  {
   "cell_type": "code",
   "execution_count": 12,
   "id": "f86852df",
   "metadata": {},
   "outputs": [],
   "source": [
    "# initialize params\n",
    "n = 60000"
   ]
  },
  {
   "cell_type": "code",
   "execution_count": 13,
   "id": "4a91c9bb",
   "metadata": {},
   "outputs": [],
   "source": [
    "# initialize weights\n",
    "def initialize_weights():\n",
    "    W1 = np.random.randn(300, 784) / np.sqrt(784)\n",
    "    W2 = np.random.randn(10, 300) / np.sqrt(300)\n",
    "    return W1, W2"
   ]
  },
  {
   "cell_type": "code",
   "execution_count": 14,
   "id": "c73baefa",
   "metadata": {},
   "outputs": [],
   "source": [
    "costs = []\n",
    "accuracies = []"
   ]
  },
  {
   "cell_type": "code",
   "execution_count": 15,
   "id": "ce1a7437",
   "metadata": {},
   "outputs": [],
   "source": [
    "def sigmoid(x):\n",
    "    return 1 / (1 + np.exp(-x))"
   ]
  },
  {
   "cell_type": "code",
   "execution_count": 16,
   "id": "80e7f146",
   "metadata": {},
   "outputs": [],
   "source": [
    "def softmax(x):\n",
    "    power = np.exp(x - np.max(x))\n",
    "    return power / power.sum(axis=0, keepdims=True)"
   ]
  },
  {
   "cell_type": "code",
   "execution_count": 17,
   "id": "dcd00434",
   "metadata": {},
   "outputs": [],
   "source": [
    "def de_sigmoid(x):\n",
    "    return sigmoid(x) * (1 - sigmoid(x))"
   ]
  },
  {
   "cell_type": "code",
   "execution_count": 18,
   "id": "99d50ee7",
   "metadata": {},
   "outputs": [],
   "source": [
    "def forward(X, W1, W2):\n",
    "    Z1 = W1.dot(X.T)\n",
    "    A1 = sigmoid(Z1)\n",
    "    Z2 = W2.dot(A1)\n",
    "    A2 = softmax(Z2)\n",
    "    return A1, W1, Z1, A2, W2, Z2"
   ]
  },
  {
   "cell_type": "code",
   "execution_count": 19,
   "id": "b34bdff7",
   "metadata": {},
   "outputs": [],
   "source": [
    "def backward(X, Y, A1, W1, Z1, A2, W2, Z2):\n",
    "    dZ2 = A2 - Y.T\n",
    "    dW2 = dZ2.dot(A1.T) / n\n",
    "    dZ1 = W2.T.dot(dZ2) * de_sigmoid(Z1)\n",
    "    dW1 = dZ1.dot(X) / n\n",
    "    return dW1, dW2"
   ]
  },
  {
   "cell_type": "code",
   "execution_count": 20,
   "id": "2bcdfef4",
   "metadata": {},
   "outputs": [],
   "source": [
    "def predict(W1, W2, X, Y):\n",
    "    A1, W1, Z1, A2, W2, Z2 = forward(X, W1, W2)\n",
    "    y_hat = np.argmax(A2, axis=0)\n",
    "    Y = np.argmax(Y, axis = 1)\n",
    "    accuracy = (y_hat == Y).mean()\n",
    "    return accuracy * 100"
   ]
  },
  {
   "cell_type": "code",
   "execution_count": 21,
   "id": "c1e1c4cb",
   "metadata": {},
   "outputs": [],
   "source": [
    "def train_model(X, Y, alpha=0.1, epochs=1000):\n",
    "    W1, W2 = initialize_weights()\n",
    "    for epoch in range(epochs):\n",
    "        A1, W1, Z1, A2, W2, Z2 = forward(X, W1, W2)\n",
    "        cost = -np.mean(Y*np.log(A2.T))\n",
    "        dW1, dW2 = backward(X, Y, A1, W1, Z1, A2, W2, Z2)\n",
    "        W1 = W1 - alpha * dW1\n",
    "        W2 = W2 - alpha * dW2\n",
    "        acc = predict(W1, W2, X, Y)\n",
    "        if epoch % 100 == 0:\n",
    "            print(\"Cost: \", cost, \"Train Accuracy:\", acc)\n",
    "        if epoch % 10 == 0:\n",
    "            costs.append(cost)\n",
    "            accuracies.append(acc)\n",
    "    return W1, W2"
   ]
  },
  {
   "cell_type": "code",
   "execution_count": 29,
   "id": "72ad693e",
   "metadata": {},
   "outputs": [],
   "source": []
  },
  {
   "cell_type": "code",
   "execution_count": 22,
   "id": "e011a358",
   "metadata": {},
   "outputs": [
    {
     "name": "stdout",
     "output_type": "stream",
     "text": [
      "Cost:  0.256191797254474 Train Accuracy: 11.341666666666667\n",
      "Cost:  0.14406876298661128 Train Accuracy: 76.73333333333333\n",
      "Cost:  0.08921766689732809 Train Accuracy: 82.72\n",
      "Cost:  0.06739963980011884 Train Accuracy: 85.08166666666666\n",
      "Cost:  0.056732240723181455 Train Accuracy: 86.46666666666667\n",
      "Cost:  0.050466148005605976 Train Accuracy: 87.375\n",
      "Cost:  0.04635643853506467 Train Accuracy: 88.07000000000001\n",
      "Cost:  0.04345948809526793 Train Accuracy: 88.51833333333333\n",
      "Cost:  0.04130702645955707 Train Accuracy: 88.905\n",
      "Cost:  0.03964092471893279 Train Accuracy: 89.21666666666667\n",
      "W1:  [[ 0.06387959  0.01558964  0.00344634 ...  0.08277767  0.00929431\n",
      "  -0.00038197]\n",
      " [-0.00828491 -0.00411447 -0.00972382 ... -0.0092874   0.02090517\n",
      "   0.01205078]\n",
      " [ 0.04697977 -0.06075401  0.04262657 ... -0.01848008 -0.04617226\n",
      "  -0.01070867]\n",
      " ...\n",
      " [-0.01228752  0.00400334  0.01453675 ... -0.01899857  0.06378976\n",
      "  -0.03112804]\n",
      " [-0.02444201  0.02162284  0.0545243  ...  0.01429953 -0.00783727\n",
      "   0.00728019]\n",
      " [ 0.06522928  0.00296104 -0.01780432 ... -0.00843963 -0.01591286\n",
      "  -0.00647058]]\n",
      "W2:  [[ 0.15689243 -0.29403058 -0.03860631 ...  0.08442939 -0.02338184\n",
      "   0.00810951]\n",
      " [-0.31500825  0.23140175 -0.05423303 ...  0.24334228 -0.09026411\n",
      "   0.14149593]\n",
      " [-0.00214836 -0.01527291  0.04348549 ...  0.26576741 -0.08201976\n",
      "   0.22621328]\n",
      " ...\n",
      " [ 0.00894294  0.04981775  0.06334355 ...  0.21332177 -0.25372481\n",
      "   0.13634767]\n",
      " [ 0.06209028 -0.05716746 -0.12477362 ... -0.2825731   0.14874309\n",
      "  -0.06183961]\n",
      " [-0.14400217 -0.14371943 -0.21493422 ... -0.00519418 -0.00290808\n",
      "  -0.06313539]]\n"
     ]
    }
   ],
   "source": [
    "W1, W2 = train_model(X_train, Y_train)\n",
    "print(\"W1: \", W1)\n",
    "print(\"W2: \", W2)"
   ]
  },
  {
   "cell_type": "code",
   "execution_count": 23,
   "id": "29177d2c",
   "metadata": {},
   "outputs": [
    {
     "data": {
      "text/plain": [
       "89.46833333333333"
      ]
     },
     "execution_count": 23,
     "metadata": {},
     "output_type": "execute_result"
    }
   ],
   "source": [
    "predict(W1, W2, X_train, Y_train)"
   ]
  },
  {
   "cell_type": "code",
   "execution_count": null,
   "id": "da15c1da",
   "metadata": {},
   "outputs": [],
   "source": [
    "# batch size == 60000 (full dataset)\n",
    "# and learning rate = 0.1\n",
    "# and epochs = 1000"
   ]
  },
  {
   "cell_type": "code",
   "execution_count": 24,
   "id": "e3b223c0",
   "metadata": {},
   "outputs": [
    {
     "data": {
      "text/plain": [
       "89.99000000000001"
      ]
     },
     "execution_count": 24,
     "metadata": {},
     "output_type": "execute_result"
    }
   ],
   "source": [
    "predict(W1, W2, X_test, Y_test)"
   ]
  },
  {
   "cell_type": "code",
   "execution_count": 49,
   "id": "e63a3bf8",
   "metadata": {},
   "outputs": [],
   "source": [
    "test_error = 100 - predict(W1, W2, X_test, Y_test)"
   ]
  },
  {
   "cell_type": "code",
   "execution_count": 50,
   "id": "8361ff4e",
   "metadata": {},
   "outputs": [
    {
     "data": {
      "text/plain": [
       "10.009999999999991"
      ]
     },
     "execution_count": 50,
     "metadata": {},
     "output_type": "execute_result"
    }
   ],
   "source": [
    "test_error"
   ]
  },
  {
   "cell_type": "code",
   "execution_count": 44,
   "id": "91a693d9",
   "metadata": {},
   "outputs": [],
   "source": [
    "def plot_cost():\n",
    "    plt.figure()\n",
    "    plt.plot(epochs, costs)\n",
    "    plt.xlabel(\"epochs\")\n",
    "    plt.ylabel(\"cost\")\n",
    "    plt.show()"
   ]
  },
  {
   "cell_type": "code",
   "execution_count": 45,
   "id": "8e27ad36",
   "metadata": {},
   "outputs": [
    {
     "data": {
      "image/png": "[encoded data removed]",
      "text/plain": [
       "<Figure size 432x288 with 1 Axes>"
      ]
     },
     "metadata": {
      "needs_background": "light"
     },
     "output_type": "display_data"
    }
   ],
   "source": [
    "plot_cost()"
   ]
  },
  {
   "cell_type": "code",
   "execution_count": 47,
   "id": "c1267600",
   "metadata": {},
   "outputs": [],
   "source": [
    "def plot_accuracy():\n",
    "    plt.figure()\n",
    "    plt.plot(epochs, accuracies)\n",
    "    plt.xlabel(\"epochs\")\n",
    "    plt.ylabel(\"accuracy\")\n",
    "    plt.show()"
   ]
  },
  {
   "cell_type": "code",
   "execution_count": 48,
   "id": "ee2cad13",
   "metadata": {},
   "outputs": [
    {
     "data": {
      "image/png": "[encoded data removed]",
      "text/plain": [
       "<Figure size 432x288 with 1 Axes>"
      ]
     },
     "metadata": {
      "needs_background": "light"
     },
     "output_type": "display_data"
    }
   ],
   "source": [
    "plot_accuracy()"
   ]
  },
  {
   "cell_type": "code",
   "execution_count": 39,
   "id": "e6974b66",
   "metadata": {},
   "outputs": [],
   "source": [
    "epochs=[]\n",
    "for i in range(0,1000,10):\n",
    "    epochs.append(i)"
   ]
  },
  {
   "cell_type": "code",
   "execution_count": 40,
   "id": "cb137833",
   "metadata": {},
   "outputs": [
    {
     "data": {
      "text/plain": [
       "100"
      ]
     },
     "execution_count": 40,
     "metadata": {},
     "output_type": "execute_result"
    }
   ],
   "source": [
    "len(epochs)"
   ]
  },
  {
   "cell_type": "code",
   "execution_count": 41,
   "id": "2c38fa10",
   "metadata": {},
   "outputs": [
    {
     "data": {
      "text/plain": [
       "100"
      ]
     },
     "execution_count": 41,
     "metadata": {},
     "output_type": "execute_result"
    }
   ],
   "source": [
    "len(costs)"
   ]
  },
  {
   "cell_type": "code",
   "execution_count": null,
   "id": "9404d8a1",
   "metadata": {},
   "outputs": [],
   "source": []
  }
 ],
 "metadata": {
  "kernelspec": {
   "display_name": "Python 3 (ipykernel)",
   "language": "python",
   "name": "python3"
  },
  "language_info": {
   "codemirror_mode": {
    "name": "ipython",
    "version": 3
   },
   "file_extension": ".py",
   "mimetype": "text/x-python",
   "name": "python",
   "nbconvert_exporter": "python",
   "pygments_lexer": "ipython3",
   "version": "3.9.12"
  }
 },
 "nbformat": 4,
 "nbformat_minor": 5
}
